{
 "cells": [
  {
   "cell_type": "markdown",
   "id": "515b48b7",
   "metadata": {},
   "source": [
    "# *ml-1J-create-premade-train-val.ipynb*\n",
    "\n",
    "# Create datasets for every 0.001 sample we're using\n",
    "\n",
    "Datasets for different folds of year-wise cross-validation for 12 combinations of region, crop, compositing scheme, and in-season date\n",
    "\n",
    "### This notebook only needs to get run once.\n",
    "\n",
    "After running this notebook, we can run ml-1H and beyond which does fit_predict_report() really fast.\n"
   ]
  },
  {
   "cell_type": "code",
   "execution_count": 1,
   "id": "b2d28217",
   "metadata": {},
   "outputs": [],
   "source": [
    "import numpy as np\n",
    "import pandas as pd\n",
    "import os\n",
    "\n",
    "from sklearn.model_selection import train_test_split"
   ]
  },
  {
   "cell_type": "code",
   "execution_count": 2,
   "id": "5ef01eea",
   "metadata": {},
   "outputs": [],
   "source": [
    "def create_X_y_single_year(tile,year,scheme_name,crop_of_interest_id,\n",
    "                          in_season=None):\n",
    "    coiid = crop_of_interest_id\n",
    "    \n",
    "    refl = np.load(f'../data/composited_interpolated/Refl_{tile}_{year}_{scheme_name}.npy')\n",
    "\n",
    "    # Determine nrf (number of reflectance features)\n",
    "    if in_season not in [160, 230, None]:\n",
    "        print('Please change in_season to 160, 230, or None.')\n",
    "        return None\n",
    "    if in_season is None:\n",
    "        nrf = refl.shape[1]\n",
    "    if in_season in [160, 230]:\n",
    "        pdsize = int(scheme_name[:-3])\n",
    "        nrf = ((in_season - 90) // pdsize) * 6 + 6\n",
    "        \n",
    "    crop = []\n",
    "    for y in range(year-4,year+1):\n",
    "        crop.append(np.load(f'../data/processed_crop/Crop_{tile}_{y}.npy')==coiid)\n",
    "\n",
    "    X = np.column_stack([refl[:,:nrf]] + crop[:-1])\n",
    "    y = crop[-1]\n",
    "    \n",
    "    return X, y"
   ]
  },
  {
   "cell_type": "code",
   "execution_count": 3,
   "id": "48c3f441",
   "metadata": {},
   "outputs": [],
   "source": [
    "def create_X_y_multiyear(tile,\n",
    "                      years,\n",
    "                      scheme_name,\n",
    "                      crop_of_interest_id,\n",
    "                        in_season=None):\n",
    "    X_list = []\n",
    "    y_list = []\n",
    "    \n",
    "    for y in years:\n",
    "        X, y = create_X_y_single_year(tile,y,scheme_name,\n",
    "                                      crop_of_interest_id,\n",
    "                                     in_season)\n",
    "        X_list.append(X)\n",
    "        y_list.append(y)\n",
    "    \n",
    "    X = np.concatenate(X_list)\n",
    "    y = np.concatenate(y_list)\n",
    "    \n",
    "    return X, y"
   ]
  },
  {
   "cell_type": "code",
   "execution_count": 4,
   "id": "a8aa44f5",
   "metadata": {},
   "outputs": [],
   "source": [
    "def create_X_y(tile,\n",
    "              years,\n",
    "              scheme_name,\n",
    "              crop_of_interest_id,\n",
    "              in_season=None\n",
    "              ):\n",
    "    if type(years)==int:\n",
    "        return create_X_y_single_year(tile,\n",
    "                                      years,\n",
    "                                      scheme_name,\n",
    "                                      crop_of_interest_id,\n",
    "                                      in_season)\n",
    "    \n",
    "    return create_X_y_multiyear(tile,\n",
    "                              years,\n",
    "                              scheme_name,\n",
    "                              crop_of_interest_id,\n",
    "                              in_season)"
   ]
  },
  {
   "cell_type": "code",
   "execution_count": 8,
   "id": "a4ff9b53",
   "metadata": {
    "scrolled": true
   },
   "outputs": [],
   "source": [
    "def premake_Xy_trainval(training_sample_size,\n",
    "                      validation_sample_size,\n",
    "                      tile,\n",
    "                      years,\n",
    "                      scheme_name,\n",
    "                      crop_of_interest_id,\n",
    "                      in_season\n",
    "                      ):\n",
    "    \n",
    "    for val_year in years:\n",
    "          \n",
    "        strings = []\n",
    "        for arg in [tile,val_year,scheme_name,crop_of_interest_id,in_season]:\n",
    "            strings.append(f'{arg}')\n",
    "        most_of_name = '_'.join(strings) \n",
    "\n",
    "        Xy_trainval = ['X_train', 'X_val', 'y_train', 'y_val']\n",
    "        names = {}\n",
    "        for spec in Xy_trainval:\n",
    "            names[spec] = f'{most_of_name}_{spec}.npy'\n",
    "            \n",
    "        # check whether previously run and, if so, end the effort\n",
    "        loc = f'../data/premade_{training_sample_size}_{validation_sample_size}'\n",
    "        already_there = []\n",
    "        for spec in Xy_trainval:\n",
    "            already_there.append(names[spec] in os.listdir(loc))\n",
    "        if sum(already_there)==4:\n",
    "            continue\n",
    "            #return 'If you see this, all 4 specified datasets were previously created.'\n",
    "\n",
    "      \n",
    "        print(f'-- Assembling 4 datasets for {most_of_name}--')\n",
    "        \n",
    "        train_years = [yr for yr in range(2018,2023) if yr!=val_year]\n",
    "\n",
    "        # Get complete datasets\n",
    "        X_train0, y_train0 = create_X_y(tile,train_years,\n",
    "                                      scheme_name,crop_of_interest_id,\n",
    "                                       in_season)\n",
    "        X_val0, y_val0 = create_X_y(tile,val_year,\n",
    "                                  scheme_name,crop_of_interest_id,\n",
    "                                  in_season)\n",
    "\n",
    "        # Trim datasets down to sample size\n",
    "        X_train, X_trsurplus, y_train, y_trsurplus = train_test_split(X_train0,\n",
    "                                 y_train0,\n",
    "                                 train_size=training_sample_size,\n",
    "                                 random_state=19)\n",
    "\n",
    "        X_val, X_vsurplus, y_val, y_vsurplus = train_test_split(X_val0,\n",
    "                                 y_val0,\n",
    "                                 train_size=validation_sample_size,\n",
    "                                 random_state=19)\n",
    "\n",
    "        # Save down the 4 datasets we care about\n",
    "        n=names['X_train']\n",
    "        np.save(f'{loc}/{n}',\n",
    "                X_train,\n",
    "                allow_pickle=False)\n",
    "        \n",
    "        n=names['X_val']\n",
    "        np.save(f'{loc}/{n}',\n",
    "            X_val,\n",
    "            allow_pickle=False)\n",
    "        \n",
    "        n=names['y_train']\n",
    "        np.save(f'{loc}/{n}',\n",
    "            y_train,\n",
    "            allow_pickle=False)\n",
    "        \n",
    "        n=names['y_val']\n",
    "        np.save(f'{loc}/{n}',\n",
    "            y_val,\n",
    "            allow_pickle=False)\n",
    "        \n",
    "        print(f'Done. Find results in {loc}')\n",
    "    \n",
    "    return f'Find results in {loc}'"
   ]
  },
  {
   "cell_type": "code",
   "execution_count": null,
   "id": "b520e105-4ab3-4aa6-8ad3-016e71032cd4",
   "metadata": {},
   "outputs": [],
   "source": []
  },
  {
   "cell_type": "code",
   "execution_count": null,
   "id": "f5d89382-d4ae-4c1d-85b7-7b3b07419924",
   "metadata": {},
   "outputs": [],
   "source": [
    "premake_Xy_trainval(0.001,0.001,\n",
    "                      '10SFH',\n",
    "                      [2018,2019,2020,2021,2022],\n",
    "                      '5day',\n",
    "                      75,\n",
    "                      160\n",
    "                      )"
   ]
  },
  {
   "cell_type": "code",
   "execution_count": null,
   "id": "7ef0d216-c7b7-4100-91bd-cfb869b4a62e",
   "metadata": {},
   "outputs": [],
   "source": []
  },
  {
   "cell_type": "code",
   "execution_count": null,
   "id": "00a118f0-0f9c-4088-b87b-ed0f06e10955",
   "metadata": {},
   "outputs": [],
   "source": []
  },
  {
   "cell_type": "markdown",
   "id": "57807c0c",
   "metadata": {
    "tags": []
   },
   "source": [
    "## Create all 0.001_0.001 datasets\n",
    "\n",
    "Just need to keep running this until all the 0.001_0.001 datasets get made!\n"
   ]
  },
  {
   "cell_type": "code",
   "execution_count": 9,
   "id": "11cfd0b1",
   "metadata": {},
   "outputs": [
    {
     "name": "stdout",
     "output_type": "stream",
     "text": [
      "-- Assembling 4 datasets for 10SFH_2020_14day_75_None--\n",
      "Done. Find results in ../data/premade_0.001_0.001\n",
      "-- Assembling 4 datasets for 10SFH_2021_14day_75_None--\n",
      "Done. Find results in ../data/premade_0.001_0.001\n",
      "-- Assembling 4 datasets for 10SFH_2022_14day_75_None--\n",
      "Done. Find results in ../data/premade_0.001_0.001\n"
     ]
    }
   ],
   "source": [
    "training_sample_size = 0.001\n",
    "validation_sample_size = 0.001\n",
    "years = [2018,2019,2020,2021,2022]\n",
    "\n",
    "for tile_coiid in [('10SFH',75),('15TVG',1)]:\n",
    "    for scheme_name in ['14day','5day']:\n",
    "        for in_season in [160, 230, None]:\n",
    "            premake_Xy_trainval(training_sample_size,\n",
    "                      validation_sample_size,\n",
    "                      tile_coiid[0],\n",
    "                      years,\n",
    "                      scheme_name,\n",
    "                      tile_coiid[1],\n",
    "                      in_season\n",
    "                      )"
   ]
  },
  {
   "cell_type": "code",
   "execution_count": null,
   "id": "bf84e948-7b44-438a-bddf-623a4dd58b27",
   "metadata": {},
   "outputs": [],
   "source": []
  },
  {
   "cell_type": "code",
   "execution_count": null,
   "id": "1fe9c251-28dd-4709-ad16-2725ff8237ed",
   "metadata": {},
   "outputs": [],
   "source": []
  },
  {
   "cell_type": "code",
   "execution_count": null,
   "id": "054c33b0-1d3b-46da-8208-4a60a4f6f111",
   "metadata": {},
   "outputs": [],
   "source": []
  }
 ],
 "metadata": {
  "kernelspec": {
   "display_name": "Python 3 (ipykernel)",
   "language": "python",
   "name": "python3"
  },
  "language_info": {
   "codemirror_mode": {
    "name": "ipython",
    "version": 3
   },
   "file_extension": ".py",
   "mimetype": "text/x-python",
   "name": "python",
   "nbconvert_exporter": "python",
   "pygments_lexer": "ipython3",
   "version": "3.9.12"
  }
 },
 "nbformat": 4,
 "nbformat_minor": 5
}
