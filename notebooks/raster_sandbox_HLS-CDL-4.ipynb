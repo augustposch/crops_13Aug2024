{
 "cells": [
  {
   "cell_type": "code",
   "execution_count": null,
   "id": "17dd29c6",
   "metadata": {},
   "outputs": [],
   "source": [
    "hls_dir='../data/hls_23feb23'\n",
    "years = range(2018,2023)\n",
    "tile = '15TVG'\n",
    "pixel = [400,1750]\n",
    "bands = ['Blue','Green','Red','NIR','SWIR1','SWIR2']\n",
    "figure_save_loc = '../figures/eda-pixel'\n",
    "state = 'Iowa'\n",
    "crop = 'Corn'\n",
    "\n",
    "for year in years:\n",
    "    print(f'- Working on year {year} -')\n",
    "    granule_paths = ape.list_granule_paths(tile=tile,\n",
    "                           year=year,\n",
    "                           hls_dir=hls_dir,\n",
    "                           sats=['L30','S30'])\n",
    "    filtered_paths = ape.list_filtered_paths(granule_paths=granule_paths,\n",
    "                       pixel=pixel)\n",
    "\n",
    "    for band in bands:\n",
    "        refls, DOYs, sats = ape.gather_data(filtered_paths,\n",
    "                                    band,\n",
    "                                    pixel=pixel)\n",
    "        ### Snow filter ###\n",
    "        if band == 'Blue':\n",
    "            nsDOYs = [DOYs[loc] for loc,r in enumerate(refls) if r<2000]\n",
    "            print(f'There are {len(nonsnowy)} nonsnowy observations (Blue<2000).')\n",
    "        nsrefls = []\n",
    "        nssats = []\n",
    "        for loc,DOY in enumerate(DOYs):\n",
    "            if DOY in nsDOYs:\n",
    "                nsrefls.append(refls[loc])\n",
    "                nssats.append(sats[loc])\n",
    "        \n",
    "        ape.explore_data(nsrefls,\n",
    "                         nsDOYs,\n",
    "                         nssats,\n",
    "                         save_loc=figure_save_loc,\n",
    "                 tags = [state,crop,tile,str(pixel),year,band,'Snow-Removed'])"
   ]
  }
 ],
 "metadata": {
  "kernelspec": {
   "display_name": "Python 3 (pygdal-skl)",
   "language": "python",
   "name": "pygdal-skl"
  },
  "language_info": {
   "codemirror_mode": {
    "name": "ipython",
    "version": 3
   },
   "file_extension": ".py",
   "mimetype": "text/x-python",
   "name": "python",
   "nbconvert_exporter": "python",
   "pygments_lexer": "ipython3",
   "version": "3.11.0"
  }
 },
 "nbformat": 4,
 "nbformat_minor": 5
}
