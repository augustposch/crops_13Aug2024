{
 "cells": [
  {
   "cell_type": "markdown",
   "id": "5d467f09",
   "metadata": {},
   "source": [
    "## Rasters Sandbox\n",
    "\n",
    "August Posch, Jan 2023"
   ]
  },
  {
   "cell_type": "code",
   "execution_count": 1,
   "id": "3cd1aed0",
   "metadata": {},
   "outputs": [],
   "source": [
    "import numpy as np\n",
    "\n",
    "import pandas as pd\n",
    "\n",
    "import matplotlib.pyplot as plt\n",
    "\n",
    "import rasterio\n",
    "\n",
    "from sklearn.utils import shuffle\n",
    "\n",
    "from sklearn.ensemble import RandomForestClassifier\n",
    "from sklearn.ensemble import ExtraTreesClassifier\n",
    "from sklearn.ensemble import HistGradientBoostingClassifier\n",
    "\n",
    "from sklearn.model_selection import train_test_split\n",
    "\n",
    "from sklearn.metrics import precision_score, recall_score, f1_score\n",
    "from sklearn.model_selection import train_test_split, cross_val_score, cross_validate\n",
    "from sklearn.model_selection import validation_curve\n",
    "\n",
    "import sys\n",
    "sys.path.append('../src/')\n",
    "import aposch_cv_src as aposch"
   ]
  },
  {
   "cell_type": "markdown",
   "id": "0dcbdf7a",
   "metadata": {},
   "source": [
    "# An actual machine learning script\n",
    "\n",
    "We will collect 5 years of data and use the first 4 years to predict the last year."
   ]
  },
  {
   "cell_type": "code",
   "execution_count": 7,
   "id": "1c3c9d20",
   "metadata": {},
   "outputs": [
    {
     "name": "stdout",
     "output_type": "stream",
     "text": [
      "Loading tiff file ../Data/YoloCountyCDL_2017/clipped.TIF\n",
      "Feature for year 2017 is length n=23090594\n",
      "Loading tiff file ../Data/YoloCountyCDL_2018/clipped.TIF\n",
      "Feature for year 2018 is length n=23090594\n",
      "Loading tiff file ../Data/YoloCountyCDL_2019/clipped.TIF\n",
      "Feature for year 2019 is length n=23090594\n",
      "Loading tiff file ../Data/YoloCountyCDL_2020/clipped.TIF\n",
      "Feature for year 2020 is length n=23090594\n",
      "Loading tiff file ../Data/YoloCountyCDL_2021/clipped.TIF\n",
      "Feature for year 2021 is length n=23090594\n"
     ]
    }
   ],
   "source": [
    "county = 'Yolo'\n",
    "years = range(2017,2022)\n",
    "features = []\n",
    "\n",
    "for year in years:\n",
    "    tiff = f'../Data/{county}CountyCDL_{year}/clipped.TIF'\n",
    "    print('Loading tiff file', tiff)\n",
    "    with rasterio.open(tiff) as src:\n",
    "        array = src.read(1)\n",
    "        feature = array.flatten()\n",
    "        features.append(feature)\n",
    "        print(f'Feature for year {year} is length n={len(feature)}')"
   ]
  },
  {
   "cell_type": "code",
   "execution_count": 8,
   "id": "86dba310",
   "metadata": {},
   "outputs": [
    {
     "name": "stdout",
     "output_type": "stream",
     "text": [
      "Cleaning data...\n",
      "(4840554, 5)\n"
     ]
    }
   ],
   "source": [
    "print('Cleaning data...')\n",
    "X_y = np.stack(features).T\n",
    "X_y = np.delete(X_y, X_y[:,-1]==255, axis=0) # remove the background part of the image\n",
    "print(X_y.shape)"
   ]
  },
  {
   "cell_type": "code",
   "execution_count": 9,
   "id": "7e507878",
   "metadata": {},
   "outputs": [
    {
     "name": "stdout",
     "output_type": "stream",
     "text": [
      "Looking for pixels with low counts (problem)\n",
      "[[     1      2      3      4      5      6     12     13     21     23\n",
      "      24     27     28     29     33     36     37     42     43     44\n",
      "      47     48     49     50     51     53     54     57     58     61\n",
      "      66     67     68     69     71     72     74     75     76     77\n",
      "      92    111    112    121    122    123    124    131    141    142\n",
      "     143    152    176    190    195    204    205    206    208    209\n",
      "     211    212    213    214    216    217    219    220    221    222\n",
      "     224    225    226    227    228    229    236    243]\n",
      " [ 31671    178 150221   3085      4 158093   1136   1104  15452   1440\n",
      "  299196   4650  29451    467  41766 238178  97915   4193      2  12483\n",
      "     362   5740    482   4394    117    745 263633    940  57902 491366\n",
      "     527    186   2713 152167    841    976    946 422944 188402   1572\n",
      "       5  55918      4  97470  84719 109663  43817  14000    510  36296\n",
      "   32523 800617 688450   7754  50777  18527  27998    739   2432    306\n",
      "   36880    328   9618    172   5883     49    120  16784    312   1723\n",
      "    3760   1866    333     60    855    226   1336     84]]\n",
      "Problem IDs are [  5  43 112]\n",
      "Removing problem-ID pixels\n"
     ]
    }
   ],
   "source": [
    "# Problem: some categories have a very low count and\n",
    "# won't work for our classifier\n",
    "# we see this is 59\n",
    "\n",
    "print('Looking for pixels with low counts (problem)')\n",
    "unique, counts = np.unique(X_y[:,-1], return_counts=True)\n",
    "unq_cnts = np.asarray((unique, counts))\n",
    "print(unq_cnts)\n",
    "problem_IDs = unique[counts<5]\n",
    "print('Problem IDs are', problem_IDs)\n",
    "print('Removing problem-ID pixels')\n",
    "for pid in problem_IDs:\n",
    "    X_y = np.delete(X_y, X_y[:,-1]==pid, axis=0)\n"
   ]
  },
  {
   "cell_type": "code",
   "execution_count": 10,
   "id": "658eb63a",
   "metadata": {},
   "outputs": [
    {
     "name": "stdout",
     "output_type": "stream",
     "text": [
      "Last cleaning steps...\n",
      "All cleaned.\n"
     ]
    }
   ],
   "source": [
    "print('Last cleaning steps...')\n",
    "X_y = shuffle(X_y, random_state=19)\n",
    "X = X_y[:,0:-1]\n",
    "y = X_y[:,-1]\n",
    "print('All cleaned.')"
   ]
  },
  {
   "cell_type": "markdown",
   "id": "36ffaa1f",
   "metadata": {},
   "source": [
    "Classifier:"
   ]
  },
  {
   "cell_type": "code",
   "execution_count": 11,
   "id": "474e747e",
   "metadata": {
    "scrolled": true
   },
   "outputs": [
    {
     "name": "stdout",
     "output_type": "stream",
     "text": [
      "Performing 5-fold cross-validation...\n",
      "Doing the first fold...\n",
      "Finished scoring that fold. Doing the next task...\n",
      "Finished scoring that fold. Doing the next task...\n",
      "Finished scoring that fold. Doing the next task...\n",
      "Finished scoring that fold. Doing the next task...\n",
      "Finished scoring that fold. Doing the next task...\n",
      "Aggregating the scores...\n",
      "               mean       std\n",
      "precision  0.736575  0.002142\n",
      "recall     0.723549  0.005089\n",
      "f1         0.726503  0.003436\n"
     ]
    },
    {
     "data": {
      "text/plain": [
       "(array([[ 8414,    16,    64, ...,   101,    20,    13],\n",
       "        [    1,     1,     2, ...,     0,     0,     3],\n",
       "        [   88,   321, 99496, ...,    85,   747,    21],\n",
       "        ...,\n",
       "        [    2,     0,     0, ...,     8,     0,     1],\n",
       "        [    3,     0,    89, ...,     3,   842,     0],\n",
       "        [    0,     0,     0, ...,     0,     0,     3]]),\n",
       "                mean       std\n",
       " precision  0.736575  0.002142\n",
       " recall     0.723549  0.005089\n",
       " f1         0.726503  0.003436)"
      ]
     },
     "execution_count": 11,
     "metadata": {},
     "output_type": "execute_result"
    }
   ],
   "source": [
    "aposch.cv_readout(\n",
    "    HistGradientBoostingClassifier(categorical_features=[1,1,1,1]),\n",
    "                                            X,\n",
    "                                            y)"
   ]
  },
  {
   "cell_type": "markdown",
   "id": "974efd51",
   "metadata": {},
   "source": [
    "We did it! So, what was odd about this toy example?\n",
    "- we removed a few pixels (<20 out of 2 million) because they came from rare classes\n",
    "- I'm \"cheating\" compared to Shashank in that I used non-crop pixels like buildings\n",
    "- it would be difficult to get our predicted classes back into raster form and make an image\n",
    "- for science, we need to hold out a test set\n",
    "\n",
    "Next Steps:\n",
    "- calculate more performance metrics (crop-wise performance, other metrics)\n",
    "\n",
    "Already Fixed:\n",
    "- we had limited performance metrics (i.e. only precision and recall and f1, and only weighted pixel-wise globally)\n",
    "- precision ill-defined error"
   ]
  },
  {
   "cell_type": "code",
   "execution_count": null,
   "id": "c96efcd7",
   "metadata": {},
   "outputs": [],
   "source": []
  },
  {
   "cell_type": "code",
   "execution_count": null,
   "id": "dc62a859",
   "metadata": {},
   "outputs": [],
   "source": []
  },
  {
   "cell_type": "markdown",
   "id": "8c456606",
   "metadata": {},
   "source": [
    "## Old lives below"
   ]
  },
  {
   "cell_type": "code",
   "execution_count": null,
   "id": "f50d87ea",
   "metadata": {},
   "outputs": [],
   "source": [
    "with rasterio.open('Data/LeeCountyCDL_2021/clipped.TIF') as src:\n",
    "    print(src.width, src.height)\n",
    "    print(src.crs)\n",
    "    print(src.transform)\n",
    "    print(src.count)\n",
    "    print(src.indexes)"
   ]
  },
  {
   "cell_type": "code",
   "execution_count": null,
   "id": "032f3e23",
   "metadata": {},
   "outputs": [],
   "source": [
    "special_nbr = 365\n",
    "low_nbr = 8\n",
    "interjection = \"Aha!\"\n",
    "\n",
    "string = f\"I work {special_nbr} days per year\"\n",
    "\n",
    "string2 = f\"I work {special_nbr} days per year and I sleep {low_nbr} hours every night.\"\n",
    "\n",
    "string3 = f\"{interjection} I work {special_nbr} days per year and I sleep {low_nbr} hours every night.\"\n",
    "\n",
    "\n",
    "print(string)\n",
    "print(string2)\n",
    "print(string3)"
   ]
  },
  {
   "cell_type": "code",
   "execution_count": null,
   "id": "6bfb112d",
   "metadata": {},
   "outputs": [],
   "source": [
    "src = rasterio.open('Data/LeeCountyCDL_2021/clipped.TIF')\n",
    "plt.imshow(src.read(1), cmap='pink')\n",
    "plt.show()"
   ]
  },
  {
   "cell_type": "code",
   "execution_count": null,
   "id": "d89ab4d9",
   "metadata": {},
   "outputs": [],
   "source": [
    "src = rasterio.open('../Data/LeeCountyCDL_2021/clipped.TIF')\n",
    "array1 = src.read(1)\n",
    "plt.imshow(array1)\n",
    "plt.show()"
   ]
  },
  {
   "cell_type": "code",
   "execution_count": null,
   "id": "2592327e",
   "metadata": {
    "scrolled": true
   },
   "outputs": [],
   "source": [
    "from rasterio.plot import show_hist\n",
    "show_hist(\n",
    "    src, bins=50, lw=0.0, stacked=False, alpha=0.3,\n",
    "    histtype='stepfilled', title=\"Histogram\")"
   ]
  },
  {
   "cell_type": "code",
   "execution_count": null,
   "id": "0ee4e286",
   "metadata": {},
   "outputs": [],
   "source": [
    "array1.shape"
   ]
  },
  {
   "cell_type": "markdown",
   "id": "7c3b8f8e",
   "metadata": {},
   "source": [
    "255 is white, so this array must include the white border around the edge"
   ]
  },
  {
   "cell_type": "code",
   "execution_count": null,
   "id": "ef64aa4b",
   "metadata": {},
   "outputs": [],
   "source": [
    "array1"
   ]
  },
  {
   "cell_type": "code",
   "execution_count": null,
   "id": "29a62c7c",
   "metadata": {},
   "outputs": [],
   "source": [
    "np.mean(array1)"
   ]
  },
  {
   "cell_type": "code",
   "execution_count": null,
   "id": "b18a685e",
   "metadata": {},
   "outputs": [],
   "source": [
    "flat = array1.flatten()"
   ]
  },
  {
   "cell_type": "code",
   "execution_count": null,
   "id": "ea03e270",
   "metadata": {},
   "outputs": [],
   "source": [
    "flat.shape"
   ]
  },
  {
   "cell_type": "code",
   "execution_count": null,
   "id": "30fcd786",
   "metadata": {},
   "outputs": [],
   "source": [
    "X_y = np.stack([flat, flat, flat]).T"
   ]
  },
  {
   "cell_type": "markdown",
   "id": "b2c583e5",
   "metadata": {
    "scrolled": true
   },
   "source": [
    "Note: We don't yet have the legend/reference of which crop ID corresponds to which crop and which color. But no worries, we can still do machine learning!"
   ]
  },
  {
   "cell_type": "code",
   "execution_count": null,
   "id": "9ba081e8",
   "metadata": {},
   "outputs": [],
   "source": [
    "X_y"
   ]
  },
  {
   "cell_type": "code",
   "execution_count": null,
   "id": "c7d0ffb5",
   "metadata": {},
   "outputs": [],
   "source": [
    "X = X_y[:,0:-1]\n",
    "y = X_y[:,-1].reshape(-1,1)\n"
   ]
  },
  {
   "cell_type": "code",
   "execution_count": null,
   "id": "bc80d3ed",
   "metadata": {},
   "outputs": [],
   "source": [
    "print(X.shape, y.shape)"
   ]
  },
  {
   "cell_type": "code",
   "execution_count": null,
   "id": "c6993b92",
   "metadata": {
    "scrolled": true
   },
   "outputs": [],
   "source": [
    "plt.imshow(array1, cmap='Set3')"
   ]
  },
  {
   "cell_type": "code",
   "execution_count": null,
   "id": "2a6b3506",
   "metadata": {
    "scrolled": true
   },
   "outputs": [],
   "source": [
    "plt.imshow(array1, cmap='tab10')"
   ]
  },
  {
   "cell_type": "code",
   "execution_count": null,
   "id": "f8d8f84f",
   "metadata": {},
   "outputs": [],
   "source": [
    "array2 = array1.flatten()"
   ]
  },
  {
   "cell_type": "code",
   "execution_count": null,
   "id": "38673458",
   "metadata": {},
   "outputs": [],
   "source": [
    "array2"
   ]
  },
  {
   "cell_type": "code",
   "execution_count": null,
   "id": "aed9d683",
   "metadata": {},
   "outputs": [],
   "source": [
    "array2.shape"
   ]
  },
  {
   "cell_type": "code",
   "execution_count": null,
   "id": "e9a30373",
   "metadata": {},
   "outputs": [],
   "source": [
    "print('hello')"
   ]
  }
 ],
 "metadata": {
  "kernelspec": {
   "display_name": "Python 3 (pygdal-skl)",
   "language": "python",
   "name": "pygdal-skl"
  },
  "language_info": {
   "codemirror_mode": {
    "name": "ipython",
    "version": 3
   },
   "file_extension": ".py",
   "mimetype": "text/x-python",
   "name": "python",
   "nbconvert_exporter": "python",
   "pygments_lexer": "ipython3",
   "version": "3.11.0"
  }
 },
 "nbformat": 4,
 "nbformat_minor": 5
}
