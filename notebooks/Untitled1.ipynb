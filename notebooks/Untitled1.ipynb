{
 "cells": [
  {
   "cell_type": "markdown",
   "id": "8f8025df-cba7-4d12-87f0-ec806314648c",
   "metadata": {},
   "source": [
    "\"Hyperparameters are how you cook the meal (recipe): What was the overn temperature, howe long did you cook it, did you use big chunks of fish or small chunks of fish. Parameters are the characteristics of the meal: how soft is the fish, how smoky does it taste.\n",
    "\n",
    "We want to know what is the best meal (tastes the best, based on metrics like yumminess, novelty, familiarity, presentation, etc.); then, we want to know, which recipe did we use to get there?\n",
    "\n",
    "^There are three concepts: Hyperparameters of the algorithm, parameters of the model, and performance/accuracy evaluation metrics."
   ]
  },
  {
   "cell_type": "code",
   "execution_count": null,
   "id": "3cde59fb-1117-4c85-b5b3-7b0e0419aa79",
   "metadata": {},
   "outputs": [],
   "source": []
  }
 ],
 "metadata": {
  "kernelspec": {
   "display_name": "",
   "name": ""
  },
  "language_info": {
   "name": ""
  }
 },
 "nbformat": 4,
 "nbformat_minor": 5
}
