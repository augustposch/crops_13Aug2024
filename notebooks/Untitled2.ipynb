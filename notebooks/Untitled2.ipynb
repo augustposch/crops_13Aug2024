{
 "cells": [
  {
   "cell_type": "code",
   "execution_count": 3,
   "id": "9b40e7ff-0282-466e-99f2-d2806962cd16",
   "metadata": {},
   "outputs": [],
   "source": [
    "import numpy as np"
   ]
  },
  {
   "cell_type": "code",
   "execution_count": 18,
   "id": "d6e40b53-2a13-424c-9f90-89a3e77b77f3",
   "metadata": {},
   "outputs": [],
   "source": [
    "loc = f'../data/premade_0.001_0.001'\n",
    "\n",
    "arr = np.load(f'{loc}/10SFH_2018_5day_75_160_X_val.npy')\n"
   ]
  },
  {
   "cell_type": "code",
   "execution_count": 19,
   "id": "2b5df7d3-61b4-4cfd-9685-efbddcebb32f",
   "metadata": {},
   "outputs": [
    {
     "data": {
      "text/plain": [
       "(13395, 94)"
      ]
     },
     "execution_count": 19,
     "metadata": {},
     "output_type": "execute_result"
    }
   ],
   "source": [
    "arr.shape"
   ]
  },
  {
   "cell_type": "code",
   "execution_count": 5,
   "id": "523a5d04-ff58-4d91-82d6-89783c4ce1a6",
   "metadata": {},
   "outputs": [
    {
     "ename": "NameError",
     "evalue": "name 'unique' is not defined",
     "output_type": "error",
     "traceback": [
      "\u001b[0;31m---------------------------------------------------------------------------\u001b[0m",
      "\u001b[0;31mNameError\u001b[0m                                 Traceback (most recent call last)",
      "Input \u001b[0;32mIn [5]\u001b[0m, in \u001b[0;36m<cell line: 1>\u001b[0;34m()\u001b[0m\n\u001b[0;32m----> 1\u001b[0m \u001b[43munique\u001b[49m([\u001b[38;5;241m3\u001b[39m,\u001b[38;5;241m4\u001b[39m,\u001b[38;5;241m4\u001b[39m])\n",
      "\u001b[0;31mNameError\u001b[0m: name 'unique' is not defined"
     ]
    }
   ],
   "source": [
    "unique([3,4,4])"
   ]
  },
  {
   "cell_type": "code",
   "execution_count": null,
   "id": "ec5f73aa-460c-46c9-8557-c15d04a30696",
   "metadata": {},
   "outputs": [],
   "source": []
  }
 ],
 "metadata": {
  "kernelspec": {
   "display_name": "Python 3 (ipykernel)",
   "language": "python",
   "name": "python3"
  },
  "language_info": {
   "codemirror_mode": {
    "name": "ipython",
    "version": 3
   },
   "file_extension": ".py",
   "mimetype": "text/x-python",
   "name": "python",
   "nbconvert_exporter": "python",
   "pygments_lexer": "ipython3",
   "version": "3.9.12"
  }
 },
 "nbformat": 4,
 "nbformat_minor": 5
}
