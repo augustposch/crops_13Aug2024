{
 "cells": [
  {
   "cell_type": "markdown",
   "id": "a5f8a0e1",
   "metadata": {},
   "source": [
    "# *eda-0B-create-crop-data.ipynb*\n",
    "\n",
    "# Read in CDL, reproject, convert to ML format, and save\n",
    "\n",
    "- Read in CDL\n",
    "- Reproject and resample CDL to HLS projection (UTM)\n",
    "- Convert to ML format\n",
    "- Save down each vector"
   ]
  },
  {
   "cell_type": "code",
   "execution_count": 1,
   "id": "0e4198bc",
   "metadata": {},
   "outputs": [],
   "source": [
    "import numpy as np\n",
    "import pandas as pd\n",
    "import matplotlib.pyplot as plt\n",
    "import rasterio\n",
    "import os"
   ]
  },
  {
   "cell_type": "code",
   "execution_count": 2,
   "id": "fabaa156",
   "metadata": {},
   "outputs": [],
   "source": [
    "from rasterio.warp import reproject"
   ]
  },
  {
   "cell_type": "markdown",
   "id": "f885ae6f",
   "metadata": {},
   "source": [
    "## California 10SFH Almonds"
   ]
  },
  {
   "cell_type": "markdown",
   "id": "150e848f",
   "metadata": {},
   "source": [
    "Read in and reproject all CDLs\n",
    "- specify years as range(2014,2023)\n",
    "- specify state as 'Iowa' or 'California'\n",
    "- specify tile as '10SFH' or '15TVG'\n",
    "- output is a dictionary of CDLs: state_dict which includes each year as a key and each array as a value\n",
    "- for each state-year, need to read in the national CDL, then use the reproject function to reproject and clip it to the HLS tile"
   ]
  },
  {
   "cell_type": "code",
   "execution_count": 3,
   "id": "db5d7cf0",
   "metadata": {},
   "outputs": [],
   "source": [
    "def read_cdl(years=range(2018,2023),\n",
    "             tile='10SFH',\n",
    "             also_return_affines=False):\n",
    "    \n",
    "    if tile=='10SFH':\n",
    "        full = 'HLS.L30.T10SFH.2020007T183941.v2.0'\n",
    "        hls_path = f'../data/hls_23feb23/L30/2020/10/S/F/H/{full}/{full}.B03.tif'\n",
    "    if tile=='15TVG':\n",
    "        full = 'HLS.L30.T15TVG.2020007T170001.v2.0'\n",
    "        hls_path = f'../data/hls_23feb23/L30/2020/15/T/V/G/{full}/{full}.B03.tif'\n",
    "    \n",
    "    src_hls = rasterio.open(hls_path)\n",
    "    \n",
    "    dict_of_arrays = {}\n",
    "    dict_of_affines = {}\n",
    "    \n",
    "    for year in years:\n",
    "        print(f'Working on CDL from year {year}...')\n",
    "        cdl_path = f'../data/NationalCDL_{year}/{year}_30m_cdls.tif'\n",
    "        with rasterio.open(cdl_path) as src_cdl:\n",
    "            array, affine = reproject(source=src_cdl.read(1), # this is an array\n",
    "              destination=src_hls.read(1), # this is another array\n",
    "              src_transform=src_cdl.transform, # this is the transform corresponding to first array\n",
    "              src_crs=src_cdl.crs, # this is the crs corresponding to first array\n",
    "              dst_transform=src_hls.transform, # this is the transform corresponding to second array\n",
    "              dst_crs=src_hls.crs, # this is the crs corresponding to second array\n",
    "              )\n",
    "        \n",
    "        dict_of_arrays[str(year)] = array\n",
    "        dict_of_affines[str(year)] = affine\n",
    "        \n",
    "    print('Finished with all CDLs.')\n",
    "    \n",
    "    if not also_return_affines:\n",
    "        return dict_of_arrays\n",
    "    if also_return_affines:\n",
    "        return dict_of_arrays, dict_of_affines"
   ]
  },
  {
   "cell_type": "code",
   "execution_count": 4,
   "id": "e3799db8",
   "metadata": {},
   "outputs": [
    {
     "name": "stdout",
     "output_type": "stream",
     "text": [
      "Working on CDL from year 2014...\n",
      "Working on CDL from year 2015...\n",
      "Working on CDL from year 2016...\n",
      "Working on CDL from year 2017...\n",
      "Working on CDL from year 2018...\n",
      "Working on CDL from year 2019...\n",
      "Working on CDL from year 2020...\n",
      "Working on CDL from year 2021...\n",
      "Working on CDL from year 2022...\n",
      "Finished with all CDLs.\n"
     ]
    }
   ],
   "source": [
    "dict_cdl_10SFH = read_cdl(years=range(2014,2023),\n",
    "                     tile='10SFH')"
   ]
  },
  {
   "cell_type": "code",
   "execution_count": 18,
   "id": "dab6d2c3",
   "metadata": {},
   "outputs": [
    {
     "data": {
      "text/plain": [
       "dtype('int16')"
      ]
     },
     "execution_count": 18,
     "metadata": {},
     "output_type": "execute_result"
    }
   ],
   "source": [
    "dict_cdl_10SFH['2014'].flatten().dtype"
   ]
  },
  {
   "cell_type": "code",
   "execution_count": 15,
   "id": "c2f52583",
   "metadata": {},
   "outputs": [
    {
     "data": {
      "text/plain": [
       "dict_keys(['2014', '2015', '2016', '2017', '2018', '2019', '2020', '2021', '2022'])"
      ]
     },
     "execution_count": 15,
     "metadata": {},
     "output_type": "execute_result"
    }
   ],
   "source": [
    "dict_cdl_10SFH.keys()"
   ]
  },
  {
   "cell_type": "code",
   "execution_count": null,
   "id": "e41cca66",
   "metadata": {},
   "outputs": [],
   "source": []
  },
  {
   "cell_type": "code",
   "execution_count": 19,
   "id": "7ab232d3",
   "metadata": {},
   "outputs": [],
   "source": [
    "for year in dict_cdl_10SFH.keys():\n",
    "    # save down the flattened thing\n",
    "    np.save(f'../data/processed-crop/Crop_10SFH_{year}.npy',\n",
    "        dict_cdl_10SFH[year].flatten(),\n",
    "        allow_pickle=False)"
   ]
  },
  {
   "cell_type": "markdown",
   "id": "1288beb8",
   "metadata": {},
   "source": [
    "### Create crop masks won't happen here\n",
    "\n",
    "There will be no masking in this notebook - the vectors we save down will be the crop codes for each pixel\n",
    "\n",
    "Note for later: Corn is id 1 and Almonds is id 75"
   ]
  },
  {
   "cell_type": "markdown",
   "id": "6be658da",
   "metadata": {},
   "source": [
    "## Iowa 15TVG Corn"
   ]
  },
  {
   "cell_type": "code",
   "execution_count": 20,
   "id": "ed981a35",
   "metadata": {},
   "outputs": [
    {
     "name": "stdout",
     "output_type": "stream",
     "text": [
      "Working on CDL from year 2014...\n",
      "Working on CDL from year 2015...\n",
      "Working on CDL from year 2016...\n",
      "Working on CDL from year 2017...\n",
      "Working on CDL from year 2018...\n",
      "Working on CDL from year 2019...\n",
      "Working on CDL from year 2020...\n",
      "Working on CDL from year 2021...\n",
      "Working on CDL from year 2022...\n",
      "Finished with all CDLs.\n"
     ]
    }
   ],
   "source": [
    "dict_cdl_15TVG = read_cdl(years=range(2014,2023),\n",
    "                     tile='10SFH')"
   ]
  },
  {
   "cell_type": "code",
   "execution_count": 21,
   "id": "40a4da6c",
   "metadata": {},
   "outputs": [
    {
     "data": {
      "text/plain": [
       "dtype('int16')"
      ]
     },
     "execution_count": 21,
     "metadata": {},
     "output_type": "execute_result"
    }
   ],
   "source": [
    "dict_cdl_15TVG['2014'].flatten().dtype"
   ]
  },
  {
   "cell_type": "code",
   "execution_count": 23,
   "id": "c55dc664",
   "metadata": {},
   "outputs": [
    {
     "data": {
      "text/plain": [
       "dict_keys(['2014', '2015', '2016', '2017', '2018', '2019', '2020', '2021', '2022'])"
      ]
     },
     "execution_count": 23,
     "metadata": {},
     "output_type": "execute_result"
    }
   ],
   "source": [
    "dict_cdl_15TVG.keys()"
   ]
  },
  {
   "cell_type": "code",
   "execution_count": null,
   "id": "49e51f11",
   "metadata": {},
   "outputs": [],
   "source": []
  },
  {
   "cell_type": "code",
   "execution_count": 24,
   "id": "662a8f13",
   "metadata": {},
   "outputs": [],
   "source": [
    "for year in dict_cdl_15TVG.keys():\n",
    "    # save down the flattened thing\n",
    "    np.save(f'../data/processed-crop/Crop_15TVG_{year}.npy',\n",
    "        dict_cdl_15TVG[year].flatten(),\n",
    "        allow_pickle=False)"
   ]
  },
  {
   "cell_type": "code",
   "execution_count": null,
   "id": "fe86a54d",
   "metadata": {},
   "outputs": [],
   "source": []
  },
  {
   "cell_type": "code",
   "execution_count": null,
   "id": "dd85f11d",
   "metadata": {},
   "outputs": [],
   "source": []
  },
  {
   "cell_type": "markdown",
   "id": "7cb4ccda",
   "metadata": {},
   "source": [
    "Read in crop type codes:"
   ]
  },
  {
   "cell_type": "code",
   "execution_count": 8,
   "id": "8a4e3beb",
   "metadata": {},
   "outputs": [],
   "source": [
    "cdlcnc = pd.read_csv('../data/CDL_codes_names_colors.csv', header=3)"
   ]
  }
 ],
 "metadata": {
  "kernelspec": {
   "display_name": "Python 3 (pygdal-skl)",
   "language": "python",
   "name": "pygdal-skl"
  },
  "language_info": {
   "codemirror_mode": {
    "name": "ipython",
    "version": 3
   },
   "file_extension": ".py",
   "mimetype": "text/x-python",
   "name": "python",
   "nbconvert_exporter": "python",
   "pygments_lexer": "ipython3",
   "version": "3.11.0"
  }
 },
 "nbformat": 4,
 "nbformat_minor": 5
}
