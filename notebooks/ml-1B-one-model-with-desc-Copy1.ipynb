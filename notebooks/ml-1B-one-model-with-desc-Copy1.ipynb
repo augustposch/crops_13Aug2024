{
 "cells": [
  {
   "cell_type": "markdown",
   "id": "515b48b7",
   "metadata": {},
   "source": [
    "New in version 1B: can now specify `in_season`, which is None (meaning use whole year), or 230 (thru DOY 230 which is mid-August), or 160 (thru DOY 160 which is early June)"
   ]
  },
  {
   "cell_type": "code",
   "execution_count": 15,
   "id": "b2d28217",
   "metadata": {},
   "outputs": [],
   "source": [
    "import numpy as np\n",
    "import pandas as pd\n",
    "\n",
    "from sklearn.ensemble import RandomForestClassifier\n",
    "from sklearn.ensemble import ExtraTreesClassifier\n",
    "from sklearn.linear_model import LogisticRegression\n",
    "from sklearn.model_selection import train_test_split\n",
    "from sklearn.pipeline import make_pipeline\n",
    "from sklearn.linear_model import SGDClassifier\n",
    "from sklearn.preprocessing import StandardScaler"
   ]
  },
  {
   "cell_type": "code",
   "execution_count": 12,
   "id": "9005989c",
   "metadata": {},
   "outputs": [
    {
     "data": {
      "text/plain": [
       "14"
      ]
     },
     "execution_count": 12,
     "metadata": {},
     "output_type": "execute_result"
    }
   ],
   "source": [
    "71 // 5"
   ]
  },
  {
   "cell_type": "markdown",
   "id": "d875380e",
   "metadata": {},
   "source": [
    "need:\n",
    "depending on scheme name, give me a different number of features.\n",
    "\n",
    "need:\n",
    "in_season=\n",
    "\n",
    "determine *nbr_features* based on combo of scheme_name and in_season.\n",
    "\n",
    "get *nbr_refl_feats* or *nrf*\n",
    "\n",
    "pdsize = int(scheme_name[:-3])\n",
    "nrf = ((in_season - 90) // pdsize) * 6 + 6\n",
    "\n",
    "Note:\n",
    "- for 14day and 160, nrf =\n",
    "- for 14day and 230, nrf =\n",
    "- for 5day and 160, nrf =\n",
    "- for 5day and 230, nrf ="
   ]
  },
  {
   "cell_type": "code",
   "execution_count": 37,
   "id": "5ef01eea",
   "metadata": {},
   "outputs": [],
   "source": [
    "def create_X_y_single_year(tile,year,scheme_name,crop_of_interest_id,\n",
    "                          in_season=None):\n",
    "    coiid = crop_of_interest_id\n",
    "    \n",
    "    refl = np.load(f'../data/composited_interpolated/Refl_{tile}_{year}_{scheme_name}.npy')\n",
    "\n",
    "    # Determine nrf (number of reflectance features)\n",
    "    if in_season not in [160, 230, None]:\n",
    "        print('Please change in_season to 160, 230, or None.')\n",
    "        return None\n",
    "    if in_season is None:\n",
    "        nrf = refl.shape[1]\n",
    "    if in_season in [160, 230]:\n",
    "        pdsize = int(scheme_name[:-3])\n",
    "        nrf = ((in_season - 90) // pdsize) * 6 + 6\n",
    "        \n",
    "    crop = []\n",
    "    for y in range(year-4,year+1):\n",
    "        crop.append(np.load(f'../data/processed_crop/Crop_{tile}_{y}.npy')==coiid)\n",
    "\n",
    "    X = np.column_stack([refl[:,:nrf]] + crop[:-1])\n",
    "    y = crop[-1]\n",
    "    \n",
    "    return X, y"
   ]
  },
  {
   "cell_type": "code",
   "execution_count": 38,
   "id": "48c3f441",
   "metadata": {},
   "outputs": [],
   "source": [
    "def create_X_y_multiyear(tile,\n",
    "                      years,\n",
    "                      scheme_name,\n",
    "                      crop_of_interest_id,\n",
    "                        in_season=None):\n",
    "    X_list = []\n",
    "    y_list = []\n",
    "    \n",
    "    for y in years:\n",
    "        X, y = create_X_y_single_year(tile,y,scheme_name,\n",
    "                                      crop_of_interest_id,\n",
    "                                     in_season)\n",
    "        X_list.append(X)\n",
    "        y_list.append(y)\n",
    "    \n",
    "    X = np.concatenate(X_list)\n",
    "    y = np.concatenate(y_list)\n",
    "    \n",
    "    return X, y"
   ]
  },
  {
   "cell_type": "code",
   "execution_count": 39,
   "id": "a8aa44f5",
   "metadata": {},
   "outputs": [],
   "source": [
    "def create_X_y(tile,\n",
    "              years,\n",
    "              scheme_name,\n",
    "              crop_of_interest_id,\n",
    "              in_season=None\n",
    "              ):\n",
    "    if type(years)==int:\n",
    "        return create_X_y_single_year(tile,\n",
    "                                      years,\n",
    "                                      scheme_name,\n",
    "                                      crop_of_interest_id,\n",
    "                                      in_season)\n",
    "    \n",
    "    return create_X_y_multiyear(tile,\n",
    "                              years,\n",
    "                              scheme_name,\n",
    "                              crop_of_interest_id,\n",
    "                              in_season)"
   ]
  },
  {
   "cell_type": "code",
   "execution_count": 42,
   "id": "a4ff9b53",
   "metadata": {
    "scrolled": true
   },
   "outputs": [],
   "source": [
    "def fit_predict_report(model_name,\n",
    "                      model,\n",
    "                      training_sample_size,\n",
    "                      tile,\n",
    "                      years,\n",
    "                      scheme_name,\n",
    "                      crop_of_interest_id,\n",
    "                      in_season\n",
    "                      ):\n",
    "\n",
    "    conf = []\n",
    "\n",
    "    for val_year in years:\n",
    "        print('Starting a fold...')\n",
    "        print('> Assembling the datasets')\n",
    "        train_years = [yr for yr in range(2018,2023) if yr!=val_year]\n",
    "\n",
    "        X_train0, y_train0 = create_X_y(tile,train_years,\n",
    "                                      scheme_name,crop_of_interest_id,\n",
    "                                       in_season)\n",
    "        X_val, y_val = create_X_y(tile,val_year,\n",
    "                                  scheme_name,crop_of_interest_id,\n",
    "                                  in_season)\n",
    "\n",
    "        if training_sample_size is not None:\n",
    "            X_train, X_surplus, y_train, y_surplus = train_test_split(X_train0,\n",
    "                                                                     y_train0,\n",
    "                                                                     train_size=training_sample_size,\n",
    "                                                                     random_state=19)\n",
    "        if training_sample_size is None:\n",
    "            X_train, y_train = X_train0, y_train0\n",
    "\n",
    "        print('> Fitting the model on the training set')\n",
    "        model.fit(X_train, y_train)\n",
    "        print('> Predicting on the validation set')\n",
    "        pred = model.predict(X_val)\n",
    "\n",
    "        print('> Recording performance metrics')\n",
    "        act = y_val\n",
    "        ActPred_00 = sum((act==0) & (pred==0))\n",
    "        ActPred_01 = sum((act==0) & (pred==1))\n",
    "        ActPred_10 = sum((act==1) & (pred==0))\n",
    "        ActPred_11 = sum((act==1) & (pred==1))\n",
    "        conf_1yr = [ActPred_00, ActPred_01, ActPred_10, ActPred_11]\n",
    "\n",
    "        conf.append(conf_1yr)\n",
    "        print('Finished a fold.')\n",
    "\n",
    "    carr = np.array(conf)\n",
    "    totals = carr.sum(axis=0)\n",
    "\n",
    "    carr = np.row_stack([carr,totals])\n",
    "\n",
    "    # above we added the totals row\n",
    "    # now we need to add the columns for precision and recall\n",
    "\n",
    "    # create dataframe\n",
    "    cdf = pd.DataFrame(data = carr,\n",
    "                      index = [f'ValYear{yr}' for yr in years]+['Total'],\n",
    "                      columns = ['ActPred_00', 'ActPred_01', \n",
    "                                 'ActPred_10', 'ActPred_11']\n",
    "                      )\n",
    "\n",
    "    cdf['Precision'] = cdf.ActPred_11 / (cdf.ActPred_01 + cdf.ActPred_11)\n",
    "    cdf['Recall'] = cdf.ActPred_11 / (cdf.ActPred_10 + cdf.ActPred_11)\n",
    "    \n",
    "    param_strings = [f'# {k}: {p[k]}' for k in p.keys() if k!='years']\n",
    "    comment = '\\n'.join(param_strings) + '\\n' \n",
    "    with open(f'../data/results/{model_name}.csv', 'a') as f:\n",
    "        f.write(comment)\n",
    "        cdf.to_csv(f)\n",
    "    \n",
    "    print(f'Find results in ../data/results/{model_name}.csv')"
   ]
  },
  {
   "cell_type": "markdown",
   "id": "57807c0c",
   "metadata": {},
   "source": [
    "## BROWN PAPER BAG v2.0\n",
    "\n",
    "draft below."
   ]
  },
  {
   "cell_type": "code",
   "execution_count": 44,
   "id": "11cfd0b1",
   "metadata": {},
   "outputs": [],
   "source": [
    "## Parameters dictionary p\n",
    "p = {\n",
    "\n",
    "## SPECIFY MODEL ##\n",
    "'model_name': 'BrownBag06--SGDLogistic',\n",
    "'model': make_pipeline(StandardScaler(),\n",
    "                       SGDClassifier(loss='log_loss')),\n",
    "'training_sample_size': 0.01,\n",
    "\n",
    "## SPECIFY TILE AND SCHEME ##\n",
    "'tile': '10SFH',\n",
    "'years': [2018, 2019, 2020, 2021, 2022],\n",
    "'scheme_name': '14day',\n",
    "'crop_of_interest_id': 75, # Almonds \n",
    "'in_season': None\n",
    "}"
   ]
  },
  {
   "cell_type": "code",
   "execution_count": 45,
   "id": "f7977e6c",
   "metadata": {
    "scrolled": false
   },
   "outputs": [
    {
     "name": "stdout",
     "output_type": "stream",
     "text": [
      "Starting a fold...\n",
      "> Assembling the datasets\n"
     ]
    },
    {
     "ename": "KeyboardInterrupt",
     "evalue": "",
     "output_type": "error",
     "traceback": [
      "\u001b[1;31m---------------------------------------------------------------------------\u001b[0m",
      "\u001b[1;31mKeyboardInterrupt\u001b[0m                         Traceback (most recent call last)",
      "Cell \u001b[1;32mIn[45], line 1\u001b[0m\n\u001b[1;32m----> 1\u001b[0m \u001b[43mfit_predict_report\u001b[49m\u001b[43m(\u001b[49m\u001b[38;5;241;43m*\u001b[39;49m\u001b[38;5;241;43m*\u001b[39;49m\u001b[43mp\u001b[49m\u001b[43m)\u001b[49m \u001b[38;5;66;03m# run with the above parameters\u001b[39;00m\n",
      "Cell \u001b[1;32mIn[42], line 26\u001b[0m, in \u001b[0;36mfit_predict_report\u001b[1;34m(model_name, model, training_sample_size, tile, years, scheme_name, crop_of_interest_id, in_season)\u001b[0m\n\u001b[0;32m     21\u001b[0m X_val, y_val \u001b[38;5;241m=\u001b[39m create_X_y(tile,val_year,\n\u001b[0;32m     22\u001b[0m                           scheme_name,crop_of_interest_id,\n\u001b[0;32m     23\u001b[0m                           in_season)\n\u001b[0;32m     25\u001b[0m \u001b[38;5;28;01mif\u001b[39;00m training_sample_size \u001b[38;5;129;01mis\u001b[39;00m \u001b[38;5;129;01mnot\u001b[39;00m \u001b[38;5;28;01mNone\u001b[39;00m:\n\u001b[1;32m---> 26\u001b[0m     X_train, X_surplus, y_train, y_surplus \u001b[38;5;241m=\u001b[39m \u001b[43mtrain_test_split\u001b[49m\u001b[43m(\u001b[49m\u001b[43mX_train0\u001b[49m\u001b[43m,\u001b[49m\n\u001b[0;32m     27\u001b[0m \u001b[43m                                                             \u001b[49m\u001b[43my_train0\u001b[49m\u001b[43m,\u001b[49m\n\u001b[0;32m     28\u001b[0m \u001b[43m                                                             \u001b[49m\u001b[43mtrain_size\u001b[49m\u001b[38;5;241;43m=\u001b[39;49m\u001b[43mtraining_sample_size\u001b[49m\u001b[43m,\u001b[49m\n\u001b[0;32m     29\u001b[0m \u001b[43m                                                             \u001b[49m\u001b[43mrandom_state\u001b[49m\u001b[38;5;241;43m=\u001b[39;49m\u001b[38;5;241;43m19\u001b[39;49m\u001b[43m)\u001b[49m\n\u001b[0;32m     30\u001b[0m \u001b[38;5;28;01mif\u001b[39;00m training_sample_size \u001b[38;5;129;01mis\u001b[39;00m \u001b[38;5;28;01mNone\u001b[39;00m:\n\u001b[0;32m     31\u001b[0m     X_train, y_train \u001b[38;5;241m=\u001b[39m X_train0, y_train0\n",
      "File \u001b[1;32m~\\anaconda3\\envs\\pygdal-skl\\Lib\\site-packages\\sklearn\\model_selection\\_split.py:2585\u001b[0m, in \u001b[0;36mtrain_test_split\u001b[1;34m(test_size, train_size, random_state, shuffle, stratify, *arrays)\u001b[0m\n\u001b[0;32m   2581\u001b[0m     cv \u001b[38;5;241m=\u001b[39m CVClass(test_size\u001b[38;5;241m=\u001b[39mn_test, train_size\u001b[38;5;241m=\u001b[39mn_train, random_state\u001b[38;5;241m=\u001b[39mrandom_state)\n\u001b[0;32m   2583\u001b[0m     train, test \u001b[38;5;241m=\u001b[39m \u001b[38;5;28mnext\u001b[39m(cv\u001b[38;5;241m.\u001b[39msplit(X\u001b[38;5;241m=\u001b[39marrays[\u001b[38;5;241m0\u001b[39m], y\u001b[38;5;241m=\u001b[39mstratify))\n\u001b[1;32m-> 2585\u001b[0m \u001b[38;5;28;01mreturn\u001b[39;00m \u001b[38;5;28;43mlist\u001b[39;49m\u001b[43m(\u001b[49m\n\u001b[0;32m   2586\u001b[0m \u001b[43m    \u001b[49m\u001b[43mchain\u001b[49m\u001b[38;5;241;43m.\u001b[39;49m\u001b[43mfrom_iterable\u001b[49m\u001b[43m(\u001b[49m\n\u001b[0;32m   2587\u001b[0m \u001b[43m        \u001b[49m\u001b[43m(\u001b[49m\u001b[43m_safe_indexing\u001b[49m\u001b[43m(\u001b[49m\u001b[43ma\u001b[49m\u001b[43m,\u001b[49m\u001b[43m \u001b[49m\u001b[43mtrain\u001b[49m\u001b[43m)\u001b[49m\u001b[43m,\u001b[49m\u001b[43m \u001b[49m\u001b[43m_safe_indexing\u001b[49m\u001b[43m(\u001b[49m\u001b[43ma\u001b[49m\u001b[43m,\u001b[49m\u001b[43m \u001b[49m\u001b[43mtest\u001b[49m\u001b[43m)\u001b[49m\u001b[43m)\u001b[49m\u001b[43m \u001b[49m\u001b[38;5;28;43;01mfor\u001b[39;49;00m\u001b[43m \u001b[49m\u001b[43ma\u001b[49m\u001b[43m \u001b[49m\u001b[38;5;129;43;01min\u001b[39;49;00m\u001b[43m \u001b[49m\u001b[43marrays\u001b[49m\n\u001b[0;32m   2588\u001b[0m \u001b[43m    \u001b[49m\u001b[43m)\u001b[49m\n\u001b[0;32m   2589\u001b[0m \u001b[43m\u001b[49m\u001b[43m)\u001b[49m\n",
      "File \u001b[1;32m~\\anaconda3\\envs\\pygdal-skl\\Lib\\site-packages\\sklearn\\model_selection\\_split.py:2586\u001b[0m, in \u001b[0;36m<genexpr>\u001b[1;34m(.0)\u001b[0m\n\u001b[0;32m   2581\u001b[0m     cv \u001b[38;5;241m=\u001b[39m CVClass(test_size\u001b[38;5;241m=\u001b[39mn_test, train_size\u001b[38;5;241m=\u001b[39mn_train, random_state\u001b[38;5;241m=\u001b[39mrandom_state)\n\u001b[0;32m   2583\u001b[0m     train, test \u001b[38;5;241m=\u001b[39m \u001b[38;5;28mnext\u001b[39m(cv\u001b[38;5;241m.\u001b[39msplit(X\u001b[38;5;241m=\u001b[39marrays[\u001b[38;5;241m0\u001b[39m], y\u001b[38;5;241m=\u001b[39mstratify))\n\u001b[0;32m   2585\u001b[0m \u001b[38;5;28;01mreturn\u001b[39;00m \u001b[38;5;28mlist\u001b[39m(\n\u001b[1;32m-> 2586\u001b[0m     chain\u001b[38;5;241m.\u001b[39mfrom_iterable(\n\u001b[0;32m   2587\u001b[0m         (_safe_indexing(a, train), _safe_indexing(a, test)) \u001b[38;5;28;01mfor\u001b[39;00m a \u001b[38;5;129;01min\u001b[39;00m arrays\n\u001b[0;32m   2588\u001b[0m     )\n\u001b[0;32m   2589\u001b[0m )\n",
      "\u001b[1;31mKeyboardInterrupt\u001b[0m: "
     ]
    }
   ],
   "source": [
    "fit_predict_report(**p) # run with the above parameters"
   ]
  },
  {
   "cell_type": "markdown",
   "id": "9e689ed5",
   "metadata": {},
   "source": [
    "I think the above will work!\n",
    "\n"
   ]
  },
  {
   "cell_type": "code",
   "execution_count": null,
   "id": "19497cde",
   "metadata": {},
   "outputs": [],
   "source": []
  },
  {
   "cell_type": "code",
   "execution_count": null,
   "id": "2bb9b7f5",
   "metadata": {},
   "outputs": [],
   "source": []
  },
  {
   "cell_type": "code",
   "execution_count": 54,
   "id": "c0db3805",
   "metadata": {},
   "outputs": [],
   "source": [
    "import os"
   ]
  },
  {
   "cell_type": "code",
   "execution_count": 59,
   "id": "48f764f4",
   "metadata": {},
   "outputs": [
    {
     "data": {
      "text/plain": [
       "'../data/results/BrownBag06--SGDLogistic_0.01_10SFH_14day_75_None.csv'"
      ]
     },
     "execution_count": 59,
     "metadata": {},
     "output_type": "execute_result"
    }
   ],
   "source": [
    "# for next notebook, when I do this in a for loop:\n",
    "\n",
    "f'../data/results/{csv_name}' # before ANYTHING else,\n",
    "# , check that this model name has no csv yet"
   ]
  },
  {
   "cell_type": "code",
   "execution_count": 56,
   "id": "ead1b61f",
   "metadata": {},
   "outputs": [],
   "source": [
    "# produce file_name:\n",
    "exempt = ['years', 'model']\n",
    "param_value_strings = [f'{p[k]}' for k in p.keys() if k not in exempt]\n",
    "csv_name = '_'.join(param_value_strings) +'.csv'"
   ]
  },
  {
   "cell_type": "code",
   "execution_count": 57,
   "id": "f78d4b91",
   "metadata": {},
   "outputs": [
    {
     "data": {
      "text/plain": [
       "'BrownBag06--SGDLogistic_0.01_10SFH_14day_75_None.csv'"
      ]
     },
     "execution_count": 57,
     "metadata": {},
     "output_type": "execute_result"
    }
   ],
   "source": [
    "csv_name"
   ]
  },
  {
   "cell_type": "code",
   "execution_count": 58,
   "id": "da1b220c",
   "metadata": {},
   "outputs": [
    {
     "ename": "SyntaxError",
     "evalue": "'continue' not properly in loop (974275021.py, line 6)",
     "output_type": "error",
     "traceback": [
      "\u001b[1;36m  Cell \u001b[1;32mIn[58], line 6\u001b[1;36m\u001b[0m\n\u001b[1;33m    continue # continue to the next iteration\u001b[0m\n\u001b[1;37m    ^\u001b[0m\n\u001b[1;31mSyntaxError\u001b[0m\u001b[1;31m:\u001b[0m 'continue' not properly in loop\n"
     ]
    }
   ],
   "source": [
    "# check whether care_about exists\n",
    "# before ANYTHING else,\n",
    "# , check that this file_name has no csv yet\n",
    "\n",
    "if csv_name in os.listdir('../data/results/'):\n",
    "    continue # continue to the next iteration\n"
   ]
  },
  {
   "cell_type": "markdown",
   "id": "12d55841",
   "metadata": {},
   "source": [
    "What the saving will look like (end of for-loop):"
   ]
  },
  {
   "cell_type": "code",
   "execution_count": null,
   "id": "47203fe2",
   "metadata": {},
   "outputs": [],
   "source": [
    "    param_strings = [f'# {k}: {p[k]}' for k in p.keys() if k!='years']\n",
    "    comment = '\\n'.join(param_strings) + '\\n' \n",
    "    with open(f'../data/results/{csv_name}', 'a') as f:\n",
    "        f.write(comment)\n",
    "        cdf.to_csv(f)\n",
    "    \n",
    "    print(f'Find results in ../data/results/{csv_name}')"
   ]
  }
 ],
 "metadata": {
  "kernelspec": {
   "display_name": "Python 3 (pygdal-skl)",
   "language": "python",
   "name": "pygdal-skl"
  },
  "language_info": {
   "codemirror_mode": {
    "name": "ipython",
    "version": 3
   },
   "file_extension": ".py",
   "mimetype": "text/x-python",
   "name": "python",
   "nbconvert_exporter": "python",
   "pygments_lexer": "ipython3",
   "version": "3.11.0"
  }
 },
 "nbformat": 4,
 "nbformat_minor": 5
}
