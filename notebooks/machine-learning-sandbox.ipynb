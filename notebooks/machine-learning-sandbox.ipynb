{
 "cells": [
  {
   "cell_type": "code",
   "execution_count": 1,
   "id": "31a5a80c",
   "metadata": {},
   "outputs": [],
   "source": [
    "import numpy as np\n"
   ]
  },
  {
   "cell_type": "code",
   "execution_count": 2,
   "id": "38a80838",
   "metadata": {},
   "outputs": [],
   "source": [
    "from sklearn.tree import DecisionTreeClassifier"
   ]
  },
  {
   "cell_type": "markdown",
   "id": "f788cf64",
   "metadata": {},
   "source": [
    "### Remind myself how Scikit-learn works"
   ]
  },
  {
   "cell_type": "code",
   "execution_count": 3,
   "id": "3a04bdaa",
   "metadata": {},
   "outputs": [],
   "source": [
    "X_train = np.array([[1,2,3],\n",
    "                   [4,5,6],\n",
    "                   [7,4,2],\n",
    "                   [3,9,5],\n",
    "                   [2,2,3]])\n",
    "y_train = np.array([0,1,0,1,1])"
   ]
  },
  {
   "cell_type": "code",
   "execution_count": 4,
   "id": "09fce783",
   "metadata": {},
   "outputs": [],
   "source": [
    "tree01 = DecisionTreeClassifier(max_depth=1)\n",
    "tree01.fit(X_train, y_train)\n",
    "pred = tree01.predict(X_train)"
   ]
  },
  {
   "cell_type": "code",
   "execution_count": 5,
   "id": "6a44f037",
   "metadata": {},
   "outputs": [
    {
     "data": {
      "text/plain": [
       "array([0, 1, 0, 1, 0])"
      ]
     },
     "execution_count": 5,
     "metadata": {},
     "output_type": "execute_result"
    }
   ],
   "source": [
    "pred"
   ]
  },
  {
   "cell_type": "markdown",
   "id": "0243594e",
   "metadata": {},
   "source": [
    "#### Great, I remembered how to do that!"
   ]
  },
  {
   "cell_type": "code",
   "execution_count": null,
   "id": "8d4ec7ff",
   "metadata": {},
   "outputs": [],
   "source": []
  },
  {
   "cell_type": "markdown",
   "id": "8300097b",
   "metadata": {},
   "source": [
    "Try using kwargs."
   ]
  },
  {
   "cell_type": "code",
   "execution_count": 11,
   "id": "93d5e192",
   "metadata": {},
   "outputs": [],
   "source": [
    "kwargs = {'max_depth': 2}\n",
    "tree30 = DecisionTreeClassifier(**kwargs)\n",
    "tree30.fit(X_train, y_train)\n",
    "pred = tree30.predict(X_train)"
   ]
  },
  {
   "cell_type": "code",
   "execution_count": 9,
   "id": "bb59e9c8",
   "metadata": {},
   "outputs": [
    {
     "data": {
      "text/html": [
       "<style>#sk-container-id-1 {color: black;background-color: white;}#sk-container-id-1 pre{padding: 0;}#sk-container-id-1 div.sk-toggleable {background-color: white;}#sk-container-id-1 label.sk-toggleable__label {cursor: pointer;display: block;width: 100%;margin-bottom: 0;padding: 0.3em;box-sizing: border-box;text-align: center;}#sk-container-id-1 label.sk-toggleable__label-arrow:before {content: \"▸\";float: left;margin-right: 0.25em;color: #696969;}#sk-container-id-1 label.sk-toggleable__label-arrow:hover:before {color: black;}#sk-container-id-1 div.sk-estimator:hover label.sk-toggleable__label-arrow:before {color: black;}#sk-container-id-1 div.sk-toggleable__content {max-height: 0;max-width: 0;overflow: hidden;text-align: left;background-color: #f0f8ff;}#sk-container-id-1 div.sk-toggleable__content pre {margin: 0.2em;color: black;border-radius: 0.25em;background-color: #f0f8ff;}#sk-container-id-1 input.sk-toggleable__control:checked~div.sk-toggleable__content {max-height: 200px;max-width: 100%;overflow: auto;}#sk-container-id-1 input.sk-toggleable__control:checked~label.sk-toggleable__label-arrow:before {content: \"▾\";}#sk-container-id-1 div.sk-estimator input.sk-toggleable__control:checked~label.sk-toggleable__label {background-color: #d4ebff;}#sk-container-id-1 div.sk-label input.sk-toggleable__control:checked~label.sk-toggleable__label {background-color: #d4ebff;}#sk-container-id-1 input.sk-hidden--visually {border: 0;clip: rect(1px 1px 1px 1px);clip: rect(1px, 1px, 1px, 1px);height: 1px;margin: -1px;overflow: hidden;padding: 0;position: absolute;width: 1px;}#sk-container-id-1 div.sk-estimator {font-family: monospace;background-color: #f0f8ff;border: 1px dotted black;border-radius: 0.25em;box-sizing: border-box;margin-bottom: 0.5em;}#sk-container-id-1 div.sk-estimator:hover {background-color: #d4ebff;}#sk-container-id-1 div.sk-parallel-item::after {content: \"\";width: 100%;border-bottom: 1px solid gray;flex-grow: 1;}#sk-container-id-1 div.sk-label:hover label.sk-toggleable__label {background-color: #d4ebff;}#sk-container-id-1 div.sk-serial::before {content: \"\";position: absolute;border-left: 1px solid gray;box-sizing: border-box;top: 0;bottom: 0;left: 50%;z-index: 0;}#sk-container-id-1 div.sk-serial {display: flex;flex-direction: column;align-items: center;background-color: white;padding-right: 0.2em;padding-left: 0.2em;position: relative;}#sk-container-id-1 div.sk-item {position: relative;z-index: 1;}#sk-container-id-1 div.sk-parallel {display: flex;align-items: stretch;justify-content: center;background-color: white;position: relative;}#sk-container-id-1 div.sk-item::before, #sk-container-id-1 div.sk-parallel-item::before {content: \"\";position: absolute;border-left: 1px solid gray;box-sizing: border-box;top: 0;bottom: 0;left: 50%;z-index: -1;}#sk-container-id-1 div.sk-parallel-item {display: flex;flex-direction: column;z-index: 1;position: relative;background-color: white;}#sk-container-id-1 div.sk-parallel-item:first-child::after {align-self: flex-end;width: 50%;}#sk-container-id-1 div.sk-parallel-item:last-child::after {align-self: flex-start;width: 50%;}#sk-container-id-1 div.sk-parallel-item:only-child::after {width: 0;}#sk-container-id-1 div.sk-dashed-wrapped {border: 1px dashed gray;margin: 0 0.4em 0.5em 0.4em;box-sizing: border-box;padding-bottom: 0.4em;background-color: white;}#sk-container-id-1 div.sk-label label {font-family: monospace;font-weight: bold;display: inline-block;line-height: 1.2em;}#sk-container-id-1 div.sk-label-container {text-align: center;}#sk-container-id-1 div.sk-container {/* jupyter's `normalize.less` sets `[hidden] { display: none; }` but bootstrap.min.css set `[hidden] { display: none !important; }` so we also need the `!important` here to be able to override the default hidden behavior on the sphinx rendered scikit-learn.org. See: https://github.com/scikit-learn/scikit-learn/issues/21755 */display: inline-block !important;position: relative;}#sk-container-id-1 div.sk-text-repr-fallback {display: none;}</style><div id=\"sk-container-id-1\" class=\"sk-top-container\"><div class=\"sk-text-repr-fallback\"><pre>DecisionTreeClassifier(max_depth=2)</pre><b>In a Jupyter environment, please rerun this cell to show the HTML representation or trust the notebook. <br />On GitHub, the HTML representation is unable to render, please try loading this page with nbviewer.org.</b></div><div class=\"sk-container\" hidden><div class=\"sk-item\"><div class=\"sk-estimator sk-toggleable\"><input class=\"sk-toggleable__control sk-hidden--visually\" id=\"sk-estimator-id-1\" type=\"checkbox\" checked><label for=\"sk-estimator-id-1\" class=\"sk-toggleable__label sk-toggleable__label-arrow\">DecisionTreeClassifier</label><div class=\"sk-toggleable__content\"><pre>DecisionTreeClassifier(max_depth=2)</pre></div></div></div></div></div>"
      ],
      "text/plain": [
       "DecisionTreeClassifier(max_depth=2)"
      ]
     },
     "execution_count": 9,
     "metadata": {},
     "output_type": "execute_result"
    }
   ],
   "source": [
    "tree30"
   ]
  },
  {
   "cell_type": "markdown",
   "id": "4224828b",
   "metadata": {},
   "source": [
    "Insight: for each parameter combo, I can express those parameters as a dictionary, and then feed that dictionary into the model initialization."
   ]
  },
  {
   "cell_type": "code",
   "execution_count": 12,
   "id": "05f7ca69",
   "metadata": {},
   "outputs": [],
   "source": [
    "all_models_params = {}\n",
    "all_models_params['04000'] = {'max_depth': 3}\n",
    "tree40 = DecisionTreeClassifier(**all_models_params['04000'])\n",
    "tree40.fit(X_train, y_train)\n",
    "pred = tree40.predict(X_train)"
   ]
  },
  {
   "cell_type": "code",
   "execution_count": 14,
   "id": "3530ac8e",
   "metadata": {},
   "outputs": [
    {
     "data": {
      "text/html": [
       "<style>#sk-container-id-2 {color: black;background-color: white;}#sk-container-id-2 pre{padding: 0;}#sk-container-id-2 div.sk-toggleable {background-color: white;}#sk-container-id-2 label.sk-toggleable__label {cursor: pointer;display: block;width: 100%;margin-bottom: 0;padding: 0.3em;box-sizing: border-box;text-align: center;}#sk-container-id-2 label.sk-toggleable__label-arrow:before {content: \"▸\";float: left;margin-right: 0.25em;color: #696969;}#sk-container-id-2 label.sk-toggleable__label-arrow:hover:before {color: black;}#sk-container-id-2 div.sk-estimator:hover label.sk-toggleable__label-arrow:before {color: black;}#sk-container-id-2 div.sk-toggleable__content {max-height: 0;max-width: 0;overflow: hidden;text-align: left;background-color: #f0f8ff;}#sk-container-id-2 div.sk-toggleable__content pre {margin: 0.2em;color: black;border-radius: 0.25em;background-color: #f0f8ff;}#sk-container-id-2 input.sk-toggleable__control:checked~div.sk-toggleable__content {max-height: 200px;max-width: 100%;overflow: auto;}#sk-container-id-2 input.sk-toggleable__control:checked~label.sk-toggleable__label-arrow:before {content: \"▾\";}#sk-container-id-2 div.sk-estimator input.sk-toggleable__control:checked~label.sk-toggleable__label {background-color: #d4ebff;}#sk-container-id-2 div.sk-label input.sk-toggleable__control:checked~label.sk-toggleable__label {background-color: #d4ebff;}#sk-container-id-2 input.sk-hidden--visually {border: 0;clip: rect(1px 1px 1px 1px);clip: rect(1px, 1px, 1px, 1px);height: 1px;margin: -1px;overflow: hidden;padding: 0;position: absolute;width: 1px;}#sk-container-id-2 div.sk-estimator {font-family: monospace;background-color: #f0f8ff;border: 1px dotted black;border-radius: 0.25em;box-sizing: border-box;margin-bottom: 0.5em;}#sk-container-id-2 div.sk-estimator:hover {background-color: #d4ebff;}#sk-container-id-2 div.sk-parallel-item::after {content: \"\";width: 100%;border-bottom: 1px solid gray;flex-grow: 1;}#sk-container-id-2 div.sk-label:hover label.sk-toggleable__label {background-color: #d4ebff;}#sk-container-id-2 div.sk-serial::before {content: \"\";position: absolute;border-left: 1px solid gray;box-sizing: border-box;top: 0;bottom: 0;left: 50%;z-index: 0;}#sk-container-id-2 div.sk-serial {display: flex;flex-direction: column;align-items: center;background-color: white;padding-right: 0.2em;padding-left: 0.2em;position: relative;}#sk-container-id-2 div.sk-item {position: relative;z-index: 1;}#sk-container-id-2 div.sk-parallel {display: flex;align-items: stretch;justify-content: center;background-color: white;position: relative;}#sk-container-id-2 div.sk-item::before, #sk-container-id-2 div.sk-parallel-item::before {content: \"\";position: absolute;border-left: 1px solid gray;box-sizing: border-box;top: 0;bottom: 0;left: 50%;z-index: -1;}#sk-container-id-2 div.sk-parallel-item {display: flex;flex-direction: column;z-index: 1;position: relative;background-color: white;}#sk-container-id-2 div.sk-parallel-item:first-child::after {align-self: flex-end;width: 50%;}#sk-container-id-2 div.sk-parallel-item:last-child::after {align-self: flex-start;width: 50%;}#sk-container-id-2 div.sk-parallel-item:only-child::after {width: 0;}#sk-container-id-2 div.sk-dashed-wrapped {border: 1px dashed gray;margin: 0 0.4em 0.5em 0.4em;box-sizing: border-box;padding-bottom: 0.4em;background-color: white;}#sk-container-id-2 div.sk-label label {font-family: monospace;font-weight: bold;display: inline-block;line-height: 1.2em;}#sk-container-id-2 div.sk-label-container {text-align: center;}#sk-container-id-2 div.sk-container {/* jupyter's `normalize.less` sets `[hidden] { display: none; }` but bootstrap.min.css set `[hidden] { display: none !important; }` so we also need the `!important` here to be able to override the default hidden behavior on the sphinx rendered scikit-learn.org. See: https://github.com/scikit-learn/scikit-learn/issues/21755 */display: inline-block !important;position: relative;}#sk-container-id-2 div.sk-text-repr-fallback {display: none;}</style><div id=\"sk-container-id-2\" class=\"sk-top-container\"><div class=\"sk-text-repr-fallback\"><pre>DecisionTreeClassifier(max_depth=3)</pre><b>In a Jupyter environment, please rerun this cell to show the HTML representation or trust the notebook. <br />On GitHub, the HTML representation is unable to render, please try loading this page with nbviewer.org.</b></div><div class=\"sk-container\" hidden><div class=\"sk-item\"><div class=\"sk-estimator sk-toggleable\"><input class=\"sk-toggleable__control sk-hidden--visually\" id=\"sk-estimator-id-2\" type=\"checkbox\" checked><label for=\"sk-estimator-id-2\" class=\"sk-toggleable__label sk-toggleable__label-arrow\">DecisionTreeClassifier</label><div class=\"sk-toggleable__content\"><pre>DecisionTreeClassifier(max_depth=3)</pre></div></div></div></div></div>"
      ],
      "text/plain": [
       "DecisionTreeClassifier(max_depth=3)"
      ]
     },
     "execution_count": 14,
     "metadata": {},
     "output_type": "execute_result"
    }
   ],
   "source": [
    "tree40"
   ]
  },
  {
   "cell_type": "markdown",
   "id": "86d5358d",
   "metadata": {},
   "source": [
    "Insight: I could have separate parts of the dictionary for the params that go inside the SKL class versus the ones that stay outside of it (training_sample_size, period_scheme, tile)"
   ]
  },
  {
   "cell_type": "markdown",
   "id": "1c5c45f3",
   "metadata": {},
   "source": [
    "### Read in Refls"
   ]
  },
  {
   "cell_type": "code",
   "execution_count": null,
   "id": "adeac658",
   "metadata": {},
   "outputs": [],
   "source": []
  },
  {
   "cell_type": "markdown",
   "id": "aea8469f",
   "metadata": {},
   "source": [
    "### Read in Crops"
   ]
  },
  {
   "cell_type": "code",
   "execution_count": null,
   "id": "60af453f",
   "metadata": {},
   "outputs": [],
   "source": []
  },
  {
   "cell_type": "markdown",
   "id": "1434642f",
   "metadata": {},
   "source": [
    "### Create Input-Target for one year"
   ]
  },
  {
   "cell_type": "code",
   "execution_count": null,
   "id": "a75d99f3",
   "metadata": {},
   "outputs": [],
   "source": [
    "tile = '10SFH'\n",
    "scheme_name = '14day'\n",
    "year = 2018\n",
    "crop_of_interest_id = 75"
   ]
  },
  {
   "cell_type": "code",
   "execution_count": 24,
   "id": "88a5a827",
   "metadata": {},
   "outputs": [],
   "source": [
    "coiid = crop_of_interest_id"
   ]
  },
  {
   "cell_type": "code",
   "execution_count": 25,
   "id": "540a351e",
   "metadata": {},
   "outputs": [],
   "source": [
    "# Read in Refls for 2018\n",
    "refl = np.load(f'../data/composited_interpolated/Refl_{tile}_{year}_{scheme_name}.npy')\n"
   ]
  },
  {
   "cell_type": "code",
   "execution_count": 39,
   "id": "59ff8d8f",
   "metadata": {},
   "outputs": [],
   "source": [
    "crop = []\n",
    "for y in range(year-4,year+1):\n",
    "    crop.append(np.load(f'../data/processed_crop/Crop_{tile}_{y}.npy')==coiid)"
   ]
  },
  {
   "cell_type": "markdown",
   "id": "4cc1f9a2",
   "metadata": {},
   "source": [
    "## Next: combine all of the above into an X and a y for 2018."
   ]
  },
  {
   "cell_type": "code",
   "execution_count": null,
   "id": "378718e7",
   "metadata": {},
   "outputs": [],
   "source": [
    "\n",
    "# first, make X: X is an array with all the Refl and also the Crop\n",
    "# rotation from the previous 4 years\n"
   ]
  },
  {
   "cell_type": "code",
   "execution_count": 45,
   "id": "965395b3",
   "metadata": {},
   "outputs": [
    {
     "data": {
      "text/plain": [
       "(13395600, 1)"
      ]
     },
     "execution_count": 45,
     "metadata": {},
     "output_type": "execute_result"
    }
   ],
   "source": [
    "X = np.column_stack([refl] + crop[:-1])\n",
    "y = crop[-1].reshape(-1,1)\n",
    "\n",
    "y.shape"
   ]
  },
  {
   "cell_type": "markdown",
   "id": "25ab5548",
   "metadata": {},
   "source": [
    "## Next: put all of above in a function that allows you to just input the params -- results in X and y for 2018."
   ]
  },
  {
   "cell_type": "code",
   "execution_count": null,
   "id": "ec6836dc",
   "metadata": {},
   "outputs": [],
   "source": [
    "tile = '10SFH'\n",
    "scheme_name = '14day'\n",
    "year = 2018\n",
    "crop_of_interest_id = 75"
   ]
  },
  {
   "cell_type": "code",
   "execution_count": 171,
   "id": "2d721936",
   "metadata": {},
   "outputs": [],
   "source": [
    "def create_X_y_single_year(tile,year,scheme_name,crop_of_interest_id):\n",
    "    coiid = crop_of_interest_id\n",
    "    \n",
    "    refl = np.load(f'../data/composited_interpolated/Refl_{tile}_{year}_{scheme_name}.npy')\n",
    "\n",
    "    crop = []\n",
    "    for y in range(year-4,year+1):\n",
    "        crop.append(np.load(f'../data/processed_crop/Crop_{tile}_{y}.npy')==coiid)\n",
    "\n",
    "    X = np.column_stack([refl] + crop[:-1])\n",
    "    y = crop[-1]\n",
    "    \n",
    "    return X, y"
   ]
  },
  {
   "cell_type": "code",
   "execution_count": null,
   "id": "a5f19aa1",
   "metadata": {},
   "outputs": [],
   "source": []
  },
  {
   "cell_type": "code",
   "execution_count": 172,
   "id": "702824cd",
   "metadata": {},
   "outputs": [],
   "source": [
    "X, y = create_X_y_single_year('10SFH',2018,'14day',75)"
   ]
  },
  {
   "cell_type": "markdown",
   "id": "1e3407eb",
   "metadata": {},
   "source": [
    "## Then, loop over 2018-2022: now we have an X and a y for every year."
   ]
  },
  {
   "cell_type": "code",
   "execution_count": null,
   "id": "b174e108",
   "metadata": {},
   "outputs": [],
   "source": [
    "train_years=[2018,2019,2020,2021]\n",
    "val_year=2022"
   ]
  },
  {
   "cell_type": "code",
   "execution_count": 184,
   "id": "f1d04a4a",
   "metadata": {},
   "outputs": [],
   "source": [
    "def create_X_y_multiyear(tile,\n",
    "                      years,\n",
    "                      scheme_name,\n",
    "                      crop_of_interest_id):\n",
    "    X_list = []\n",
    "    y_list = []\n",
    "    \n",
    "    for y in years:\n",
    "        X, y = create_X_y_single_year(tile,y,scheme_name,\n",
    "                                      crop_of_interest_id)\n",
    "        X_list.append(X)\n",
    "        y_list.append(y)\n",
    "    \n",
    "    X = np.concatenate(X_list)\n",
    "    y = np.concatenate(y_list)\n",
    "    \n",
    "    return X, y"
   ]
  },
  {
   "cell_type": "code",
   "execution_count": 177,
   "id": "9903ecc1",
   "metadata": {},
   "outputs": [],
   "source": [
    "def create_X_y(tile,\n",
    "              years,\n",
    "              scheme_name,\n",
    "              crop_of_interest_id):\n",
    "    if type(years)==int:\n",
    "        return create_X_y_single_year(tile,\n",
    "                                      year,\n",
    "                                      scheme_name,\n",
    "                                      crop_of_interest_id)\n",
    "    return create_X_y_multiyear(tile,\n",
    "                              years,\n",
    "                              scheme_name,\n",
    "                              crop_of_interest_id)"
   ]
  },
  {
   "cell_type": "code",
   "execution_count": 185,
   "id": "5fe74ebf",
   "metadata": {},
   "outputs": [],
   "source": [
    "X_train, y_train = create_X_y_multiyear('10SFH',[2018,2019],'14day',75)\n",
    "\n",
    "#X_val, y_val = create_X_y_single_year('10SFH',2020,'14day',75)"
   ]
  },
  {
   "cell_type": "code",
   "execution_count": 187,
   "id": "f1fabf81",
   "metadata": {},
   "outputs": [
    {
     "data": {
      "text/plain": [
       "(26791200, 106)"
      ]
     },
     "execution_count": 187,
     "metadata": {},
     "output_type": "execute_result"
    }
   ],
   "source": [
    "X_train.shape"
   ]
  },
  {
   "cell_type": "code",
   "execution_count": 190,
   "id": "ae22e7ea",
   "metadata": {},
   "outputs": [
    {
     "data": {
      "text/plain": [
       "(200,)"
      ]
     },
     "execution_count": 190,
     "metadata": {},
     "output_type": "execute_result"
    }
   ],
   "source": [
    "y_train[:200].shape"
   ]
  },
  {
   "cell_type": "markdown",
   "id": "050285e3",
   "metadata": {},
   "source": [
    "## BROWN PAPER BAG v1.0\n",
    "\n",
    "draft below."
   ]
  },
  {
   "cell_type": "code",
   "execution_count": 163,
   "id": "560ac293",
   "metadata": {},
   "outputs": [],
   "source": [
    "from sklearn.ensemble import RandomForestClassifier"
   ]
  },
  {
   "cell_type": "code",
   "execution_count": 164,
   "id": "63f464bc",
   "metadata": {},
   "outputs": [],
   "source": [
    "## SPECIFY MODEL ##\n",
    "model_name = 'BrownBag01'\n",
    "model = RandomForestClassifier()"
   ]
  },
  {
   "cell_type": "code",
   "execution_count": null,
   "id": "9e322f8b",
   "metadata": {},
   "outputs": [],
   "source": [
    "## SPECIFY TILE AND SCHEME ##\n",
    "tile = '10SFH'\n",
    "years = [2018, 2019, 2020, 2021, 2022]\n",
    "scheme_name = '14day'\n",
    "crop_of_interest_id = 75 # Almonds"
   ]
  },
  {
   "cell_type": "code",
   "execution_count": 147,
   "id": "4a6e2d51",
   "metadata": {},
   "outputs": [],
   "source": [
    "conf = []"
   ]
  },
  {
   "cell_type": "code",
   "execution_count": 149,
   "id": "e7091b21",
   "metadata": {},
   "outputs": [],
   "source": [
    "for val_year in years:\n",
    "    train_years = [yr for yr in range(2018,2023) if yr!=val_year]\n",
    "    \n",
    "    X_train, y_train = create_X_y(tile,train_years,\n",
    "                                  scheme_name,crop_of_interest_id)\n",
    "    X_val, y_val = create_X_y(tile,val_year,\n",
    "                              scheme_name,crop_of_interest_id)\n",
    "    \n",
    "    model.fit(X_train, y_train)\n",
    "    pred = model.predict(X_val)\n",
    "    \n",
    "    act = y_val[:,0]\n",
    "    ActPred_00 = sum((act==0) & (pred==0))\n",
    "    ActPred_01 = sum((act==0) & (pred==1))\n",
    "    ActPred_10 = sum((act==1) & (pred==0))\n",
    "    ActPred_11 = sum((act==1) & (pred==1))\n",
    "    conf_1yr = [ActPred_00, ActPred_01, ActPred_10, ActPred_11]\n",
    "\n",
    "    conf.append(conf_1yr)"
   ]
  },
  {
   "cell_type": "code",
   "execution_count": null,
   "id": "8f99953d",
   "metadata": {},
   "outputs": [],
   "source": [
    "carr = np.array(conf)\n",
    "totals = carr.sum(axis=0)\n",
    "\n",
    "carr = np.row_stack([carr,totals])\n",
    "\n",
    "# above we added the totals row\n",
    "# now we need to add the columns for precision and recall\n",
    "\n",
    "# create dataframe\n",
    "cdf = pd.DataFrame(data = carr,\n",
    "                  index = [f'ValYear{yr}' for yr in years]+['Total'],\n",
    "                  columns = ['ActPred_00', 'ActPred_01', \n",
    "                             'ActPred_10', 'ActPred_11']\n",
    "                  )\n",
    "\n",
    "cdf['Precision'] = cdf.ActPred_11 / (cdf.ActPred_01 + cdf.ActPred_11)\n",
    "cdf['Recall'] = cdf.ActPred_11 / (cdf.ActPred_10 + cdf.ActPred_11)\n",
    "\n",
    "cdf.to_csv(f'../data/results/{model_name}.csv')"
   ]
  },
  {
   "cell_type": "markdown",
   "id": "168af52f",
   "metadata": {},
   "source": [
    "I think the above will work!\n",
    "\n",
    "Now put it in a separate clean notebook. (Duplicate this one and delete the stuff we don't need)."
   ]
  },
  {
   "cell_type": "code",
   "execution_count": null,
   "id": "ff433e09",
   "metadata": {},
   "outputs": [],
   "source": [
    "Precision = ActPred_11 / (ActPred_01 + ActPred_11)\n",
    "Recall = ActPred_11 / (ActPred_10 + ActPred_11)"
   ]
  },
  {
   "cell_type": "code",
   "execution_count": null,
   "id": "46aa4eae",
   "metadata": {},
   "outputs": [],
   "source": []
  },
  {
   "cell_type": "code",
   "execution_count": null,
   "id": "74d55713",
   "metadata": {},
   "outputs": [],
   "source": []
  },
  {
   "cell_type": "code",
   "execution_count": 169,
   "id": "aafb1421",
   "metadata": {},
   "outputs": [
    {
     "data": {
      "text/plain": [
       "(200, 106)"
      ]
     },
     "execution_count": 169,
     "metadata": {},
     "output_type": "execute_result"
    }
   ],
   "source": [
    "X_train[:200].shape"
   ]
  },
  {
   "cell_type": "code",
   "execution_count": 170,
   "id": "87d4c22d",
   "metadata": {},
   "outputs": [
    {
     "data": {
      "text/plain": [
       "(200, 1)"
      ]
     },
     "execution_count": 170,
     "metadata": {},
     "output_type": "execute_result"
    }
   ],
   "source": [
    "y_train[:200].shape"
   ]
  },
  {
   "cell_type": "code",
   "execution_count": 166,
   "id": "db205242",
   "metadata": {},
   "outputs": [],
   "source": [
    "model.fit(X_train[:200], y_train[:200].ravel())\n",
    "pred = model.predict(X_val)"
   ]
  },
  {
   "cell_type": "code",
   "execution_count": 168,
   "id": "f6dc6d02",
   "metadata": {},
   "outputs": [
    {
     "data": {
      "text/plain": [
       "(13395600,)"
      ]
     },
     "execution_count": 168,
     "metadata": {},
     "output_type": "execute_result"
    }
   ],
   "source": [
    "pred.shape"
   ]
  },
  {
   "cell_type": "code",
   "execution_count": 89,
   "id": "873476ab",
   "metadata": {},
   "outputs": [],
   "source": [
    "act = y_val[:,0]\n",
    "ActPred_00 = sum((act==0) & (pred==0))\n",
    "ActPred_01 = sum((act==0) & (pred==1))\n",
    "ActPred_10 = sum((act==1) & (pred==0))\n",
    "ActPred_11 = sum((act==1) & (pred==1))"
   ]
  },
  {
   "cell_type": "code",
   "execution_count": 143,
   "id": "01873ad1",
   "metadata": {},
   "outputs": [],
   "source": [
    "conf_1yr = [ActPred_00, ActPred_01, ActPred_10, ActPred_11]\n",
    "\n",
    "conf.append(conf_1yr)"
   ]
  },
  {
   "cell_type": "code",
   "execution_count": 90,
   "id": "8846ca0c",
   "metadata": {},
   "outputs": [],
   "source": [
    "Precision = ActPred_11 / (ActPred_01 + ActPred_11)\n",
    "\n",
    "Recall = ActPred_11 / (ActPred_10 + ActPred_11)"
   ]
  },
  {
   "cell_type": "code",
   "execution_count": 96,
   "id": "12f8e17b",
   "metadata": {},
   "outputs": [
    {
     "data": {
      "text/plain": [
       "0.9821753339511807"
      ]
     },
     "execution_count": 96,
     "metadata": {},
     "output_type": "execute_result"
    }
   ],
   "source": [
    "Precision"
   ]
  },
  {
   "cell_type": "code",
   "execution_count": 97,
   "id": "4179e7de",
   "metadata": {},
   "outputs": [
    {
     "data": {
      "text/plain": [
       "0.3140381521898965"
      ]
     },
     "execution_count": 97,
     "metadata": {},
     "output_type": "execute_result"
    }
   ],
   "source": [
    "Recall"
   ]
  },
  {
   "cell_type": "code",
   "execution_count": 71,
   "id": "6b2d3bc5",
   "metadata": {},
   "outputs": [
    {
     "data": {
      "text/plain": [
       "list"
      ]
     },
     "execution_count": 71,
     "metadata": {},
     "output_type": "execute_result"
    }
   ],
   "source": [
    "type([2,3,4])"
   ]
  },
  {
   "cell_type": "code",
   "execution_count": 104,
   "id": "b57218fd",
   "metadata": {},
   "outputs": [],
   "source": [
    "import pandas as pd"
   ]
  },
  {
   "cell_type": "code",
   "execution_count": 115,
   "id": "29976406",
   "metadata": {},
   "outputs": [],
   "source": []
  },
  {
   "cell_type": "code",
   "execution_count": 133,
   "id": "62c1b157",
   "metadata": {},
   "outputs": [],
   "source": [
    "df = pd.DataFrame(index=[f'ValYear{y}' for y in years])"
   ]
  },
  {
   "cell_type": "markdown",
   "id": "fb30200b",
   "metadata": {},
   "source": [
    "Upshot: for some reason this is hard todo in pandas, so I'll do it all in numpy instead and add the nice names later!"
   ]
  },
  {
   "cell_type": "markdown",
   "id": "7827eb12",
   "metadata": {},
   "source": [
    "## Then put all of the above in a nice neat function.\n",
    "\n",
    "Still need functions for...\n",
    "- create_X_y (agnostic of how many years)\n",
    "- something see notes\n",
    "- something see notes"
   ]
  },
  {
   "cell_type": "code",
   "execution_count": null,
   "id": "707a7b48",
   "metadata": {},
   "outputs": [],
   "source": [
    "def create_X_y(tile,years,scheme_name,crop_of_interest_id):\n",
    "    if type"
   ]
  },
  {
   "cell_type": "markdown",
   "id": "bb3e0815",
   "metadata": {},
   "source": [
    "\n",
    "#### Later: divide into train and test for cross validation"
   ]
  },
  {
   "cell_type": "code",
   "execution_count": null,
   "id": "9dbc24cb",
   "metadata": {},
   "outputs": [],
   "source": []
  },
  {
   "cell_type": "code",
   "execution_count": null,
   "id": "899de583",
   "metadata": {},
   "outputs": [],
   "source": []
  },
  {
   "cell_type": "code",
   "execution_count": null,
   "id": "c5e4699e",
   "metadata": {},
   "outputs": [],
   "source": []
  },
  {
   "cell_type": "code",
   "execution_count": null,
   "id": "c209ebba",
   "metadata": {},
   "outputs": [],
   "source": [
    "from sklearn.datasets import Iris"
   ]
  }
 ],
 "metadata": {
  "kernelspec": {
   "display_name": "Python 3 (ipykernel)",
   "language": "python",
   "name": "python3"
  },
  "language_info": {
   "codemirror_mode": {
    "name": "ipython",
    "version": 3
   },
   "file_extension": ".py",
   "mimetype": "text/x-python",
   "name": "python",
   "nbconvert_exporter": "python",
   "pygments_lexer": "ipython3",
   "version": "3.9.12"
  }
 },
 "nbformat": 4,
 "nbformat_minor": 5
}
