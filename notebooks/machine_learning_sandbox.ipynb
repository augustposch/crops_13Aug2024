{
 "cells": [
  {
   "cell_type": "code",
   "execution_count": 11,
   "id": "e56ba91c",
   "metadata": {},
   "outputs": [],
   "source": [
    "import numpy as np\n",
    "import matplotlib.pyplot as plt\n",
    "from sklearn.decomposition import PCA\n",
    "from sklearn.preprocessing import StandardScaler"
   ]
  },
  {
   "cell_type": "code",
   "execution_count": 2,
   "id": "bf0370b9",
   "metadata": {},
   "outputs": [],
   "source": [
    "data = np.load('../data/composited_filled/Refl_10SFH_2018_14day.npy')"
   ]
  },
  {
   "cell_type": "code",
   "execution_count": 3,
   "id": "3851b84c",
   "metadata": {},
   "outputs": [
    {
     "data": {
      "text/plain": [
       "(13395600, 102)"
      ]
     },
     "execution_count": 3,
     "metadata": {},
     "output_type": "execute_result"
    }
   ],
   "source": [
    "data.shape"
   ]
  },
  {
   "cell_type": "code",
   "execution_count": 12,
   "id": "cfefd2f7",
   "metadata": {},
   "outputs": [],
   "source": [
    "sca01 = StandardScaler()\n",
    "data_scaled = sca01.fit_transform(data)"
   ]
  },
  {
   "cell_type": "code",
   "execution_count": null,
   "id": "328cdfc9",
   "metadata": {},
   "outputs": [],
   "source": []
  },
  {
   "cell_type": "code",
   "execution_count": 13,
   "id": "063fa5c0",
   "metadata": {},
   "outputs": [],
   "source": [
    "pca01 = PCA(n_components=0.9)\n",
    "data_pc = pca01.fit_transform(data_scaled)"
   ]
  },
  {
   "cell_type": "code",
   "execution_count": 14,
   "id": "4d821d6c",
   "metadata": {},
   "outputs": [
    {
     "data": {
      "text/plain": [
       "array([0.54696257, 0.13318567, 0.09217035, 0.04814994, 0.03423779,\n",
       "       0.02404291, 0.02014659, 0.0107313 ])"
      ]
     },
     "execution_count": 14,
     "metadata": {},
     "output_type": "execute_result"
    }
   ],
   "source": [
    "pca01.explained_variance_ratio_"
   ]
  },
  {
   "cell_type": "code",
   "execution_count": 15,
   "id": "6d72637e",
   "metadata": {},
   "outputs": [
    {
     "data": {
      "text/plain": [
       "[<matplotlib.lines.Line2D at 0x2168b0d7a50>]"
      ]
     },
     "execution_count": 15,
     "metadata": {},
     "output_type": "execute_result"
    },
    {
     "data": {
      "image/png": "[encoded data removed]",
      "text/plain": [
       "<Figure size 640x480 with 1 Axes>"
      ]
     },
     "metadata": {},
     "output_type": "display_data"
    }
   ],
   "source": [
    "plt.plot(pca01.explained_variance_ratio_)"
   ]
  },
  {
   "cell_type": "markdown",
   "id": "a5e3aa1f",
   "metadata": {},
   "source": [
    "Upshot: It appears that the first 4 PCs (PCs 0 thru 3) account for 80% of the variance. The first 8 PCs (PCs 0 thru 7) account for 90% of the variance."
   ]
  },
  {
   "cell_type": "markdown",
   "id": "b0e31966",
   "metadata": {},
   "source": [
    "When we're doing PCA as a step in a supervised ML pipeline, we'll be feeling good with requiring 90% of the variance. If we are doing something that requires a **very** small number of features, such as KNN, then we could require 80% of the variance.\n",
    "\n",
    "Also, of course we could always require just a pure number of PCs - e.g. require 3 PCs or require 4 PCs. That might make our results more consistent, in a way, because we know we're not sinking KNN by feeding it too many parameters.\n",
    "\n",
    "Ruminations: is the variance contained in "
   ]
  },
  {
   "cell_type": "code",
   "execution_count": null,
   "id": "6b8e3cb6",
   "metadata": {},
   "outputs": [],
   "source": [
    "sns.pairplot(pd.DataFrame(day_pc[:,[0,1,2]]))"
   ]
  }
 ],
 "metadata": {
  "kernelspec": {
   "display_name": "Python 3 (ipykernel)",
   "language": "python",
   "name": "python3"
  },
  "language_info": {
   "codemirror_mode": {
    "name": "ipython",
    "version": 3
   },
   "file_extension": ".py",
   "mimetype": "text/x-python",
   "name": "python",
   "nbconvert_exporter": "python",
   "pygments_lexer": "ipython3",
   "version": "3.9.12"
  }
 },
 "nbformat": 4,
 "nbformat_minor": 5
}
