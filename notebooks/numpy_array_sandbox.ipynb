{
 "cells": [
  {
   "cell_type": "code",
   "execution_count": 1,
   "id": "f65c8483",
   "metadata": {},
   "outputs": [],
   "source": [
    "import numpy as np"
   ]
  },
  {
   "cell_type": "code",
   "execution_count": 13,
   "id": "df43ef91",
   "metadata": {},
   "outputs": [],
   "source": [
    "ar1 = np.ndarray(shape=(14000000,102),dtype='int16')\n",
    "ar1.fill(11000)"
   ]
  },
  {
   "cell_type": "code",
   "execution_count": 14,
   "id": "067609ea",
   "metadata": {},
   "outputs": [
    {
     "data": {
      "text/plain": [
       "2856000000"
      ]
     },
     "execution_count": 14,
     "metadata": {},
     "output_type": "execute_result"
    }
   ],
   "source": [
    "ar1.nbytes"
   ]
  },
  {
   "cell_type": "code",
   "execution_count": 17,
   "id": "82cadac2",
   "metadata": {},
   "outputs": [],
   "source": [
    "ar2 = np.full(shape=(14000000,102),fill_value=10100,dtype='int16')"
   ]
  },
  {
   "cell_type": "code",
   "execution_count": 18,
   "id": "fea811dd",
   "metadata": {},
   "outputs": [
    {
     "data": {
      "text/plain": [
       "2856000000"
      ]
     },
     "execution_count": 18,
     "metadata": {},
     "output_type": "execute_result"
    }
   ],
   "source": [
    "ar2.nbytes"
   ]
  },
  {
   "cell_type": "code",
   "execution_count": 16,
   "id": "13aa6bc4",
   "metadata": {},
   "outputs": [
    {
     "data": {
      "text/plain": [
       "dtype('int32')"
      ]
     },
     "execution_count": 16,
     "metadata": {},
     "output_type": "execute_result"
    }
   ],
   "source": [
    "np.array(1).dtype"
   ]
  },
  {
   "cell_type": "code",
   "execution_count": 19,
   "id": "23caa611",
   "metadata": {},
   "outputs": [],
   "source": [
    "test1 = np.array([0,5,7,8,9])\n",
    "test2 = np.array([0,2,3,4,5])"
   ]
  },
  {
   "cell_type": "code",
   "execution_count": 21,
   "id": "eff8f9e8",
   "metadata": {},
   "outputs": [
    {
     "data": {
      "text/plain": [
       "array([0, 5, 7, 8, 9])"
      ]
     },
     "execution_count": 21,
     "metadata": {},
     "output_type": "execute_result"
    }
   ],
   "source": [
    "test1"
   ]
  },
  {
   "cell_type": "code",
   "execution_count": 23,
   "id": "f82a75b0",
   "metadata": {},
   "outputs": [
    {
     "data": {
      "text/plain": [
       "(5,)"
      ]
     },
     "execution_count": 23,
     "metadata": {},
     "output_type": "execute_result"
    }
   ],
   "source": [
    "test1.shape"
   ]
  },
  {
   "cell_type": "code",
   "execution_count": 25,
   "id": "9ebdf9da",
   "metadata": {},
   "outputs": [],
   "source": [
    "test3 = np.array([[0,5,7,8,9],\n",
    "                  [0,2,3,4,5]])"
   ]
  },
  {
   "cell_type": "code",
   "execution_count": 27,
   "id": "23d098f7",
   "metadata": {},
   "outputs": [
    {
     "data": {
      "text/plain": [
       "array([[0, 5, 7, 8, 9],\n",
       "       [0, 2, 3, 4, 5]])"
      ]
     },
     "execution_count": 27,
     "metadata": {},
     "output_type": "execute_result"
    }
   ],
   "source": [
    "test3"
   ]
  },
  {
   "cell_type": "code",
   "execution_count": 28,
   "id": "e5262d8e",
   "metadata": {},
   "outputs": [
    {
     "data": {
      "text/plain": [
       "(2, 5)"
      ]
     },
     "execution_count": 28,
     "metadata": {},
     "output_type": "execute_result"
    }
   ],
   "source": [
    "test3.shape"
   ]
  },
  {
   "cell_type": "code",
   "execution_count": 29,
   "id": "7c2f0df1",
   "metadata": {},
   "outputs": [
    {
     "ename": "AxisError",
     "evalue": "axis 2 is out of bounds for array of dimension 1",
     "output_type": "error",
     "traceback": [
      "\u001b[1;31m---------------------------------------------------------------------------\u001b[0m",
      "\u001b[1;31mAxisError\u001b[0m                                 Traceback (most recent call last)",
      "Cell \u001b[1;32mIn[29], line 1\u001b[0m\n\u001b[1;32m----> 1\u001b[0m \u001b[43mnp\u001b[49m\u001b[38;5;241;43m.\u001b[39;49m\u001b[43mmedian\u001b[49m\u001b[43m(\u001b[49m\u001b[43mtest1\u001b[49m\u001b[43m,\u001b[49m\u001b[43mtest2\u001b[49m\u001b[43m)\u001b[49m\n",
      "File \u001b[1;32m<__array_function__ internals>:200\u001b[0m, in \u001b[0;36mmedian\u001b[1;34m(*args, **kwargs)\u001b[0m\n",
      "File \u001b[1;32m~\\anaconda3\\envs\\pygdal-skl\\Lib\\site-packages\\numpy\\lib\\function_base.py:3856\u001b[0m, in \u001b[0;36mmedian\u001b[1;34m(a, axis, out, overwrite_input, keepdims)\u001b[0m\n\u001b[0;32m   3774\u001b[0m \u001b[38;5;129m@array_function_dispatch\u001b[39m(_median_dispatcher)\n\u001b[0;32m   3775\u001b[0m \u001b[38;5;28;01mdef\u001b[39;00m \u001b[38;5;21mmedian\u001b[39m(a, axis\u001b[38;5;241m=\u001b[39m\u001b[38;5;28;01mNone\u001b[39;00m, out\u001b[38;5;241m=\u001b[39m\u001b[38;5;28;01mNone\u001b[39;00m, overwrite_input\u001b[38;5;241m=\u001b[39m\u001b[38;5;28;01mFalse\u001b[39;00m, keepdims\u001b[38;5;241m=\u001b[39m\u001b[38;5;28;01mFalse\u001b[39;00m):\n\u001b[0;32m   3776\u001b[0m \u001b[38;5;250m    \u001b[39m\u001b[38;5;124;03m\"\"\"\u001b[39;00m\n\u001b[0;32m   3777\u001b[0m \u001b[38;5;124;03m    Compute the median along the specified axis.\u001b[39;00m\n\u001b[0;32m   3778\u001b[0m \n\u001b[1;32m   (...)\u001b[0m\n\u001b[0;32m   3854\u001b[0m \n\u001b[0;32m   3855\u001b[0m \u001b[38;5;124;03m    \"\"\"\u001b[39;00m\n\u001b[1;32m-> 3856\u001b[0m     \u001b[38;5;28;01mreturn\u001b[39;00m \u001b[43m_ureduce\u001b[49m\u001b[43m(\u001b[49m\u001b[43ma\u001b[49m\u001b[43m,\u001b[49m\u001b[43m \u001b[49m\u001b[43mfunc\u001b[49m\u001b[38;5;241;43m=\u001b[39;49m\u001b[43m_median\u001b[49m\u001b[43m,\u001b[49m\u001b[43m \u001b[49m\u001b[43mkeepdims\u001b[49m\u001b[38;5;241;43m=\u001b[39;49m\u001b[43mkeepdims\u001b[49m\u001b[43m,\u001b[49m\u001b[43m \u001b[49m\u001b[43maxis\u001b[49m\u001b[38;5;241;43m=\u001b[39;49m\u001b[43maxis\u001b[49m\u001b[43m,\u001b[49m\u001b[43m \u001b[49m\u001b[43mout\u001b[49m\u001b[38;5;241;43m=\u001b[39;49m\u001b[43mout\u001b[49m\u001b[43m,\u001b[49m\n\u001b[0;32m   3857\u001b[0m \u001b[43m                    \u001b[49m\u001b[43moverwrite_input\u001b[49m\u001b[38;5;241;43m=\u001b[39;49m\u001b[43moverwrite_input\u001b[49m\u001b[43m)\u001b[49m\n",
      "File \u001b[1;32m~\\anaconda3\\envs\\pygdal-skl\\Lib\\site-packages\\numpy\\lib\\function_base.py:3727\u001b[0m, in \u001b[0;36m_ureduce\u001b[1;34m(a, func, keepdims, **kwargs)\u001b[0m\n\u001b[0;32m   3725\u001b[0m nd \u001b[38;5;241m=\u001b[39m a\u001b[38;5;241m.\u001b[39mndim\n\u001b[0;32m   3726\u001b[0m \u001b[38;5;28;01mif\u001b[39;00m axis \u001b[38;5;129;01mis\u001b[39;00m \u001b[38;5;129;01mnot\u001b[39;00m \u001b[38;5;28;01mNone\u001b[39;00m:\n\u001b[1;32m-> 3727\u001b[0m     axis \u001b[38;5;241m=\u001b[39m \u001b[43m_nx\u001b[49m\u001b[38;5;241;43m.\u001b[39;49m\u001b[43mnormalize_axis_tuple\u001b[49m\u001b[43m(\u001b[49m\u001b[43maxis\u001b[49m\u001b[43m,\u001b[49m\u001b[43m \u001b[49m\u001b[43mnd\u001b[49m\u001b[43m)\u001b[49m\n\u001b[0;32m   3729\u001b[0m     \u001b[38;5;28;01mif\u001b[39;00m keepdims:\n\u001b[0;32m   3730\u001b[0m         \u001b[38;5;28;01mif\u001b[39;00m out \u001b[38;5;129;01mis\u001b[39;00m \u001b[38;5;129;01mnot\u001b[39;00m \u001b[38;5;28;01mNone\u001b[39;00m:\n",
      "File \u001b[1;32m~\\anaconda3\\envs\\pygdal-skl\\Lib\\site-packages\\numpy\\core\\numeric.py:1398\u001b[0m, in \u001b[0;36mnormalize_axis_tuple\u001b[1;34m(axis, ndim, argname, allow_duplicate)\u001b[0m\n\u001b[0;32m   1396\u001b[0m         \u001b[38;5;28;01mpass\u001b[39;00m\n\u001b[0;32m   1397\u001b[0m \u001b[38;5;66;03m# Going via an iterator directly is slower than via list comprehension.\u001b[39;00m\n\u001b[1;32m-> 1398\u001b[0m axis \u001b[38;5;241m=\u001b[39m \u001b[38;5;28mtuple\u001b[39m(\u001b[43m[\u001b[49m\u001b[43mnormalize_axis_index\u001b[49m\u001b[43m(\u001b[49m\u001b[43max\u001b[49m\u001b[43m,\u001b[49m\u001b[43m \u001b[49m\u001b[43mndim\u001b[49m\u001b[43m,\u001b[49m\u001b[43m \u001b[49m\u001b[43margname\u001b[49m\u001b[43m)\u001b[49m\u001b[43m \u001b[49m\u001b[38;5;28;43;01mfor\u001b[39;49;00m\u001b[43m \u001b[49m\u001b[43max\u001b[49m\u001b[43m \u001b[49m\u001b[38;5;129;43;01min\u001b[39;49;00m\u001b[43m \u001b[49m\u001b[43maxis\u001b[49m\u001b[43m]\u001b[49m)\n\u001b[0;32m   1399\u001b[0m \u001b[38;5;28;01mif\u001b[39;00m \u001b[38;5;129;01mnot\u001b[39;00m allow_duplicate \u001b[38;5;129;01mand\u001b[39;00m \u001b[38;5;28mlen\u001b[39m(\u001b[38;5;28mset\u001b[39m(axis)) \u001b[38;5;241m!=\u001b[39m \u001b[38;5;28mlen\u001b[39m(axis):\n\u001b[0;32m   1400\u001b[0m     \u001b[38;5;28;01mif\u001b[39;00m argname:\n",
      "File \u001b[1;32m~\\anaconda3\\envs\\pygdal-skl\\Lib\\site-packages\\numpy\\core\\numeric.py:1398\u001b[0m, in \u001b[0;36m<listcomp>\u001b[1;34m(.0)\u001b[0m\n\u001b[0;32m   1396\u001b[0m         \u001b[38;5;28;01mpass\u001b[39;00m\n\u001b[0;32m   1397\u001b[0m \u001b[38;5;66;03m# Going via an iterator directly is slower than via list comprehension.\u001b[39;00m\n\u001b[1;32m-> 1398\u001b[0m axis \u001b[38;5;241m=\u001b[39m \u001b[38;5;28mtuple\u001b[39m([\u001b[43mnormalize_axis_index\u001b[49m\u001b[43m(\u001b[49m\u001b[43max\u001b[49m\u001b[43m,\u001b[49m\u001b[43m \u001b[49m\u001b[43mndim\u001b[49m\u001b[43m,\u001b[49m\u001b[43m \u001b[49m\u001b[43margname\u001b[49m\u001b[43m)\u001b[49m \u001b[38;5;28;01mfor\u001b[39;00m ax \u001b[38;5;129;01min\u001b[39;00m axis])\n\u001b[0;32m   1399\u001b[0m \u001b[38;5;28;01mif\u001b[39;00m \u001b[38;5;129;01mnot\u001b[39;00m allow_duplicate \u001b[38;5;129;01mand\u001b[39;00m \u001b[38;5;28mlen\u001b[39m(\u001b[38;5;28mset\u001b[39m(axis)) \u001b[38;5;241m!=\u001b[39m \u001b[38;5;28mlen\u001b[39m(axis):\n\u001b[0;32m   1400\u001b[0m     \u001b[38;5;28;01mif\u001b[39;00m argname:\n",
      "\u001b[1;31mAxisError\u001b[0m: axis 2 is out of bounds for array of dimension 1"
     ]
    }
   ],
   "source": [
    "np.median(test1,test2)"
   ]
  },
  {
   "cell_type": "code",
   "execution_count": 31,
   "id": "a58f6bd2",
   "metadata": {},
   "outputs": [
    {
     "data": {
      "text/plain": [
       "4.5"
      ]
     },
     "execution_count": 31,
     "metadata": {},
     "output_type": "execute_result"
    }
   ],
   "source": [
    "np.median(test3)"
   ]
  },
  {
   "cell_type": "code",
   "execution_count": 32,
   "id": "e218eb99",
   "metadata": {},
   "outputs": [
    {
     "data": {
      "text/plain": [
       "array([0. , 3.5, 5. , 6. , 7. ])"
      ]
     },
     "execution_count": 32,
     "metadata": {},
     "output_type": "execute_result"
    }
   ],
   "source": [
    "np.median(test3, axis=0)"
   ]
  },
  {
   "cell_type": "code",
   "execution_count": 33,
   "id": "5478f2ec",
   "metadata": {},
   "outputs": [
    {
     "data": {
      "text/plain": [
       "array([7., 3.])"
      ]
     },
     "execution_count": 33,
     "metadata": {},
     "output_type": "execute_result"
    }
   ],
   "source": [
    "np.median(test3, axis=1)"
   ]
  },
  {
   "cell_type": "code",
   "execution_count": 34,
   "id": "1356db4b",
   "metadata": {},
   "outputs": [],
   "source": [
    "test4 = np.array([test1,test2])"
   ]
  },
  {
   "cell_type": "code",
   "execution_count": 35,
   "id": "d476e3d3",
   "metadata": {},
   "outputs": [
    {
     "data": {
      "text/plain": [
       "array([[0, 5, 7, 8, 9],\n",
       "       [0, 2, 3, 4, 5]])"
      ]
     },
     "execution_count": 35,
     "metadata": {},
     "output_type": "execute_result"
    }
   ],
   "source": [
    "test4"
   ]
  },
  {
   "cell_type": "markdown",
   "id": "21bbe808",
   "metadata": {},
   "source": [
    "Question: is it faster to make an array out of our list of smaller arrays, or is it faster to gradually append to the array over time?"
   ]
  },
  {
   "cell_type": "markdown",
   "id": "3d2c9aa8",
   "metadata": {},
   "source": [
    "Answer: it probably doesn't matter much. Creating the list of arrays is pretty darn fast, and making a big array out of the smaller arrays is probably just as fast as whatever swelling-an-array process I'd have to do otherwise."
   ]
  },
  {
   "cell_type": "markdown",
   "id": "f0e7d425",
   "metadata": {},
   "source": [
    "Conclusion: I will program it to have lists of arrays."
   ]
  },
  {
   "cell_type": "code",
   "execution_count": 36,
   "id": "b29ae45c",
   "metadata": {},
   "outputs": [],
   "source": [
    "vecs = {}"
   ]
  },
  {
   "cell_type": "code",
   "execution_count": 38,
   "id": "a153b561",
   "metadata": {},
   "outputs": [],
   "source": [
    "vecs['orange'] = np.array([[1,2,3],[8,7,6]])"
   ]
  },
  {
   "cell_type": "code",
   "execution_count": 40,
   "id": "85810e15",
   "metadata": {},
   "outputs": [
    {
     "data": {
      "text/plain": [
       "array([[1, 2, 3],\n",
       "       [8, 7, 6]])"
      ]
     },
     "execution_count": 40,
     "metadata": {},
     "output_type": "execute_result"
    }
   ],
   "source": [
    "vecs['orange']"
   ]
  },
  {
   "cell_type": "code",
   "execution_count": 43,
   "id": "b1b39191",
   "metadata": {},
   "outputs": [
    {
     "data": {
      "text/plain": [
       "dict_keys(['orange'])"
      ]
     },
     "execution_count": 43,
     "metadata": {},
     "output_type": "execute_result"
    }
   ],
   "source": [
    "vecs.keys()"
   ]
  },
  {
   "cell_type": "code",
   "execution_count": 45,
   "id": "2652a414",
   "metadata": {
    "scrolled": true
   },
   "outputs": [
    {
     "data": {
      "text/plain": [
       "dict_values([array([[1, 2, 3],\n",
       "       [8, 7, 6]])])"
      ]
     },
     "execution_count": 45,
     "metadata": {},
     "output_type": "execute_result"
    }
   ],
   "source": [
    "vecs.values()"
   ]
  },
  {
   "cell_type": "code",
   "execution_count": 49,
   "id": "1539ffab",
   "metadata": {},
   "outputs": [
    {
     "data": {
      "text/plain": [
       "[[], [], [], [], [], []]"
      ]
     },
     "execution_count": 49,
     "metadata": {},
     "output_type": "execute_result"
    }
   ],
   "source": [
    "[[]] * 6"
   ]
  },
  {
   "cell_type": "code",
   "execution_count": 50,
   "id": "10e07523",
   "metadata": {},
   "outputs": [],
   "source": [
    "vecs2 = {'A','B','C','D','E','F'}"
   ]
  },
  {
   "cell_type": "code",
   "execution_count": 53,
   "id": "f921121b",
   "metadata": {
    "scrolled": true
   },
   "outputs": [
    {
     "ename": "SyntaxError",
     "evalue": "cannot assign to function call here. Maybe you meant '==' instead of '='? (3475651122.py, line 1)",
     "output_type": "error",
     "traceback": [
      "\u001b[1;36m  Cell \u001b[1;32mIn[53], line 1\u001b[1;36m\u001b[0m\n\u001b[1;33m    vecs2.values() = [[]] * 6\u001b[0m\n\u001b[1;37m    ^\u001b[0m\n\u001b[1;31mSyntaxError\u001b[0m\u001b[1;31m:\u001b[0m cannot assign to function call here. Maybe you meant '==' instead of '='?\n"
     ]
    }
   ],
   "source": [
    "vecs2.values() = [[]] * 6"
   ]
  },
  {
   "cell_type": "code",
   "execution_count": 54,
   "id": "aaf6c068",
   "metadata": {},
   "outputs": [
    {
     "name": "stdout",
     "output_type": "stream",
     "text": [
      "F\n",
      "C\n",
      "D\n",
      "E\n",
      "A\n",
      "B\n"
     ]
    }
   ],
   "source": [
    "for x in vecs2:\n",
    "    print(x)"
   ]
  },
  {
   "cell_type": "code",
   "execution_count": 64,
   "id": "c86dda39",
   "metadata": {},
   "outputs": [
    {
     "data": {
      "text/plain": [
       "array([[ 1.,  2.,  3.],\n",
       "       [ 4., nan,  6.]])"
      ]
     },
     "execution_count": 64,
     "metadata": {},
     "output_type": "execute_result"
    }
   ],
   "source": [
    "np.array([[1,2,3],[4,np.nan,6]])"
   ]
  },
  {
   "cell_type": "code",
   "execution_count": 61,
   "id": "6b44da11",
   "metadata": {},
   "outputs": [],
   "source": [
    "empo = np.empty((4,5))"
   ]
  },
  {
   "cell_type": "code",
   "execution_count": 62,
   "id": "3455f0e6",
   "metadata": {},
   "outputs": [
    {
     "data": {
      "text/plain": [
       "array([[8.76791137e-312, 5.87938119e-322, 0.00000000e+000,\n",
       "        0.00000000e+000,             nan],\n",
       "       [1.15998412e-028, 4.31603868e-080, 1.94919985e-153,\n",
       "        3.14542538e+161, 9.25845054e+242],\n",
       "       [8.12591997e-096, 1.03080491e+136, 6.01347002e-154,\n",
       "        5.53291072e-048, 2.18229367e-094],\n",
       "       [1.43267083e+161, 2.20832505e-094, 9.80058441e+252,\n",
       "        1.23971686e+224, 2.59923519e-306]])"
      ]
     },
     "execution_count": 62,
     "metadata": {},
     "output_type": "execute_result"
    }
   ],
   "source": [
    "empo"
   ]
  },
  {
   "cell_type": "code",
   "execution_count": 68,
   "id": "db6936e3",
   "metadata": {},
   "outputs": [],
   "source": [
    "ar4 = np.ndarray(shape=(5,6),dtype='int16')\n",
    "ar4[:2,:].fill(660)\n",
    "ar4[2:,:].fill(880)"
   ]
  },
  {
   "cell_type": "code",
   "execution_count": null,
   "id": "47e38641",
   "metadata": {},
   "outputs": [],
   "source": [
    "ar4[]"
   ]
  },
  {
   "cell_type": "code",
   "execution_count": 73,
   "id": "35d93eb1",
   "metadata": {},
   "outputs": [],
   "source": [
    "ar4[0,0] = -9999"
   ]
  },
  {
   "cell_type": "code",
   "execution_count": 74,
   "id": "d499ca21",
   "metadata": {},
   "outputs": [],
   "source": [
    "ar4[4,4] = -9999"
   ]
  },
  {
   "cell_type": "code",
   "execution_count": 94,
   "id": "e1f24ce4",
   "metadata": {},
   "outputs": [],
   "source": [
    "ar4[:,5] = -9999"
   ]
  },
  {
   "cell_type": "code",
   "execution_count": 76,
   "id": "321745d1",
   "metadata": {},
   "outputs": [
    {
     "data": {
      "text/plain": [
       "array([880., 880., 880., 880., 660., 880.])"
      ]
     },
     "execution_count": 76,
     "metadata": {},
     "output_type": "execute_result"
    }
   ],
   "source": [
    "np.median(ar4, axis=0)"
   ]
  },
  {
   "cell_type": "code",
   "execution_count": 80,
   "id": "051ac7d7",
   "metadata": {},
   "outputs": [
    {
     "data": {
      "text/plain": [
       "array([[  0., 880., 880., 880., 660., 880.],\n",
       "       [880., 880., 880., 880., 660., 880.],\n",
       "       [880., 880., 880., 880., 660., 880.],\n",
       "       [880., 880., 880., 880., 660., 880.],\n",
       "       [880., 880., 880., 880.,   0., 880.]])"
      ]
     },
     "execution_count": 80,
     "metadata": {},
     "output_type": "execute_result"
    }
   ],
   "source": [
    "np.where(ar4!=-9999, np.median(ar4, axis=0), 0)"
   ]
  },
  {
   "cell_type": "code",
   "execution_count": null,
   "id": "73da9f45",
   "metadata": {},
   "outputs": [],
   "source": [
    "np."
   ]
  },
  {
   "cell_type": "code",
   "execution_count": 172,
   "id": "e95155c6",
   "metadata": {},
   "outputs": [],
   "source": [
    "ar4m = np.ma.array(ar4, mask=ar4==-9999)"
   ]
  },
  {
   "cell_type": "code",
   "execution_count": 173,
   "id": "ed7aa0b0",
   "metadata": {},
   "outputs": [
    {
     "data": {
      "text/plain": [
       "masked_array(\n",
       "  data=[[--, 660, 660, 660, 660, --],\n",
       "        [660, 660, 660, 660, 660, --],\n",
       "        [880, 880, 880, 880, 880, --],\n",
       "        [880, 880, 880, 880, 880, --],\n",
       "        [880, 880, 880, 880, --, --]],\n",
       "  mask=[[ True, False, False, False, False,  True],\n",
       "        [False, False, False, False, False,  True],\n",
       "        [False, False, False, False, False,  True],\n",
       "        [False, False, False, False, False,  True],\n",
       "        [False, False, False, False,  True,  True]],\n",
       "  fill_value=999999,\n",
       "  dtype=int16)"
      ]
     },
     "execution_count": 173,
     "metadata": {},
     "output_type": "execute_result"
    }
   ],
   "source": [
    "ar4m"
   ]
  },
  {
   "cell_type": "code",
   "execution_count": 189,
   "id": "3f78726f",
   "metadata": {},
   "outputs": [],
   "source": [
    "result = np.ma.median(ar4m, axis=0).astype('int16')"
   ]
  },
  {
   "cell_type": "code",
   "execution_count": 182,
   "id": "82ea30c6",
   "metadata": {},
   "outputs": [],
   "source": [
    "result = np.ma.median(ar4m, axis=0)"
   ]
  },
  {
   "cell_type": "code",
   "execution_count": 190,
   "id": "556f54ae",
   "metadata": {},
   "outputs": [
    {
     "data": {
      "text/plain": [
       "masked_array(data=[880, 880, 880, 880, 770, --],\n",
       "             mask=[False, False, False, False, False,  True],\n",
       "       fill_value=999999,\n",
       "            dtype=int16)"
      ]
     },
     "execution_count": 190,
     "metadata": {},
     "output_type": "execute_result"
    }
   ],
   "source": [
    "result"
   ]
  },
  {
   "cell_type": "code",
   "execution_count": 191,
   "id": "9886573a",
   "metadata": {},
   "outputs": [
    {
     "data": {
      "text/plain": [
       "array([880, 880, 880, 880, 770,   0], dtype=int16)"
      ]
     },
     "execution_count": 191,
     "metadata": {},
     "output_type": "execute_result"
    }
   ],
   "source": [
    "result.data"
   ]
  },
  {
   "cell_type": "code",
   "execution_count": 192,
   "id": "26614801",
   "metadata": {},
   "outputs": [],
   "source": [
    "filled = result.filled(-9999)"
   ]
  },
  {
   "cell_type": "code",
   "execution_count": 193,
   "id": "817568d2",
   "metadata": {},
   "outputs": [
    {
     "data": {
      "text/plain": [
       "array([  880,   880,   880,   880,   770, -9999], dtype=int16)"
      ]
     },
     "execution_count": 193,
     "metadata": {},
     "output_type": "execute_result"
    }
   ],
   "source": [
    "filled"
   ]
  },
  {
   "cell_type": "code",
   "execution_count": 194,
   "id": "ecd0a16f",
   "metadata": {},
   "outputs": [
    {
     "data": {
      "text/plain": [
       "dtype('int16')"
      ]
     },
     "execution_count": 194,
     "metadata": {},
     "output_type": "execute_result"
    }
   ],
   "source": [
    "filled.dtype"
   ]
  },
  {
   "cell_type": "code",
   "execution_count": 100,
   "id": "40a46774",
   "metadata": {},
   "outputs": [
    {
     "data": {
      "text/plain": [
       "48"
      ]
     },
     "execution_count": 100,
     "metadata": {},
     "output_type": "execute_result"
    }
   ],
   "source": [
    "result.nbytes"
   ]
  },
  {
   "cell_type": "code",
   "execution_count": 104,
   "id": "1dd23b60",
   "metadata": {},
   "outputs": [
    {
     "data": {
      "text/plain": [
       "6"
      ]
     },
     "execution_count": 104,
     "metadata": {},
     "output_type": "execute_result"
    }
   ],
   "source": [
    "result.mask.nbytes"
   ]
  },
  {
   "cell_type": "code",
   "execution_count": null,
   "id": "e3311a7d",
   "metadata": {},
   "outputs": [],
   "source": []
  },
  {
   "cell_type": "code",
   "execution_count": 105,
   "id": "35c5de5e",
   "metadata": {},
   "outputs": [
    {
     "data": {
      "text/plain": [
       "array([0. , 3.5, 5. , 6. , 7. ])"
      ]
     },
     "execution_count": 105,
     "metadata": {},
     "output_type": "execute_result"
    }
   ],
   "source": [
    "test6 = np.median(test3, axis=0)\n",
    "test6"
   ]
  },
  {
   "cell_type": "code",
   "execution_count": 124,
   "id": "41cd49b2",
   "metadata": {},
   "outputs": [
    {
     "data": {
      "text/plain": [
       "array([0, 3, 5, 6, 7], dtype=int16)"
      ]
     },
     "execution_count": 124,
     "metadata": {},
     "output_type": "execute_result"
    }
   ],
   "source": [
    "test6.astype('int16')"
   ]
  },
  {
   "cell_type": "code",
   "execution_count": 133,
   "id": "4608b791",
   "metadata": {},
   "outputs": [],
   "source": [
    "result.mask = result==770"
   ]
  },
  {
   "cell_type": "code",
   "execution_count": 134,
   "id": "a4328187",
   "metadata": {},
   "outputs": [
    {
     "data": {
      "text/plain": [
       "masked_array(data=[880, 880, 880, 880, --, 0],\n",
       "             mask=[False, False, False, False,  True, False],\n",
       "       fill_value=999999,\n",
       "            dtype=int16)"
      ]
     },
     "execution_count": 134,
     "metadata": {},
     "output_type": "execute_result"
    }
   ],
   "source": [
    "result"
   ]
  },
  {
   "cell_type": "code",
   "execution_count": 136,
   "id": "9c075dc1",
   "metadata": {},
   "outputs": [],
   "source": [
    "test7 = np.array([[1,2],[3,4]])"
   ]
  },
  {
   "cell_type": "code",
   "execution_count": 138,
   "id": "a9bb30e5",
   "metadata": {},
   "outputs": [],
   "source": [
    "mask7 = test7 > 1"
   ]
  },
  {
   "cell_type": "code",
   "execution_count": 139,
   "id": "89d7fe61",
   "metadata": {
    "scrolled": true
   },
   "outputs": [
    {
     "ename": "ValueError",
     "evalue": "The truth value of an array with more than one element is ambiguous. Use a.any() or a.all()",
     "output_type": "error",
     "traceback": [
      "\u001b[1;31m---------------------------------------------------------------------------\u001b[0m",
      "\u001b[1;31mValueError\u001b[0m                                Traceback (most recent call last)",
      "Cell \u001b[1;32mIn[139], line 1\u001b[0m\n\u001b[1;32m----> 1\u001b[0m \u001b[43mmask7\u001b[49m\u001b[43m \u001b[49m\u001b[38;5;129;43;01mand\u001b[39;49;00m\u001b[43m \u001b[49m\u001b[38;5;28;43;01mTrue\u001b[39;49;00m\n",
      "\u001b[1;31mValueError\u001b[0m: The truth value of an array with more than one element is ambiguous. Use a.any() or a.all()"
     ]
    }
   ],
   "source": [
    "mask7 and True"
   ]
  },
  {
   "cell_type": "code",
   "execution_count": 144,
   "id": "c421097b",
   "metadata": {},
   "outputs": [
    {
     "data": {
      "text/plain": [
       "'11111111'"
      ]
     },
     "execution_count": 144,
     "metadata": {},
     "output_type": "execute_result"
    }
   ],
   "source": [
    "'{0:b}'.format(255).zfill(8)"
   ]
  },
  {
   "cell_type": "code",
   "execution_count": 157,
   "id": "3f0946a4",
   "metadata": {},
   "outputs": [],
   "source": [
    "fmask_arr = np.array([[255,243],[80,62]])"
   ]
  },
  {
   "cell_type": "code",
   "execution_count": 153,
   "id": "b7719369",
   "metadata": {},
   "outputs": [],
   "source": [
    "f = lambda x: '{0:b}'.format(x).zfill(8)"
   ]
  },
  {
   "cell_type": "code",
   "execution_count": 155,
   "id": "19814c98",
   "metadata": {},
   "outputs": [],
   "source": [
    "f2 = lambda x: x ** 2"
   ]
  },
  {
   "cell_type": "code",
   "execution_count": 159,
   "id": "94fdc48a",
   "metadata": {},
   "outputs": [
    {
     "ename": "TypeError",
     "evalue": "unsupported format string passed to numpy.ndarray.__format__",
     "output_type": "error",
     "traceback": [
      "\u001b[1;31m---------------------------------------------------------------------------\u001b[0m",
      "\u001b[1;31mTypeError\u001b[0m                                 Traceback (most recent call last)",
      "Cell \u001b[1;32mIn[159], line 1\u001b[0m\n\u001b[1;32m----> 1\u001b[0m \u001b[43mf\u001b[49m\u001b[43m(\u001b[49m\u001b[43mfmask_arr\u001b[49m\u001b[43m)\u001b[49m\n",
      "Cell \u001b[1;32mIn[153], line 1\u001b[0m, in \u001b[0;36m<lambda>\u001b[1;34m(x)\u001b[0m\n\u001b[1;32m----> 1\u001b[0m f \u001b[38;5;241m=\u001b[39m \u001b[38;5;28;01mlambda\u001b[39;00m x: \u001b[38;5;124;43m'\u001b[39;49m\u001b[38;5;132;43;01m{0:b}\u001b[39;49;00m\u001b[38;5;124;43m'\u001b[39;49m\u001b[38;5;241;43m.\u001b[39;49m\u001b[43mformat\u001b[49m\u001b[43m(\u001b[49m\u001b[43mx\u001b[49m\u001b[43m)\u001b[49m\u001b[38;5;241m.\u001b[39mzfill(\u001b[38;5;241m8\u001b[39m)\n",
      "\u001b[1;31mTypeError\u001b[0m: unsupported format string passed to numpy.ndarray.__format__"
     ]
    }
   ],
   "source": [
    "f(fmask_arr)"
   ]
  },
  {
   "cell_type": "code",
   "execution_count": 145,
   "id": "740090e8",
   "metadata": {},
   "outputs": [
    {
     "ename": "TypeError",
     "evalue": "unsupported format string passed to numpy.ndarray.__format__",
     "output_type": "error",
     "traceback": [
      "\u001b[1;31m---------------------------------------------------------------------------\u001b[0m",
      "\u001b[1;31mTypeError\u001b[0m                                 Traceback (most recent call last)",
      "Cell \u001b[1;32mIn[145], line 3\u001b[0m\n\u001b[0;32m      1\u001b[0m fmask_arr \u001b[38;5;241m=\u001b[39m np\u001b[38;5;241m.\u001b[39marray([[\u001b[38;5;241m255\u001b[39m,\u001b[38;5;241m243\u001b[39m],[\u001b[38;5;241m80\u001b[39m,\u001b[38;5;241m62\u001b[39m]])\n\u001b[1;32m----> 3\u001b[0m binary \u001b[38;5;241m=\u001b[39m \u001b[38;5;124;43m'\u001b[39;49m\u001b[38;5;132;43;01m{0:b}\u001b[39;49;00m\u001b[38;5;124;43m'\u001b[39;49m\u001b[38;5;241;43m.\u001b[39;49m\u001b[43mformat\u001b[49m\u001b[43m(\u001b[49m\u001b[43mfmask_arr\u001b[49m\u001b[43m)\u001b[49m\u001b[38;5;241m.\u001b[39mzfill(\u001b[38;5;241m8\u001b[39m)\n",
      "\u001b[1;31mTypeError\u001b[0m: unsupported format string passed to numpy.ndarray.__format__"
     ]
    }
   ],
   "source": [
    "fmask_arr = np.array([[255,243],[80,62]])\n",
    "\n",
    "binary = '{0:b}'.format(fmask_arr).zfill(8)"
   ]
  },
  {
   "cell_type": "code",
   "execution_count": 150,
   "id": "8ca0844c",
   "metadata": {},
   "outputs": [
    {
     "data": {
      "text/plain": [
       "(2, 2)"
      ]
     },
     "execution_count": 150,
     "metadata": {},
     "output_type": "execute_result"
    }
   ],
   "source": [
    "test7.shape"
   ]
  },
  {
   "cell_type": "code",
   "execution_count": 161,
   "id": "508dfb70",
   "metadata": {},
   "outputs": [],
   "source": [
    "boo1 = np.array([[True,False],\n",
    "         [True,False]])\n",
    "\n",
    "boo2 = np.array([[False,False],\n",
    "                [True,True]])"
   ]
  },
  {
   "cell_type": "code",
   "execution_count": 163,
   "id": "9ae08945",
   "metadata": {},
   "outputs": [
    {
     "data": {
      "text/plain": [
       "array([[ True, False],\n",
       "       [ True,  True]])"
      ]
     },
     "execution_count": 163,
     "metadata": {},
     "output_type": "execute_result"
    }
   ],
   "source": [
    "boo1 | boo2"
   ]
  },
  {
   "cell_type": "code",
   "execution_count": null,
   "id": "df8aa084",
   "metadata": {},
   "outputs": [],
   "source": []
  },
  {
   "cell_type": "code",
   "execution_count": 165,
   "id": "7d7e3c3b",
   "metadata": {},
   "outputs": [
    {
     "data": {
      "text/plain": [
       "array([ True, False,  True, False])"
      ]
     },
     "execution_count": 165,
     "metadata": {},
     "output_type": "execute_result"
    }
   ],
   "source": [
    "boo1.flatten()"
   ]
  },
  {
   "cell_type": "code",
   "execution_count": 166,
   "id": "d8e00ff3",
   "metadata": {},
   "outputs": [],
   "source": [
    "f = lambda x: '{0:b}'.format(x).zfill(8)"
   ]
  },
  {
   "cell_type": "code",
   "execution_count": null,
   "id": "5acd36dc",
   "metadata": {},
   "outputs": [],
   "source": [
    "g = lambda x: "
   ]
  },
  {
   "cell_type": "code",
   "execution_count": 167,
   "id": "ea2e5dc6",
   "metadata": {},
   "outputs": [],
   "source": [
    "test8 = np.array([255,80,62,202])"
   ]
  },
  {
   "cell_type": "code",
   "execution_count": 170,
   "id": "65845e9c",
   "metadata": {},
   "outputs": [
    {
     "name": "stdout",
     "output_type": "stream",
     "text": [
      "255\n",
      "11111111\n",
      "80\n",
      "01010000\n",
      "62\n",
      "00111110\n",
      "202\n",
      "11001010\n"
     ]
    }
   ],
   "source": [
    "for el in test8:\n",
    "    print(el)\n",
    "    print(f(el))"
   ]
  },
  {
   "cell_type": "code",
   "execution_count": null,
   "id": "55c7ab6b",
   "metadata": {},
   "outputs": [],
   "source": []
  }
 ],
 "metadata": {
  "kernelspec": {
   "display_name": "Python 3 (pygdal-skl)",
   "language": "python",
   "name": "pygdal-skl"
  },
  "language_info": {
   "codemirror_mode": {
    "name": "ipython",
    "version": 3
   },
   "file_extension": ".py",
   "mimetype": "text/x-python",
   "name": "python",
   "nbconvert_exporter": "python",
   "pygments_lexer": "ipython3",
   "version": "3.11.0"
  }
 },
 "nbformat": 4,
 "nbformat_minor": 5
}
