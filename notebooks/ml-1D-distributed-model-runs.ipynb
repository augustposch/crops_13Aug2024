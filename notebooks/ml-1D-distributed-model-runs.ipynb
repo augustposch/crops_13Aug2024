{
 "cells": [
  {
   "cell_type": "markdown",
   "id": "515b48b7",
   "metadata": {},
   "source": [
    "# *ml-1D-distributed-model-runs.ipynb*\n",
    "\n",
    "# Running models in parallel\n",
    "\n",
    "This is a work-in-progress-notebook. Currently, it allows us to: specify a models bank for 160 Random Forest and Extra Trees models; assemble the datasets for different folds of year-wise cross-validation; run the models for 12 combinations of region, crop, compositing scheme, and in-season date; and record results (accuracies and uncertainties) in csv files.\n",
    "\n",
    "Function definitions at the top of the notebook; then sequential model runs; then parallel model runs.\n",
    "\n",
    "New in version 1D: parallel model runs using Dask.\n",
    "\n",
    "New in version 1C: can draw from bank of specified models, and run through them in a for loop.\n",
    "\n",
    "New in version 1B: can now specify `in_season`, which is None (meaning use whole year), or 230 (thru DOY 230 which is mid-August), or 160 (thru DOY 160 which is early June)"
   ]
  },
  {
   "cell_type": "code",
   "execution_count": 1,
   "id": "b2d28217",
   "metadata": {},
   "outputs": [],
   "source": [
    "import numpy as np\n",
    "import pandas as pd\n",
    "import os\n",
    "\n",
    "from sklearn.ensemble import RandomForestClassifier\n",
    "from sklearn.ensemble import ExtraTreesClassifier\n",
    "from sklearn.linear_model import LogisticRegression\n",
    "from sklearn.model_selection import train_test_split\n",
    "from sklearn.pipeline import make_pipeline\n",
    "from sklearn.linear_model import SGDClassifier\n",
    "from sklearn.preprocessing import StandardScaler"
   ]
  },
  {
   "cell_type": "code",
   "execution_count": 2,
   "id": "27790d09",
   "metadata": {},
   "outputs": [],
   "source": [
    "def create_models_bank():\n",
    "    models_bank = {}\n",
    "    increment = 0\n",
    "    for n_estimators in [200, 500]:\n",
    "        for max_features in [0.05, 0.1, 0.2, 0.4, 1.0]:\n",
    "            for min_samples_split in [2, 4]:\n",
    "                for bootstrap in [False, True]:\n",
    "                    for class_weight in [None, 'balanced']:\n",
    "\n",
    "                        increment += 1\n",
    "\n",
    "                        three_digit = str(increment).zfill(3)\n",
    "                        models_bank[three_digit] = {\n",
    "                            'n_estimators': n_estimators,\n",
    "                            'max_features': max_features,\n",
    "                            'bootstrap': bootstrap,\n",
    "                            'min_samples_split': min_samples_split,\n",
    "                            'class_weight': class_weight,\n",
    "                            'n_jobs': -1\n",
    "                        }\n",
    "\n",
    "    return models_bank"
   ]
  },
  {
   "cell_type": "code",
   "execution_count": 3,
   "id": "5ef01eea",
   "metadata": {},
   "outputs": [],
   "source": [
    "def create_X_y_single_year(tile,year,scheme_name,crop_of_interest_id,\n",
    "                          in_season=None):\n",
    "    coiid = crop_of_interest_id\n",
    "    \n",
    "    refl = np.load(f'../data/composited_interpolated/Refl_{tile}_{year}_{scheme_name}.npy')\n",
    "\n",
    "    # Determine nrf (number of reflectance features)\n",
    "    if in_season not in [160, 230, None]:\n",
    "        print('Please change in_season to 160, 230, or None.')\n",
    "        return None\n",
    "    if in_season is None:\n",
    "        nrf = refl.shape[1]\n",
    "    if in_season in [160, 230]:\n",
    "        pdsize = int(scheme_name[:-3])\n",
    "        nrf = ((in_season - 90) // pdsize) * 6 + 6\n",
    "        \n",
    "    crop = []\n",
    "    for y in range(year-4,year+1):\n",
    "        crop.append(np.load(f'../data/processed_crop/Crop_{tile}_{y}.npy')==coiid)\n",
    "\n",
    "    X = np.column_stack([refl[:,:nrf]] + crop[:-1])\n",
    "    y = crop[-1]\n",
    "    \n",
    "    return X, y"
   ]
  },
  {
   "cell_type": "code",
   "execution_count": 4,
   "id": "48c3f441",
   "metadata": {},
   "outputs": [],
   "source": [
    "def create_X_y_multiyear(tile,\n",
    "                      years,\n",
    "                      scheme_name,\n",
    "                      crop_of_interest_id,\n",
    "                        in_season=None):\n",
    "    X_list = []\n",
    "    y_list = []\n",
    "    \n",
    "    for y in years:\n",
    "        X, y = create_X_y_single_year(tile,y,scheme_name,\n",
    "                                      crop_of_interest_id,\n",
    "                                     in_season)\n",
    "        X_list.append(X)\n",
    "        y_list.append(y)\n",
    "    \n",
    "    X = np.concatenate(X_list)\n",
    "    y = np.concatenate(y_list)\n",
    "    \n",
    "    return X, y"
   ]
  },
  {
   "cell_type": "code",
   "execution_count": 5,
   "id": "a8aa44f5",
   "metadata": {},
   "outputs": [],
   "source": [
    "def create_X_y(tile,\n",
    "              years,\n",
    "              scheme_name,\n",
    "              crop_of_interest_id,\n",
    "              in_season=None\n",
    "              ):\n",
    "    if type(years)==int:\n",
    "        return create_X_y_single_year(tile,\n",
    "                                      years,\n",
    "                                      scheme_name,\n",
    "                                      crop_of_interest_id,\n",
    "                                      in_season)\n",
    "    \n",
    "    return create_X_y_multiyear(tile,\n",
    "                              years,\n",
    "                              scheme_name,\n",
    "                              crop_of_interest_id,\n",
    "                              in_season)"
   ]
  },
  {
   "cell_type": "code",
   "execution_count": 6,
   "id": "a4ff9b53",
   "metadata": {
    "scrolled": true
   },
   "outputs": [],
   "source": [
    "def fit_predict_report(model_name,\n",
    "                      model,\n",
    "                      training_sample_size,\n",
    "                      validation_sample_size,\n",
    "                      tile,\n",
    "                      years,\n",
    "                      scheme_name,\n",
    "                      crop_of_interest_id,\n",
    "                      in_season\n",
    "                      ):\n",
    "    \n",
    "    # produce csv_name\n",
    "    exempt = ['years', 'model']\n",
    "    param_value_strings = [f'{model_name}',\n",
    "                      f'{training_sample_size}',\n",
    "                      f'{validation_sample_size}',\n",
    "                      f'{tile}',\n",
    "                      f'{scheme_name}',\n",
    "                      f'{crop_of_interest_id}',\n",
    "                      f'{in_season}']\n",
    "    csv_name = '_'.join(param_value_strings) +'.csv'\n",
    "\n",
    "    # check whether previously run and, if so, end the effort\n",
    "    if csv_name in os.listdir('../data/results/'):\n",
    "        return 'If you see this, the specified model was previously run.'\n",
    "\n",
    "    print(f'-- Process for {csv_name} --')\n",
    "    \n",
    "    # below is actually fitting and predicting and reporting\n",
    "    \n",
    "    conf = []\n",
    "\n",
    "    for val_year in years:\n",
    "        print('Starting a fold...')\n",
    "        print('> Assembling the datasets')\n",
    "        train_years = [yr for yr in range(2018,2023) if yr!=val_year]\n",
    "\n",
    "        X_train0, y_train0 = create_X_y(tile,train_years,\n",
    "                                      scheme_name,crop_of_interest_id,\n",
    "                                       in_season)\n",
    "        X_val0, y_val0 = create_X_y(tile,val_year,\n",
    "                                  scheme_name,crop_of_interest_id,\n",
    "                                  in_season)\n",
    "\n",
    "        if training_sample_size is not None:\n",
    "            X_train, X_trsurplus, y_train, y_trsurplus = train_test_split(X_train0,\n",
    "                                                                     y_train0,\n",
    "                                                                     train_size=training_sample_size,\n",
    "                                                                     random_state=19)\n",
    "        if training_sample_size is None:\n",
    "            X_train, y_train = X_train0, y_train0\n",
    "\n",
    "        if validation_sample_size is not None:\n",
    "            X_val, X_vsurplus, y_val, y_vsurplus = train_test_split(X_val0,\n",
    "                                                                     y_val0,\n",
    "                                                                     train_size=validation_sample_size,\n",
    "                                                                     random_state=19)\n",
    "        if validation_sample_size is None:\n",
    "            X_val, y_val = X_val0, y_val0\n",
    "    \n",
    "            \n",
    "        print('> Fitting the model on the training set')\n",
    "        model.fit(X_train, y_train)\n",
    "        print('> Predicting on the validation set')\n",
    "        pred = model.predict(X_val)\n",
    "\n",
    "        print('> Recording performance metrics')\n",
    "        act = y_val\n",
    "        ActPred_00 = sum((act==0) & (pred==0))\n",
    "        ActPred_01 = sum((act==0) & (pred==1))\n",
    "        ActPred_10 = sum((act==1) & (pred==0))\n",
    "        ActPred_11 = sum((act==1) & (pred==1))\n",
    "        conf_1yr = [ActPred_00, ActPred_01, ActPred_10, ActPred_11]\n",
    "\n",
    "        conf.append(conf_1yr)\n",
    "        print('Finished a fold.')\n",
    "\n",
    "    carr = np.array(conf)\n",
    "\n",
    "    carr = np.row_stack([carr,np.full((2,4),-1)])\n",
    "\n",
    "    # above we added the totals row\n",
    "    # now we need to add the columns for precision and recall\n",
    "\n",
    "    # create dataframe\n",
    "    cdf = pd.DataFrame(data = carr,\n",
    "                      index = [f'ValYear{yr}' for yr in years]+['Mean','StdE'],\n",
    "                      columns = ['ActPred_00', 'ActPred_01', \n",
    "                                 'ActPred_10', 'ActPred_11']\n",
    "                      )\n",
    "\n",
    "    cdf['Precision'] = cdf.ActPred_11 / (cdf.ActPred_01 + cdf.ActPred_11)\n",
    "    cdf['Recall'] = cdf.ActPred_11 / (cdf.ActPred_10 + cdf.ActPred_11)\n",
    "    cdf['F1'] = 2*cdf.Precision*cdf.Recall / (cdf.Precision + cdf.Recall)\n",
    "    for col in ['Precision','Recall','F1']:\n",
    "        cdf.at['Mean',col] = np.mean(cdf.loc[:'ValYear2022',col])\n",
    "        cdf.at['StdE',col] = np.std(cdf.loc[:'ValYear2022',col])\n",
    "    \n",
    "    \n",
    "    param_strings = [f'# model_name: {model_name}',\n",
    "                     f'# model: {model}',\n",
    "                      f'# training_sample_size: {training_sample_size}',\n",
    "                      f'# validation_sample_size: {validation_sample_size}',\n",
    "                      f'# tile: {tile}',\n",
    "                      f'# scheme_name: {scheme_name}',\n",
    "                      f'# crop_of_interest_id: {crop_of_interest_id}',\n",
    "                      f'# in_season: {in_season}']\n",
    "    comment = '\\n'.join(param_strings) + '\\n' \n",
    "    with open(f'../data/results/{csv_name}', 'a') as f:\n",
    "        f.write(comment)\n",
    "        cdf.to_csv(f)\n",
    "    \n",
    "    print(f'Find results in ../data/results/{csv_name}')\n",
    "    \n",
    "    return f'Find results in ../data/results/{csv_name}'"
   ]
  },
  {
   "cell_type": "code",
   "execution_count": null,
   "id": "1cf9b423-8688-49a5-ba1d-547b31c95d36",
   "metadata": {},
   "outputs": [],
   "source": [
    "import ctypes\n",
    "def trim_memory() -> int:\n",
    "     libc = ctypes.CDLL(\"libc.so.6\")\n",
    "     return libc.malloc_trim(0)"
   ]
  },
  {
   "cell_type": "code",
   "execution_count": null,
   "id": "9308bcf2-5125-4116-85a5-3483085aaa8f",
   "metadata": {
    "scrolled": true
   },
   "outputs": [],
   "source": [
    "def trim_fit_predict_report(model_name,\n",
    "                      model,\n",
    "                      training_sample_size,\n",
    "                      validation_sample_size,\n",
    "                      tile,\n",
    "                      years,\n",
    "                      scheme_name,\n",
    "                      crop_of_interest_id,\n",
    "                      in_season#,\n",
    "                      #client\n",
    "                      ):\n",
    "    client.run(trim_memory)\n",
    "    \n",
    "    # produce csv_name\n",
    "    exempt = ['years', 'model']\n",
    "    param_value_strings = [f'{model_name}',\n",
    "                      f'{training_sample_size}',\n",
    "                      f'{validation_sample_size}',\n",
    "                      f'{tile}',\n",
    "                      f'{scheme_name}',\n",
    "                      f'{crop_of_interest_id}',\n",
    "                      f'{in_season}']\n",
    "    csv_name = '_'.join(param_value_strings) +'.csv'\n",
    "\n",
    "    # check whether previously run and, if so, end the effort\n",
    "    if csv_name in os.listdir('../data/results/'):\n",
    "        return 'If you see this, the specified model was previously run.'\n",
    "\n",
    "    print(f'-- Process for {csv_name} --')\n",
    "    \n",
    "    # below is actually fitting and predicting and reporting\n",
    "    \n",
    "    conf = []\n",
    "\n",
    "    for val_year in years:\n",
    "        print('Starting a fold...')\n",
    "        print('> Assembling the datasets')\n",
    "        train_years = [yr for yr in range(2018,2023) if yr!=val_year]\n",
    "\n",
    "        X_train0, y_train0 = create_X_y(tile,train_years,\n",
    "                                      scheme_name,crop_of_interest_id,\n",
    "                                       in_season)\n",
    "        X_val0, y_val0 = create_X_y(tile,val_year,\n",
    "                                  scheme_name,crop_of_interest_id,\n",
    "                                  in_season)\n",
    "\n",
    "        if training_sample_size is not None:\n",
    "            X_train, X_trsurplus, y_train, y_trsurplus = train_test_split(X_train0,\n",
    "                                                                     y_train0,\n",
    "                                                                     train_size=training_sample_size,\n",
    "                                                                     random_state=19)\n",
    "        if training_sample_size is None:\n",
    "            X_train, y_train = X_train0, y_train0\n",
    "\n",
    "        if validation_sample_size is not None:\n",
    "            X_val, X_vsurplus, y_val, y_vsurplus = train_test_split(X_val0,\n",
    "                                                                     y_val0,\n",
    "                                                                     train_size=validation_sample_size,\n",
    "                                                                     random_state=19)\n",
    "        if validation_sample_size is None:\n",
    "            X_val, y_val = X_val0, y_val0\n",
    "    \n",
    "            \n",
    "        print('> Fitting the model on the training set')\n",
    "        model.fit(X_train, y_train)\n",
    "        print('> Predicting on the validation set')\n",
    "        pred = model.predict(X_val)\n",
    "\n",
    "        print('> Recording performance metrics')\n",
    "        act = y_val\n",
    "        ActPred_00 = sum((act==0) & (pred==0))\n",
    "        ActPred_01 = sum((act==0) & (pred==1))\n",
    "        ActPred_10 = sum((act==1) & (pred==0))\n",
    "        ActPred_11 = sum((act==1) & (pred==1))\n",
    "        conf_1yr = [ActPred_00, ActPred_01, ActPred_10, ActPred_11]\n",
    "\n",
    "        conf.append(conf_1yr)\n",
    "        print('Finished a fold.')\n",
    "\n",
    "    carr = np.array(conf)\n",
    "\n",
    "    carr = np.row_stack([carr,np.full((2,4),-1)])\n",
    "\n",
    "    # above we added the totals row\n",
    "    # now we need to add the columns for precision and recall\n",
    "\n",
    "    # create dataframe\n",
    "    cdf = pd.DataFrame(data = carr,\n",
    "                      index = [f'ValYear{yr}' for yr in years]+['Mean','StdE'],\n",
    "                      columns = ['ActPred_00', 'ActPred_01', \n",
    "                                 'ActPred_10', 'ActPred_11']\n",
    "                      )\n",
    "\n",
    "    cdf['Precision'] = cdf.ActPred_11 / (cdf.ActPred_01 + cdf.ActPred_11)\n",
    "    cdf['Recall'] = cdf.ActPred_11 / (cdf.ActPred_10 + cdf.ActPred_11)\n",
    "    cdf['F1'] = 2*cdf.Precision*cdf.Recall / (cdf.Precision + cdf.Recall)\n",
    "    for col in ['Precision','Recall','F1']:\n",
    "        cdf.at['Mean',col] = np.mean(cdf.loc[:'ValYear2022',col])\n",
    "        cdf.at['StdE',col] = np.std(cdf.loc[:'ValYear2022',col])\n",
    "    \n",
    "    \n",
    "    param_strings = [f'# model_name: {model_name}',\n",
    "                     f'# model: {model}',\n",
    "                      f'# training_sample_size: {training_sample_size}',\n",
    "                      f'# validation_sample_size: {validation_sample_size}',\n",
    "                      f'# tile: {tile}',\n",
    "                      f'# scheme_name: {scheme_name}',\n",
    "                      f'# crop_of_interest_id: {crop_of_interest_id}',\n",
    "                      f'# in_season: {in_season}']\n",
    "    comment = '\\n'.join(param_strings) + '\\n' \n",
    "    with open(f'../data/results/{csv_name}', 'a') as f:\n",
    "        f.write(comment)\n",
    "        cdf.to_csv(f)\n",
    "    \n",
    "    print(f'Find results in ../data/results/{csv_name}')\n",
    "    \n",
    "    return f'Find results in ../data/results/{csv_name}'"
   ]
  },
  {
   "cell_type": "code",
   "execution_count": null,
   "id": "b520e105-4ab3-4aa6-8ad3-016e71032cd4",
   "metadata": {},
   "outputs": [],
   "source": []
  },
  {
   "cell_type": "markdown",
   "id": "57807c0c",
   "metadata": {},
   "source": [
    "## Run models sequentially\n",
    "\n",
    "This works, but it takes a long time to churn through models."
   ]
  },
  {
   "cell_type": "code",
   "execution_count": null,
   "id": "e44eb6c7-a8d1-4f08-9c62-9ec13a5aca2f",
   "metadata": {},
   "outputs": [],
   "source": []
  },
  {
   "cell_type": "code",
   "execution_count": null,
   "id": "74d9df51-87f2-4468-aeed-6f21ae0447e2",
   "metadata": {},
   "outputs": [],
   "source": []
  },
  {
   "cell_type": "code",
   "execution_count": null,
   "id": "a259d2a2-1a36-46d7-a14c-9b961fee3e68",
   "metadata": {},
   "outputs": [],
   "source": []
  },
  {
   "cell_type": "code",
   "execution_count": null,
   "id": "3eb534bb-dbf6-454b-bf08-06ca563c46fe",
   "metadata": {},
   "outputs": [],
   "source": []
  },
  {
   "cell_type": "code",
   "execution_count": 7,
   "id": "11cfd0b1",
   "metadata": {},
   "outputs": [
    {
     "name": "stdout",
     "output_type": "stream",
     "text": [
      "-- Process for ET042_0.001_0.001_10SFH_14day_75_None.csv --\n",
      "Starting a fold...\n",
      "> Assembling the datasets\n",
      "> Fitting the model on the training set\n",
      "> Predicting on the validation set\n",
      "> Recording performance metrics\n",
      "Finished a fold.\n",
      "Starting a fold...\n",
      "> Assembling the datasets\n",
      "> Fitting the model on the training set\n",
      "> Predicting on the validation set\n",
      "> Recording performance metrics\n",
      "Finished a fold.\n",
      "Starting a fold...\n",
      "> Assembling the datasets\n"
     ]
    },
    {
     "ename": "KeyboardInterrupt",
     "evalue": "",
     "output_type": "error",
     "traceback": [
      "\u001b[0;31m---------------------------------------------------------------------------\u001b[0m",
      "\u001b[0;31mKeyboardInterrupt\u001b[0m                         Traceback (most recent call last)",
      "Input \u001b[0;32mIn [7]\u001b[0m, in \u001b[0;36m<cell line: 5>\u001b[0;34m()\u001b[0m\n\u001b[1;32m     30\u001b[0m \u001b[38;5;66;03m## Parameters dictionary p EXTRA TREES\u001b[39;00m\n\u001b[1;32m     31\u001b[0m p \u001b[38;5;241m=\u001b[39m {\n\u001b[1;32m     32\u001b[0m \n\u001b[1;32m     33\u001b[0m \u001b[38;5;66;03m## SPECIFY MODEL ##\u001b[39;00m\n\u001b[0;32m   (...)\u001b[0m\n\u001b[1;32m     44\u001b[0m \u001b[38;5;124m'\u001b[39m\u001b[38;5;124min_season\u001b[39m\u001b[38;5;124m'\u001b[39m: in_season\n\u001b[1;32m     45\u001b[0m }\n\u001b[0;32m---> 47\u001b[0m \u001b[43mfit_predict_report\u001b[49m\u001b[43m(\u001b[49m\u001b[38;5;241;43m*\u001b[39;49m\u001b[38;5;241;43m*\u001b[39;49m\u001b[43mp\u001b[49m\u001b[43m)\u001b[49m\n",
      "Input \u001b[0;32mIn [6]\u001b[0m, in \u001b[0;36mfit_predict_report\u001b[0;34m(model_name, model, training_sample_size, validation_sample_size, tile, years, scheme_name, crop_of_interest_id, in_season)\u001b[0m\n\u001b[1;32m     35\u001b[0m \u001b[38;5;28mprint\u001b[39m(\u001b[38;5;124m'\u001b[39m\u001b[38;5;124m> Assembling the datasets\u001b[39m\u001b[38;5;124m'\u001b[39m)\n\u001b[1;32m     36\u001b[0m train_years \u001b[38;5;241m=\u001b[39m [yr \u001b[38;5;28;01mfor\u001b[39;00m yr \u001b[38;5;129;01min\u001b[39;00m \u001b[38;5;28mrange\u001b[39m(\u001b[38;5;241m2018\u001b[39m,\u001b[38;5;241m2023\u001b[39m) \u001b[38;5;28;01mif\u001b[39;00m yr\u001b[38;5;241m!=\u001b[39mval_year]\n\u001b[0;32m---> 38\u001b[0m X_train0, y_train0 \u001b[38;5;241m=\u001b[39m \u001b[43mcreate_X_y\u001b[49m\u001b[43m(\u001b[49m\u001b[43mtile\u001b[49m\u001b[43m,\u001b[49m\u001b[43mtrain_years\u001b[49m\u001b[43m,\u001b[49m\n\u001b[1;32m     39\u001b[0m \u001b[43m                              \u001b[49m\u001b[43mscheme_name\u001b[49m\u001b[43m,\u001b[49m\u001b[43mcrop_of_interest_id\u001b[49m\u001b[43m,\u001b[49m\n\u001b[1;32m     40\u001b[0m \u001b[43m                               \u001b[49m\u001b[43min_season\u001b[49m\u001b[43m)\u001b[49m\n\u001b[1;32m     41\u001b[0m X_val0, y_val0 \u001b[38;5;241m=\u001b[39m create_X_y(tile,val_year,\n\u001b[1;32m     42\u001b[0m                           scheme_name,crop_of_interest_id,\n\u001b[1;32m     43\u001b[0m                           in_season)\n\u001b[1;32m     45\u001b[0m \u001b[38;5;28;01mif\u001b[39;00m training_sample_size \u001b[38;5;129;01mis\u001b[39;00m \u001b[38;5;129;01mnot\u001b[39;00m \u001b[38;5;28;01mNone\u001b[39;00m:\n",
      "Input \u001b[0;32mIn [5]\u001b[0m, in \u001b[0;36mcreate_X_y\u001b[0;34m(tile, years, scheme_name, crop_of_interest_id, in_season)\u001b[0m\n\u001b[1;32m      7\u001b[0m \u001b[38;5;28;01mif\u001b[39;00m \u001b[38;5;28mtype\u001b[39m(years)\u001b[38;5;241m==\u001b[39m\u001b[38;5;28mint\u001b[39m:\n\u001b[1;32m      8\u001b[0m     \u001b[38;5;28;01mreturn\u001b[39;00m create_X_y_single_year(tile,\n\u001b[1;32m      9\u001b[0m                                   years,\n\u001b[1;32m     10\u001b[0m                                   scheme_name,\n\u001b[1;32m     11\u001b[0m                                   crop_of_interest_id,\n\u001b[1;32m     12\u001b[0m                                   in_season)\n\u001b[0;32m---> 14\u001b[0m \u001b[38;5;28;01mreturn\u001b[39;00m \u001b[43mcreate_X_y_multiyear\u001b[49m\u001b[43m(\u001b[49m\u001b[43mtile\u001b[49m\u001b[43m,\u001b[49m\n\u001b[1;32m     15\u001b[0m \u001b[43m                          \u001b[49m\u001b[43myears\u001b[49m\u001b[43m,\u001b[49m\n\u001b[1;32m     16\u001b[0m \u001b[43m                          \u001b[49m\u001b[43mscheme_name\u001b[49m\u001b[43m,\u001b[49m\n\u001b[1;32m     17\u001b[0m \u001b[43m                          \u001b[49m\u001b[43mcrop_of_interest_id\u001b[49m\u001b[43m,\u001b[49m\n\u001b[1;32m     18\u001b[0m \u001b[43m                          \u001b[49m\u001b[43min_season\u001b[49m\u001b[43m)\u001b[49m\n",
      "Input \u001b[0;32mIn [4]\u001b[0m, in \u001b[0;36mcreate_X_y_multiyear\u001b[0;34m(tile, years, scheme_name, crop_of_interest_id, in_season)\u001b[0m\n\u001b[1;32m     13\u001b[0m     X_list\u001b[38;5;241m.\u001b[39mappend(X)\n\u001b[1;32m     14\u001b[0m     y_list\u001b[38;5;241m.\u001b[39mappend(y)\n\u001b[0;32m---> 16\u001b[0m X \u001b[38;5;241m=\u001b[39m \u001b[43mnp\u001b[49m\u001b[38;5;241;43m.\u001b[39;49m\u001b[43mconcatenate\u001b[49m\u001b[43m(\u001b[49m\u001b[43mX_list\u001b[49m\u001b[43m)\u001b[49m\n\u001b[1;32m     17\u001b[0m y \u001b[38;5;241m=\u001b[39m np\u001b[38;5;241m.\u001b[39mconcatenate(y_list)\n\u001b[1;32m     19\u001b[0m \u001b[38;5;28;01mreturn\u001b[39;00m X, y\n",
      "File \u001b[0;32m<__array_function__ internals>:5\u001b[0m, in \u001b[0;36mconcatenate\u001b[0;34m(*args, **kwargs)\u001b[0m\n",
      "\u001b[0;31mKeyboardInterrupt\u001b[0m: "
     ]
    }
   ],
   "source": [
    "models_bank = create_models_bank()\n",
    "training_sample_size = 0.001\n",
    "validation_sample_size = 0.001\n",
    "\n",
    "for tile_coiid in [('10SFH',75),('15TVG',1)]:\n",
    "    for scheme_name in ['14day','5day']:\n",
    "        for in_season in [160, 230, None]:\n",
    "            for three_digit in models_bank.keys():\n",
    "\n",
    "                ## Parameters dictionary p RANDOM FOREST\n",
    "                p = {\n",
    "\n",
    "                ## SPECIFY MODEL ##\n",
    "                'model_name': 'RF' + three_digit,\n",
    "                'model': RandomForestClassifier(**models_bank[three_digit]),\n",
    "                'training_sample_size': training_sample_size,\n",
    "                'validation_sample_size': validation_sample_size,\n",
    "\n",
    "                ## SPECIFY TILE AND SCHEME ##\n",
    "                'tile': tile_coiid[0],\n",
    "                'years': [2018, 2019, 2020, 2021, 2022],\n",
    "                'scheme_name': scheme_name,\n",
    "                'crop_of_interest_id': tile_coiid[1], \n",
    "                'in_season': in_season\n",
    "                }\n",
    "\n",
    "                #fit_predict_report(**p) # run with the above parameters\n",
    "                fit_predict_report(**p)\n",
    "                \n",
    "                ## Parameters dictionary p EXTRA TREES\n",
    "                p = {\n",
    "\n",
    "                ## SPECIFY MODEL ##\n",
    "                'model_name': 'ET' + three_digit,\n",
    "                'model': ExtraTreesClassifier(**models_bank[three_digit]),\n",
    "                'training_sample_size': training_sample_size,\n",
    "                'validation_sample_size': validation_sample_size,\n",
    "\n",
    "                ## SPECIFY TILE AND SCHEME ##\n",
    "                'tile': tile_coiid[0],\n",
    "                'years': [2018, 2019, 2020, 2021, 2022],\n",
    "                'scheme_name': scheme_name,\n",
    "                'crop_of_interest_id': tile_coiid[1], \n",
    "                'in_season': in_season\n",
    "                }\n",
    "\n",
    "                fit_predict_report(**p)"
   ]
  },
  {
   "cell_type": "markdown",
   "id": "8c69cae6-8177-46f3-a005-3d23e278df4a",
   "metadata": {},
   "source": [
    "## Dask version\n",
    "\n",
    "Still troubleshooting memory issues on MGHPCC. Given enough memory resources this should run."
   ]
  },
  {
   "cell_type": "code",
   "execution_count": null,
   "id": "3ec56425-bb02-49cd-b9d1-94813058e932",
   "metadata": {},
   "outputs": [],
   "source": [
    "import dask\n",
    "from dask.distributed import print\n",
    "from dask.distributed import Client"
   ]
  },
  {
   "cell_type": "code",
   "execution_count": null,
   "id": "4c96e5f7-d410-4a4f-8612-c61bf0016dd3",
   "metadata": {
    "tags": []
   },
   "outputs": [],
   "source": [
    "client = Client(memory_limit='256GiB')\n",
    "client"
   ]
  },
  {
   "cell_type": "code",
   "execution_count": null,
   "id": "d0c7c53f-6df6-4eb2-a5af-8dc8310f7d79",
   "metadata": {},
   "outputs": [],
   "source": [
    "client.close()"
   ]
  },
  {
   "cell_type": "code",
   "execution_count": null,
   "id": "68f1b719-a689-41be-b670-032c3f3883ca",
   "metadata": {
    "tags": []
   },
   "outputs": [],
   "source": [
    "client = Client(memory_limit='128GiB',\n",
    "                threads_per_worker=1,\n",
    "               )"
   ]
  },
  {
   "cell_type": "code",
   "execution_count": null,
   "id": "dd1f5f4e-1135-43f9-985c-2bf9fca2ed01",
   "metadata": {
    "tags": []
   },
   "outputs": [],
   "source": [
    "client"
   ]
  },
  {
   "cell_type": "code",
   "execution_count": null,
   "id": "99c95d1a-7e46-4319-8927-59c08397009e",
   "metadata": {},
   "outputs": [],
   "source": [
    "client.run(trim_memory)"
   ]
  },
  {
   "cell_type": "code",
   "execution_count": null,
   "id": "40429aac-e2ed-468e-a3cc-0f2f436ba05e",
   "metadata": {},
   "outputs": [],
   "source": [
    "#client.close()"
   ]
  },
  {
   "cell_type": "code",
   "execution_count": null,
   "id": "44f28d79-7688-4000-83a3-2e40585ad2dd",
   "metadata": {},
   "outputs": [],
   "source": [
    "trim_fit_predict_report = dask.delayed(trim_fit_predict_report)"
   ]
  },
  {
   "cell_type": "code",
   "execution_count": null,
   "id": "f796ee59-3c15-4c21-bf40-f63a544455c6",
   "metadata": {},
   "outputs": [],
   "source": [
    "fit_predict_report = dask.delayed(fit_predict_report)"
   ]
  },
  {
   "cell_type": "markdown",
   "id": "680e310f-efe3-48f8-a201-75e329a1f68d",
   "metadata": {},
   "source": [
    "## Regular parallel version:"
   ]
  },
  {
   "cell_type": "code",
   "execution_count": null,
   "id": "be45ec78-eb73-44c0-8303-8e3b386100ae",
   "metadata": {},
   "outputs": [],
   "source": [
    "models_bank = create_models_bank()\n",
    "training_sample_size = 0.001\n",
    "validation_sample_size = 0.001\n",
    "\n",
    "r = []\n",
    "for tile_coiid in [('10SFH',75),('15TVG',1)]:\n",
    "    for scheme_name in ['14day','5day']:\n",
    "        for in_season in [160, 230, None]:\n",
    "            for three_digit in models_bank.keys():\n",
    "\n",
    "                ## Parameters dictionary p RANDOM FOREST\n",
    "                p = {\n",
    "\n",
    "                ## SPECIFY MODEL ##\n",
    "                'model_name': 'RF' + three_digit,\n",
    "                'model': RandomForestClassifier(**models_bank[three_digit]),\n",
    "                'training_sample_size': training_sample_size,\n",
    "                'validation_sample_size': validation_sample_size,\n",
    "\n",
    "                ## SPECIFY TILE AND SCHEME ##\n",
    "                'tile': tile_coiid[0],\n",
    "                'years': [2018, 2019, 2020, 2021, 2022],\n",
    "                'scheme_name': scheme_name,\n",
    "                'crop_of_interest_id': tile_coiid[1], \n",
    "                'in_season': in_season\n",
    "                }\n",
    "\n",
    "                #fit_predict_report(**p) # run with the above parameters\n",
    "                r.append(fit_predict_report(**p))\n",
    "                \n",
    "                ## Parameters dictionary p EXTRA TREES\n",
    "                p = {\n",
    "\n",
    "                ## SPECIFY MODEL ##\n",
    "                'model_name': 'ET' + three_digit,\n",
    "                'model': ExtraTreesClassifier(**models_bank[three_digit]),\n",
    "                'training_sample_size': training_sample_size,\n",
    "                'validation_sample_size': validation_sample_size,\n",
    "\n",
    "                ## SPECIFY TILE AND SCHEME ##\n",
    "                'tile': tile_coiid[0],\n",
    "                'years': [2018, 2019, 2020, 2021, 2022],\n",
    "                'scheme_name': scheme_name,\n",
    "                'crop_of_interest_id': tile_coiid[1], \n",
    "                'in_season': in_season\n",
    "                }\n",
    "\n",
    "                r.append(fit_predict_report(**p))\n",
    "                \n",
    "dask.compute(*r)"
   ]
  },
  {
   "cell_type": "code",
   "execution_count": null,
   "id": "a32b8328-5dfb-4a7b-9c28-eda65563d19d",
   "metadata": {},
   "outputs": [],
   "source": []
  },
  {
   "cell_type": "code",
   "execution_count": null,
   "id": "90f9295f-103d-4f47-a060-4ef9645f5896",
   "metadata": {},
   "outputs": [],
   "source": []
  },
  {
   "cell_type": "code",
   "execution_count": null,
   "id": "dd578e7e-36f9-49e3-980b-13f39ba91d22",
   "metadata": {},
   "outputs": [],
   "source": []
  },
  {
   "cell_type": "code",
   "execution_count": null,
   "id": "1fb6a730-7493-446e-b091-da8a7de9caa9",
   "metadata": {},
   "outputs": [],
   "source": []
  },
  {
   "cell_type": "code",
   "execution_count": null,
   "id": "b01444e4-a3d6-4121-89ce-16d8cef795c7",
   "metadata": {},
   "outputs": [],
   "source": []
  },
  {
   "cell_type": "code",
   "execution_count": null,
   "id": "18db1bff-15ca-485d-8839-e8a3da46f8e6",
   "metadata": {},
   "outputs": [],
   "source": []
  },
  {
   "cell_type": "code",
   "execution_count": null,
   "id": "e2f8bb20-5c11-4bfd-8b8f-5258f395aedd",
   "metadata": {},
   "outputs": [],
   "source": []
  },
  {
   "cell_type": "code",
   "execution_count": null,
   "id": "bf3b7578-98fb-4bf7-9433-fe5d724ab2b7",
   "metadata": {},
   "outputs": [],
   "source": []
  },
  {
   "cell_type": "markdown",
   "id": "f67df037-c432-4bbf-a592-2cc769db7519",
   "metadata": {},
   "source": [
    "## Memory-trimming parallel version:"
   ]
  },
  {
   "cell_type": "code",
   "execution_count": null,
   "id": "8a4d5de1-0201-497e-9928-98828d5835ae",
   "metadata": {},
   "outputs": [],
   "source": [
    "models_bank = create_models_bank()\n",
    "training_sample_size = 0.001\n",
    "validation_sample_size = 0.001\n",
    "\n",
    "r = []\n",
    "for tile_coiid in [('10SFH',75),('15TVG',1)]:\n",
    "    for scheme_name in ['14day','5day']:\n",
    "        for in_season in [160, 230, None]:\n",
    "            for three_digit in models_bank.keys():\n",
    "\n",
    "                ## Parameters dictionary p RANDOM FOREST\n",
    "                p = {\n",
    "\n",
    "                ## SPECIFY MODEL ##\n",
    "                'model_name': 'RF' + three_digit,\n",
    "                'model': RandomForestClassifier(**models_bank[three_digit]),\n",
    "                'training_sample_size': training_sample_size,\n",
    "                'validation_sample_size': validation_sample_size,\n",
    "\n",
    "                ## SPECIFY TILE AND SCHEME ##\n",
    "                'tile': tile_coiid[0],\n",
    "                'years': [2018, 2019, 2020, 2021, 2022],\n",
    "                'scheme_name': scheme_name,\n",
    "                'crop_of_interest_id': tile_coiid[1], \n",
    "                'in_season': in_season,\n",
    "                #'client': client\n",
    "                }\n",
    "\n",
    "                #fit_predict_report(**p) # run with the above parameters\n",
    "                r.append(trim_fit_predict_report(**p))\n",
    "                \n",
    "                ## Parameters dictionary p EXTRA TREES\n",
    "                p = {\n",
    "\n",
    "                ## SPECIFY MODEL ##\n",
    "                'model_name': 'ET' + three_digit,\n",
    "                'model': ExtraTreesClassifier(**models_bank[three_digit]),\n",
    "                'training_sample_size': training_sample_size,\n",
    "                'validation_sample_size': validation_sample_size,\n",
    "\n",
    "                ## SPECIFY TILE AND SCHEME ##\n",
    "                'tile': tile_coiid[0],\n",
    "                'years': [2018, 2019, 2020, 2021, 2022],\n",
    "                'scheme_name': scheme_name,\n",
    "                'crop_of_interest_id': tile_coiid[1], \n",
    "                'in_season': in_season,\n",
    "                #'client': client\n",
    "                }\n",
    "\n",
    "                r.append(trim_fit_predict_report(**p))\n",
    "                \n",
    "dask.compute(*r)"
   ]
  },
  {
   "cell_type": "code",
   "execution_count": null,
   "id": "94ac7406-c012-4667-a860-ca44354e29e6",
   "metadata": {},
   "outputs": [],
   "source": []
  },
  {
   "cell_type": "markdown",
   "id": "7831836d-0cc9-4ce8-bf95-74be5d6e1dfb",
   "metadata": {},
   "source": [
    "## Python Multiprocessing way"
   ]
  },
  {
   "cell_type": "code",
   "execution_count": 9,
   "id": "4812ed5a-ef0a-4b4b-948a-1a87334f87a7",
   "metadata": {},
   "outputs": [],
   "source": [
    "import multiprocessing as mp\n",
    "import os"
   ]
  },
  {
   "cell_type": "code",
   "execution_count": 8,
   "id": "c4e93d12-ac7c-4277-a0b3-7a0889f80d9d",
   "metadata": {},
   "outputs": [
    {
     "data": {
      "text/plain": [
       "56"
      ]
     },
     "execution_count": 8,
     "metadata": {},
     "output_type": "execute_result"
    }
   ],
   "source": [
    "mp.cpu_count()"
   ]
  },
  {
   "cell_type": "code",
   "execution_count": 11,
   "id": "584423c8-eade-4fbc-9f20-e9a1aa97d8f2",
   "metadata": {},
   "outputs": [
    {
     "data": {
      "text/plain": [
       "56"
      ]
     },
     "execution_count": 11,
     "metadata": {},
     "output_type": "execute_result"
    }
   ],
   "source": [
    "len(os.sched_getaffinity(0))"
   ]
  },
  {
   "cell_type": "code",
   "execution_count": 9,
   "id": "5e730398-306e-499a-ac52-3fe161bae35c",
   "metadata": {},
   "outputs": [
    {
     "name": "stdout",
     "output_type": "stream",
     "text": [
      "-- Process for model_name_training_sample_size_validation_sample_size_tile_scheme_name_crop_of_interest_id_in_season.csv ---- Process for model_name_training_sample_size_validation_sample_size_tile_scheme_name_crop_of_interest_id_in_season.csv ---- Process for model_name_training_sample_size_validation_sample_size_tile_scheme_name_crop_of_interest_id_in_season.csv ---- Process for model_name_training_sample_size_validation_sample_size_tile_scheme_name_crop_of_interest_id_in_season.csv --\n",
      "\n",
      "\n",
      "\n",
      "Starting a fold...-- Process for model_name_training_sample_size_validation_sample_size_tile_scheme_name_crop_of_interest_id_in_season.csv --Starting a fold...Starting a fold...Starting a fold...\n",
      "\n",
      "\n",
      "\n",
      "\n",
      "> Assembling the datasets-- Process for model_name_training_sample_size_validation_sample_size_tile_scheme_name_crop_of_interest_id_in_season.csv --Starting a fold...-- Process for model_name_training_sample_size_validation_sample_size_tile_scheme_name_crop_of_interest_id_in_season.csv --> Assembling the datasets-- Process for model_name_training_sample_size_validation_sample_size_tile_scheme_name_crop_of_interest_id_in_season.csv --> Assembling the datasets> Assembling the datasets\n",
      "-- Process for model_name_training_sample_size_validation_sample_size_tile_scheme_name_crop_of_interest_id_in_season.csv ---- Process for model_name_training_sample_size_validation_sample_size_tile_scheme_name_crop_of_interest_id_in_season.csv --\n",
      "\n",
      "\n",
      "\n",
      "\n",
      "\n",
      "\n",
      "\n",
      "\n",
      "Starting a fold...Starting a fold...> Assembling the datasets-- Process for model_name_training_sample_size_validation_sample_size_tile_scheme_name_crop_of_interest_id_in_season.csv --Starting a fold...Starting a fold...-- Process for model_name_training_sample_size_validation_sample_size_tile_scheme_name_crop_of_interest_id_in_season.csv ---- Process for model_name_training_sample_size_validation_sample_size_tile_scheme_name_crop_of_interest_id_in_season.csv --\n",
      "Starting a fold...\n",
      "-- Process for model_name_training_sample_size_validation_sample_size_tile_scheme_name_crop_of_interest_id_in_season.csv ---- Process for model_name_training_sample_size_validation_sample_size_tile_scheme_name_crop_of_interest_id_in_season.csv ---- Process for model_name_training_sample_size_validation_sample_size_tile_scheme_name_crop_of_interest_id_in_season.csv ---- Process for model_name_training_sample_size_validation_sample_size_tile_scheme_name_crop_of_interest_id_in_season.csv ---- Process for model_name_training_sample_size_validation_sample_size_tile_scheme_name_crop_of_interest_id_in_season.csv ---- Process for model_name_training_sample_size_validation_sample_size_tile_scheme_name_crop_of_interest_id_in_season.csv ---- Process for model_name_training_sample_size_validation_sample_size_tile_scheme_name_crop_of_interest_id_in_season.csv --\n",
      "-- Process for model_name_training_sample_size_validation_sample_size_tile_scheme_name_crop_of_interest_id_in_season.csv --\n",
      "\n",
      "\n",
      "-- Process for model_name_training_sample_size_validation_sample_size_tile_scheme_name_crop_of_interest_id_in_season.csv ---- Process for model_name_training_sample_size_validation_sample_size_tile_scheme_name_crop_of_interest_id_in_season.csv --\n",
      "-- Process for model_name_training_sample_size_validation_sample_size_tile_scheme_name_crop_of_interest_id_in_season.csv --\n",
      "> Assembling the datasets\n",
      "> Assembling the datasets\n",
      "-- Process for model_name_training_sample_size_validation_sample_size_tile_scheme_name_crop_of_interest_id_in_season.csv --\n",
      "-- Process for model_name_training_sample_size_validation_sample_size_tile_scheme_name_crop_of_interest_id_in_season.csv --\n",
      "-- Process for model_name_training_sample_size_validation_sample_size_tile_scheme_name_crop_of_interest_id_in_season.csv --\n",
      "\n",
      "\n",
      "> Assembling the datasets> Assembling the datasets-- Process for model_name_training_sample_size_validation_sample_size_tile_scheme_name_crop_of_interest_id_in_season.csv --Starting a fold...\n",
      "\n",
      "Starting a fold...-- Process for model_name_training_sample_size_validation_sample_size_tile_scheme_name_crop_of_interest_id_in_season.csv --\n",
      "-- Process for model_name_training_sample_size_validation_sample_size_tile_scheme_name_crop_of_interest_id_in_season.csv --\n",
      "-- Process for model_name_training_sample_size_validation_sample_size_tile_scheme_name_crop_of_interest_id_in_season.csv --Starting a fold...\n",
      "-- Process for model_name_training_sample_size_validation_sample_size_tile_scheme_name_crop_of_interest_id_in_season.csv --> Assembling the datasets-- Process for model_name_training_sample_size_validation_sample_size_tile_scheme_name_crop_of_interest_id_in_season.csv --\n",
      "Starting a fold...-- Process for model_name_training_sample_size_validation_sample_size_tile_scheme_name_crop_of_interest_id_in_season.csv ---- Process for model_name_training_sample_size_validation_sample_size_tile_scheme_name_crop_of_interest_id_in_season.csv --\n",
      "Starting a fold...-- Process for model_name_training_sample_size_validation_sample_size_tile_scheme_name_crop_of_interest_id_in_season.csv ---- Process for model_name_training_sample_size_validation_sample_size_tile_scheme_name_crop_of_interest_id_in_season.csv --Starting a fold...-- Process for model_name_training_sample_size_validation_sample_size_tile_scheme_name_crop_of_interest_id_in_season.csv --\n",
      "-- Process for model_name_training_sample_size_validation_sample_size_tile_scheme_name_crop_of_interest_id_in_season.csv --Starting a fold...\n",
      "-- Process for model_name_training_sample_size_validation_sample_size_tile_scheme_name_crop_of_interest_id_in_season.csv ---- Process for model_name_training_sample_size_validation_sample_size_tile_scheme_name_crop_of_interest_id_in_season.csv --Starting a fold...-- Process for model_name_training_sample_size_validation_sample_size_tile_scheme_name_crop_of_interest_id_in_season.csv ---- Process for model_name_training_sample_size_validation_sample_size_tile_scheme_name_crop_of_interest_id_in_season.csv --Starting a fold...\n",
      "Starting a fold...\n",
      "\n",
      "\n",
      "-- Process for model_name_training_sample_size_validation_sample_size_tile_scheme_name_crop_of_interest_id_in_season.csv --Starting a fold...\n",
      "-- Process for model_name_training_sample_size_validation_sample_size_tile_scheme_name_crop_of_interest_id_in_season.csv --Starting a fold...-- Process for model_name_training_sample_size_validation_sample_size_tile_scheme_name_crop_of_interest_id_in_season.csv --\n",
      "-- Process for model_name_training_sample_size_validation_sample_size_tile_scheme_name_crop_of_interest_id_in_season.csv --Starting a fold...\n",
      "\n",
      "\n",
      "Starting a fold...\n",
      "-- Process for model_name_training_sample_size_validation_sample_size_tile_scheme_name_crop_of_interest_id_in_season.csv --\n",
      "\n",
      "\n",
      "-- Process for model_name_training_sample_size_validation_sample_size_tile_scheme_name_crop_of_interest_id_in_season.csv ---- Process for model_name_training_sample_size_validation_sample_size_tile_scheme_name_crop_of_interest_id_in_season.csv ---- Process for model_name_training_sample_size_validation_sample_size_tile_scheme_name_crop_of_interest_id_in_season.csv --\n",
      "\n",
      "Starting a fold...\n",
      "\n",
      "\n",
      "-- Process for model_name_training_sample_size_validation_sample_size_tile_scheme_name_crop_of_interest_id_in_season.csv --\n",
      "\n",
      "Starting a fold...-- Process for model_name_training_sample_size_validation_sample_size_tile_scheme_name_crop_of_interest_id_in_season.csv ---- Process for model_name_training_sample_size_validation_sample_size_tile_scheme_name_crop_of_interest_id_in_season.csv --\n",
      "\n",
      "Starting a fold...\n",
      "\n",
      "\n",
      "\n",
      "-- Process for model_name_training_sample_size_validation_sample_size_tile_scheme_name_crop_of_interest_id_in_season.csv --\n",
      "\n",
      "\n",
      "-- Process for model_name_training_sample_size_validation_sample_size_tile_scheme_name_crop_of_interest_id_in_season.csv --Starting a fold...> Assembling the datasets-- Process for model_name_training_sample_size_validation_sample_size_tile_scheme_name_crop_of_interest_id_in_season.csv --\n",
      "\n",
      "-- Process for model_name_training_sample_size_validation_sample_size_tile_scheme_name_crop_of_interest_id_in_season.csv ---- Process for model_name_training_sample_size_validation_sample_size_tile_scheme_name_crop_of_interest_id_in_season.csv --"
     ]
    }
   ],
   "source": [
    "#pool = mp.Pool(56)"
   ]
  },
  {
   "cell_type": "code",
   "execution_count": 10,
   "id": "771ab3a8-4972-4404-aa5c-3829bb26b7f5",
   "metadata": {},
   "outputs": [],
   "source": [
    "#fit_predict_report = pool.apply_async(fit_predict_report)"
   ]
  },
  {
   "cell_type": "code",
   "execution_count": null,
   "id": "3d0e2f6b-683b-4ca4-8160-a80b8f566fba",
   "metadata": {},
   "outputs": [],
   "source": []
  },
  {
   "cell_type": "code",
   "execution_count": null,
   "id": "e08658ed-27f9-41b8-81d9-424e2604c6f4",
   "metadata": {},
   "outputs": [
    {
     "name": "stdout",
     "output_type": "stream",
     "text": [
      "-- Process for ET022_0.001_0.001_10SFH_14day_75_None.csv --\n",
      "Starting a fold...\n",
      "> Assembling the datasets\n",
      "> Fitting the model on the training set\n",
      "> Predicting on the validation set\n"
     ]
    },
    {
     "name": "stderr",
     "output_type": "stream",
     "text": [
      "/shared/centos7/anaconda3/2022.05/lib/python3.9/site-packages/sklearn/ensemble/_base.py:194: UserWarning: Loky-backed parallel loops cannot be called in a multiprocessing, setting n_jobs=1\n",
      "  n_jobs = min(effective_n_jobs(n_jobs), n_estimators)\n"
     ]
    },
    {
     "name": "stdout",
     "output_type": "stream",
     "text": [
      "> Recording performance metrics\n",
      "Finished a fold.\n",
      "Starting a fold...\n",
      "> Assembling the datasets\n",
      "> Fitting the model on the training set\n",
      "> Predicting on the validation set\n"
     ]
    },
    {
     "name": "stderr",
     "output_type": "stream",
     "text": [
      "/shared/centos7/anaconda3/2022.05/lib/python3.9/site-packages/sklearn/ensemble/_base.py:194: UserWarning: Loky-backed parallel loops cannot be called in a multiprocessing, setting n_jobs=1\n",
      "  n_jobs = min(effective_n_jobs(n_jobs), n_estimators)\n"
     ]
    },
    {
     "name": "stdout",
     "output_type": "stream",
     "text": [
      "> Recording performance metrics\n",
      "Finished a fold.\n",
      "Starting a fold...\n",
      "> Assembling the datasets\n",
      "> Fitting the model on the training set\n",
      "> Predicting on the validation set\n"
     ]
    },
    {
     "name": "stderr",
     "output_type": "stream",
     "text": [
      "/shared/centos7/anaconda3/2022.05/lib/python3.9/site-packages/sklearn/ensemble/_base.py:194: UserWarning: Loky-backed parallel loops cannot be called in a multiprocessing, setting n_jobs=1\n",
      "  n_jobs = min(effective_n_jobs(n_jobs), n_estimators)\n"
     ]
    },
    {
     "name": "stdout",
     "output_type": "stream",
     "text": [
      "> Recording performance metrics\n",
      "Finished a fold.\n",
      "Starting a fold...\n",
      "> Assembling the datasets\n",
      "> Fitting the model on the training set\n",
      "> Predicting on the validation set\n"
     ]
    },
    {
     "name": "stderr",
     "output_type": "stream",
     "text": [
      "/shared/centos7/anaconda3/2022.05/lib/python3.9/site-packages/sklearn/ensemble/_base.py:194: UserWarning: Loky-backed parallel loops cannot be called in a multiprocessing, setting n_jobs=1\n",
      "  n_jobs = min(effective_n_jobs(n_jobs), n_estimators)\n"
     ]
    },
    {
     "name": "stdout",
     "output_type": "stream",
     "text": [
      "> Recording performance metrics\n",
      "Finished a fold.\n",
      "Starting a fold...\n",
      "> Assembling the datasets\n",
      "> Fitting the model on the training set\n",
      "> Predicting on the validation set\n"
     ]
    },
    {
     "name": "stderr",
     "output_type": "stream",
     "text": [
      "/shared/centos7/anaconda3/2022.05/lib/python3.9/site-packages/sklearn/ensemble/_base.py:194: UserWarning: Loky-backed parallel loops cannot be called in a multiprocessing, setting n_jobs=1\n",
      "  n_jobs = min(effective_n_jobs(n_jobs), n_estimators)\n"
     ]
    },
    {
     "name": "stdout",
     "output_type": "stream",
     "text": [
      "> Recording performance metrics\n",
      "Finished a fold.\n",
      "Find results in ../data/results/ET022_0.001_0.001_10SFH_14day_75_None.csv\n",
      "-- Process for RF023_0.001_0.001_10SFH_14day_75_None.csv --\n",
      "Starting a fold...\n",
      "> Assembling the datasets\n",
      "> Fitting the model on the training set\n",
      "> Predicting on the validation set\n"
     ]
    },
    {
     "name": "stderr",
     "output_type": "stream",
     "text": [
      "/shared/centos7/anaconda3/2022.05/lib/python3.9/site-packages/sklearn/ensemble/_base.py:194: UserWarning: Loky-backed parallel loops cannot be called in a multiprocessing, setting n_jobs=1\n",
      "  n_jobs = min(effective_n_jobs(n_jobs), n_estimators)\n"
     ]
    },
    {
     "name": "stdout",
     "output_type": "stream",
     "text": [
      "> Recording performance metrics\n",
      "Finished a fold.\n",
      "Starting a fold...\n",
      "> Assembling the datasets\n",
      "> Fitting the model on the training set\n",
      "> Predicting on the validation set\n"
     ]
    },
    {
     "name": "stderr",
     "output_type": "stream",
     "text": [
      "/shared/centos7/anaconda3/2022.05/lib/python3.9/site-packages/sklearn/ensemble/_base.py:194: UserWarning: Loky-backed parallel loops cannot be called in a multiprocessing, setting n_jobs=1\n",
      "  n_jobs = min(effective_n_jobs(n_jobs), n_estimators)\n"
     ]
    },
    {
     "name": "stdout",
     "output_type": "stream",
     "text": [
      "> Recording performance metrics\n",
      "Finished a fold.\n",
      "Starting a fold...\n",
      "> Assembling the datasets\n",
      "> Fitting the model on the training set\n",
      "> Predicting on the validation set\n"
     ]
    },
    {
     "name": "stderr",
     "output_type": "stream",
     "text": [
      "/shared/centos7/anaconda3/2022.05/lib/python3.9/site-packages/sklearn/ensemble/_base.py:194: UserWarning: Loky-backed parallel loops cannot be called in a multiprocessing, setting n_jobs=1\n",
      "  n_jobs = min(effective_n_jobs(n_jobs), n_estimators)\n"
     ]
    },
    {
     "name": "stdout",
     "output_type": "stream",
     "text": [
      "> Recording performance metrics\n",
      "Finished a fold.\n",
      "Starting a fold...\n",
      "> Assembling the datasets\n",
      "> Fitting the model on the training set\n",
      "> Predicting on the validation set\n"
     ]
    },
    {
     "name": "stderr",
     "output_type": "stream",
     "text": [
      "/shared/centos7/anaconda3/2022.05/lib/python3.9/site-packages/sklearn/ensemble/_base.py:194: UserWarning: Loky-backed parallel loops cannot be called in a multiprocessing, setting n_jobs=1\n",
      "  n_jobs = min(effective_n_jobs(n_jobs), n_estimators)\n"
     ]
    },
    {
     "name": "stdout",
     "output_type": "stream",
     "text": [
      "> Recording performance metrics\n",
      "Finished a fold.\n",
      "Starting a fold...\n",
      "> Assembling the datasets\n",
      "> Fitting the model on the training set\n",
      "> Predicting on the validation set\n"
     ]
    },
    {
     "name": "stderr",
     "output_type": "stream",
     "text": [
      "/shared/centos7/anaconda3/2022.05/lib/python3.9/site-packages/sklearn/ensemble/_base.py:194: UserWarning: Loky-backed parallel loops cannot be called in a multiprocessing, setting n_jobs=1\n",
      "  n_jobs = min(effective_n_jobs(n_jobs), n_estimators)\n"
     ]
    },
    {
     "name": "stdout",
     "output_type": "stream",
     "text": [
      "> Recording performance metrics\n",
      "Finished a fold.\n",
      "Find results in ../data/results/RF023_0.001_0.001_10SFH_14day_75_None.csv\n",
      "-- Process for ET023_0.001_0.001_10SFH_14day_75_None.csv --\n",
      "Starting a fold...\n",
      "> Assembling the datasets\n",
      "> Fitting the model on the training set\n",
      "> Predicting on the validation set\n"
     ]
    },
    {
     "name": "stderr",
     "output_type": "stream",
     "text": [
      "/shared/centos7/anaconda3/2022.05/lib/python3.9/site-packages/sklearn/ensemble/_base.py:194: UserWarning: Loky-backed parallel loops cannot be called in a multiprocessing, setting n_jobs=1\n",
      "  n_jobs = min(effective_n_jobs(n_jobs), n_estimators)\n"
     ]
    },
    {
     "name": "stdout",
     "output_type": "stream",
     "text": [
      "> Recording performance metrics\n",
      "Finished a fold.\n",
      "Starting a fold...\n",
      "> Assembling the datasets\n",
      "> Fitting the model on the training set\n",
      "> Predicting on the validation set\n"
     ]
    },
    {
     "name": "stderr",
     "output_type": "stream",
     "text": [
      "/shared/centos7/anaconda3/2022.05/lib/python3.9/site-packages/sklearn/ensemble/_base.py:194: UserWarning: Loky-backed parallel loops cannot be called in a multiprocessing, setting n_jobs=1\n",
      "  n_jobs = min(effective_n_jobs(n_jobs), n_estimators)\n"
     ]
    },
    {
     "name": "stdout",
     "output_type": "stream",
     "text": [
      "> Recording performance metrics\n",
      "Finished a fold.\n",
      "Starting a fold...\n",
      "> Assembling the datasets\n",
      "> Fitting the model on the training set\n",
      "> Predicting on the validation set\n"
     ]
    },
    {
     "name": "stderr",
     "output_type": "stream",
     "text": [
      "/shared/centos7/anaconda3/2022.05/lib/python3.9/site-packages/sklearn/ensemble/_base.py:194: UserWarning: Loky-backed parallel loops cannot be called in a multiprocessing, setting n_jobs=1\n",
      "  n_jobs = min(effective_n_jobs(n_jobs), n_estimators)\n"
     ]
    },
    {
     "name": "stdout",
     "output_type": "stream",
     "text": [
      "> Recording performance metrics\n",
      "Finished a fold.\n",
      "Starting a fold...\n",
      "> Assembling the datasets\n",
      "> Fitting the model on the training set\n",
      "> Predicting on the validation set\n"
     ]
    },
    {
     "name": "stderr",
     "output_type": "stream",
     "text": [
      "/shared/centos7/anaconda3/2022.05/lib/python3.9/site-packages/sklearn/ensemble/_base.py:194: UserWarning: Loky-backed parallel loops cannot be called in a multiprocessing, setting n_jobs=1\n",
      "  n_jobs = min(effective_n_jobs(n_jobs), n_estimators)\n"
     ]
    },
    {
     "name": "stdout",
     "output_type": "stream",
     "text": [
      "> Recording performance metrics\n",
      "Finished a fold.\n",
      "Starting a fold...\n",
      "> Assembling the datasets\n",
      "> Fitting the model on the training set\n",
      "> Predicting on the validation set\n"
     ]
    },
    {
     "name": "stderr",
     "output_type": "stream",
     "text": [
      "/shared/centos7/anaconda3/2022.05/lib/python3.9/site-packages/sklearn/ensemble/_base.py:194: UserWarning: Loky-backed parallel loops cannot be called in a multiprocessing, setting n_jobs=1\n",
      "  n_jobs = min(effective_n_jobs(n_jobs), n_estimators)\n"
     ]
    },
    {
     "name": "stdout",
     "output_type": "stream",
     "text": [
      "> Recording performance metrics\n",
      "Finished a fold.\n",
      "Find results in ../data/results/ET023_0.001_0.001_10SFH_14day_75_None.csv\n",
      "-- Process for RF024_0.001_0.001_10SFH_14day_75_None.csv --\n",
      "Starting a fold...\n",
      "> Assembling the datasets\n",
      "> Fitting the model on the training set\n",
      "> Predicting on the validation set\n"
     ]
    },
    {
     "name": "stderr",
     "output_type": "stream",
     "text": [
      "/shared/centos7/anaconda3/2022.05/lib/python3.9/site-packages/sklearn/ensemble/_base.py:194: UserWarning: Loky-backed parallel loops cannot be called in a multiprocessing, setting n_jobs=1\n",
      "  n_jobs = min(effective_n_jobs(n_jobs), n_estimators)\n"
     ]
    },
    {
     "name": "stdout",
     "output_type": "stream",
     "text": [
      "> Recording performance metrics\n",
      "Finished a fold.\n",
      "Starting a fold...\n",
      "> Assembling the datasets\n",
      "> Fitting the model on the training set\n",
      "> Predicting on the validation set\n"
     ]
    },
    {
     "name": "stderr",
     "output_type": "stream",
     "text": [
      "/shared/centos7/anaconda3/2022.05/lib/python3.9/site-packages/sklearn/ensemble/_base.py:194: UserWarning: Loky-backed parallel loops cannot be called in a multiprocessing, setting n_jobs=1\n",
      "  n_jobs = min(effective_n_jobs(n_jobs), n_estimators)\n"
     ]
    },
    {
     "name": "stdout",
     "output_type": "stream",
     "text": [
      "> Recording performance metrics\n",
      "Finished a fold.\n",
      "Starting a fold...\n",
      "> Assembling the datasets\n",
      "> Fitting the model on the training set\n",
      "> Predicting on the validation set\n"
     ]
    },
    {
     "name": "stderr",
     "output_type": "stream",
     "text": [
      "/shared/centos7/anaconda3/2022.05/lib/python3.9/site-packages/sklearn/ensemble/_base.py:194: UserWarning: Loky-backed parallel loops cannot be called in a multiprocessing, setting n_jobs=1\n",
      "  n_jobs = min(effective_n_jobs(n_jobs), n_estimators)\n"
     ]
    },
    {
     "name": "stdout",
     "output_type": "stream",
     "text": [
      "> Recording performance metrics\n",
      "Finished a fold.\n",
      "Starting a fold...\n",
      "> Assembling the datasets\n",
      "> Fitting the model on the training set\n",
      "> Predicting on the validation set\n"
     ]
    },
    {
     "name": "stderr",
     "output_type": "stream",
     "text": [
      "/shared/centos7/anaconda3/2022.05/lib/python3.9/site-packages/sklearn/ensemble/_base.py:194: UserWarning: Loky-backed parallel loops cannot be called in a multiprocessing, setting n_jobs=1\n",
      "  n_jobs = min(effective_n_jobs(n_jobs), n_estimators)\n"
     ]
    },
    {
     "name": "stdout",
     "output_type": "stream",
     "text": [
      "> Recording performance metrics\n",
      "Finished a fold.\n",
      "Starting a fold...\n",
      "> Assembling the datasets\n",
      "> Fitting the model on the training set\n",
      "> Predicting on the validation set\n"
     ]
    },
    {
     "name": "stderr",
     "output_type": "stream",
     "text": [
      "/shared/centos7/anaconda3/2022.05/lib/python3.9/site-packages/sklearn/ensemble/_base.py:194: UserWarning: Loky-backed parallel loops cannot be called in a multiprocessing, setting n_jobs=1\n",
      "  n_jobs = min(effective_n_jobs(n_jobs), n_estimators)\n"
     ]
    },
    {
     "name": "stdout",
     "output_type": "stream",
     "text": [
      "> Recording performance metrics\n",
      "Finished a fold.\n",
      "Find results in ../data/results/RF024_0.001_0.001_10SFH_14day_75_None.csv\n",
      "-- Process for ET024_0.001_0.001_10SFH_14day_75_None.csv --\n",
      "Starting a fold...\n",
      "> Assembling the datasets\n",
      "> Fitting the model on the training set\n",
      "> Predicting on the validation set\n"
     ]
    },
    {
     "name": "stderr",
     "output_type": "stream",
     "text": [
      "/shared/centos7/anaconda3/2022.05/lib/python3.9/site-packages/sklearn/ensemble/_base.py:194: UserWarning: Loky-backed parallel loops cannot be called in a multiprocessing, setting n_jobs=1\n",
      "  n_jobs = min(effective_n_jobs(n_jobs), n_estimators)\n"
     ]
    },
    {
     "name": "stdout",
     "output_type": "stream",
     "text": [
      "> Recording performance metrics\n",
      "Finished a fold.\n",
      "Starting a fold...\n",
      "> Assembling the datasets\n",
      "> Fitting the model on the training set\n",
      "> Predicting on the validation set\n"
     ]
    },
    {
     "name": "stderr",
     "output_type": "stream",
     "text": [
      "/shared/centos7/anaconda3/2022.05/lib/python3.9/site-packages/sklearn/ensemble/_base.py:194: UserWarning: Loky-backed parallel loops cannot be called in a multiprocessing, setting n_jobs=1\n",
      "  n_jobs = min(effective_n_jobs(n_jobs), n_estimators)\n"
     ]
    },
    {
     "name": "stdout",
     "output_type": "stream",
     "text": [
      "> Recording performance metrics\n",
      "Finished a fold.\n",
      "Starting a fold...\n",
      "> Assembling the datasets\n",
      "> Fitting the model on the training set\n",
      "> Predicting on the validation set\n"
     ]
    },
    {
     "name": "stderr",
     "output_type": "stream",
     "text": [
      "/shared/centos7/anaconda3/2022.05/lib/python3.9/site-packages/sklearn/ensemble/_base.py:194: UserWarning: Loky-backed parallel loops cannot be called in a multiprocessing, setting n_jobs=1\n",
      "  n_jobs = min(effective_n_jobs(n_jobs), n_estimators)\n"
     ]
    },
    {
     "name": "stdout",
     "output_type": "stream",
     "text": [
      "> Recording performance metrics\n",
      "Finished a fold.\n",
      "Starting a fold...\n",
      "> Assembling the datasets\n",
      "> Fitting the model on the training set\n",
      "> Predicting on the validation set\n"
     ]
    },
    {
     "name": "stderr",
     "output_type": "stream",
     "text": [
      "/shared/centos7/anaconda3/2022.05/lib/python3.9/site-packages/sklearn/ensemble/_base.py:194: UserWarning: Loky-backed parallel loops cannot be called in a multiprocessing, setting n_jobs=1\n",
      "  n_jobs = min(effective_n_jobs(n_jobs), n_estimators)\n"
     ]
    },
    {
     "name": "stdout",
     "output_type": "stream",
     "text": [
      "> Recording performance metrics\n",
      "Finished a fold.\n",
      "Starting a fold...\n",
      "> Assembling the datasets\n",
      "> Fitting the model on the training set\n",
      "> Predicting on the validation set\n"
     ]
    },
    {
     "name": "stderr",
     "output_type": "stream",
     "text": [
      "/shared/centos7/anaconda3/2022.05/lib/python3.9/site-packages/sklearn/ensemble/_base.py:194: UserWarning: Loky-backed parallel loops cannot be called in a multiprocessing, setting n_jobs=1\n",
      "  n_jobs = min(effective_n_jobs(n_jobs), n_estimators)\n"
     ]
    },
    {
     "name": "stdout",
     "output_type": "stream",
     "text": [
      "> Recording performance metrics\n",
      "Finished a fold.\n",
      "Find results in ../data/results/ET024_0.001_0.001_10SFH_14day_75_None.csv\n",
      "-- Process for RF025_0.001_0.001_10SFH_14day_75_None.csv --\n",
      "Starting a fold...\n",
      "> Assembling the datasets\n",
      "> Fitting the model on the training set\n",
      "> Predicting on the validation set\n"
     ]
    },
    {
     "name": "stderr",
     "output_type": "stream",
     "text": [
      "/shared/centos7/anaconda3/2022.05/lib/python3.9/site-packages/sklearn/ensemble/_base.py:194: UserWarning: Loky-backed parallel loops cannot be called in a multiprocessing, setting n_jobs=1\n",
      "  n_jobs = min(effective_n_jobs(n_jobs), n_estimators)\n"
     ]
    },
    {
     "name": "stdout",
     "output_type": "stream",
     "text": [
      "> Recording performance metrics\n",
      "Finished a fold.\n",
      "Starting a fold...\n",
      "> Assembling the datasets\n",
      "> Fitting the model on the training set\n",
      "> Predicting on the validation set\n"
     ]
    },
    {
     "name": "stderr",
     "output_type": "stream",
     "text": [
      "/shared/centos7/anaconda3/2022.05/lib/python3.9/site-packages/sklearn/ensemble/_base.py:194: UserWarning: Loky-backed parallel loops cannot be called in a multiprocessing, setting n_jobs=1\n",
      "  n_jobs = min(effective_n_jobs(n_jobs), n_estimators)\n"
     ]
    },
    {
     "name": "stdout",
     "output_type": "stream",
     "text": [
      "> Recording performance metrics\n",
      "Finished a fold.\n",
      "Starting a fold...\n",
      "> Assembling the datasets\n",
      "> Fitting the model on the training set\n",
      "> Predicting on the validation set\n"
     ]
    },
    {
     "name": "stderr",
     "output_type": "stream",
     "text": [
      "/shared/centos7/anaconda3/2022.05/lib/python3.9/site-packages/sklearn/ensemble/_base.py:194: UserWarning: Loky-backed parallel loops cannot be called in a multiprocessing, setting n_jobs=1\n",
      "  n_jobs = min(effective_n_jobs(n_jobs), n_estimators)\n"
     ]
    },
    {
     "name": "stdout",
     "output_type": "stream",
     "text": [
      "> Recording performance metrics\n",
      "Finished a fold.\n",
      "Starting a fold...\n",
      "> Assembling the datasets\n",
      "> Fitting the model on the training set\n",
      "> Predicting on the validation set\n"
     ]
    },
    {
     "name": "stderr",
     "output_type": "stream",
     "text": [
      "/shared/centos7/anaconda3/2022.05/lib/python3.9/site-packages/sklearn/ensemble/_base.py:194: UserWarning: Loky-backed parallel loops cannot be called in a multiprocessing, setting n_jobs=1\n",
      "  n_jobs = min(effective_n_jobs(n_jobs), n_estimators)\n"
     ]
    },
    {
     "name": "stdout",
     "output_type": "stream",
     "text": [
      "> Recording performance metrics\n",
      "Finished a fold.\n",
      "Starting a fold...\n",
      "> Assembling the datasets\n",
      "> Fitting the model on the training set\n",
      "> Predicting on the validation set\n"
     ]
    },
    {
     "name": "stderr",
     "output_type": "stream",
     "text": [
      "/shared/centos7/anaconda3/2022.05/lib/python3.9/site-packages/sklearn/ensemble/_base.py:194: UserWarning: Loky-backed parallel loops cannot be called in a multiprocessing, setting n_jobs=1\n",
      "  n_jobs = min(effective_n_jobs(n_jobs), n_estimators)\n"
     ]
    },
    {
     "name": "stdout",
     "output_type": "stream",
     "text": [
      "> Recording performance metrics\n",
      "Finished a fold.\n",
      "Find results in ../data/results/RF025_0.001_0.001_10SFH_14day_75_None.csv\n",
      "-- Process for ET025_0.001_0.001_10SFH_14day_75_None.csv --\n",
      "Starting a fold...\n",
      "> Assembling the datasets\n",
      "> Fitting the model on the training set\n",
      "> Predicting on the validation set\n"
     ]
    },
    {
     "name": "stderr",
     "output_type": "stream",
     "text": [
      "/shared/centos7/anaconda3/2022.05/lib/python3.9/site-packages/sklearn/ensemble/_base.py:194: UserWarning: Loky-backed parallel loops cannot be called in a multiprocessing, setting n_jobs=1\n",
      "  n_jobs = min(effective_n_jobs(n_jobs), n_estimators)\n"
     ]
    },
    {
     "name": "stdout",
     "output_type": "stream",
     "text": [
      "> Recording performance metrics\n",
      "Finished a fold.\n",
      "Starting a fold...\n",
      "> Assembling the datasets\n",
      "> Fitting the model on the training set\n",
      "> Predicting on the validation set\n"
     ]
    },
    {
     "name": "stderr",
     "output_type": "stream",
     "text": [
      "/shared/centos7/anaconda3/2022.05/lib/python3.9/site-packages/sklearn/ensemble/_base.py:194: UserWarning: Loky-backed parallel loops cannot be called in a multiprocessing, setting n_jobs=1\n",
      "  n_jobs = min(effective_n_jobs(n_jobs), n_estimators)\n"
     ]
    },
    {
     "name": "stdout",
     "output_type": "stream",
     "text": [
      "> Recording performance metrics\n",
      "Finished a fold.\n",
      "Starting a fold...\n",
      "> Assembling the datasets\n",
      "> Fitting the model on the training set\n",
      "> Predicting on the validation set\n"
     ]
    },
    {
     "name": "stderr",
     "output_type": "stream",
     "text": [
      "/shared/centos7/anaconda3/2022.05/lib/python3.9/site-packages/sklearn/ensemble/_base.py:194: UserWarning: Loky-backed parallel loops cannot be called in a multiprocessing, setting n_jobs=1\n",
      "  n_jobs = min(effective_n_jobs(n_jobs), n_estimators)\n"
     ]
    },
    {
     "name": "stdout",
     "output_type": "stream",
     "text": [
      "> Recording performance metrics\n",
      "Finished a fold.\n",
      "Starting a fold...\n",
      "> Assembling the datasets\n",
      "> Fitting the model on the training set\n",
      "> Predicting on the validation set\n"
     ]
    },
    {
     "name": "stderr",
     "output_type": "stream",
     "text": [
      "/shared/centos7/anaconda3/2022.05/lib/python3.9/site-packages/sklearn/ensemble/_base.py:194: UserWarning: Loky-backed parallel loops cannot be called in a multiprocessing, setting n_jobs=1\n",
      "  n_jobs = min(effective_n_jobs(n_jobs), n_estimators)\n"
     ]
    },
    {
     "name": "stdout",
     "output_type": "stream",
     "text": [
      "> Recording performance metrics\n",
      "Finished a fold.\n",
      "Starting a fold...\n",
      "> Assembling the datasets\n",
      "> Fitting the model on the training set\n",
      "> Predicting on the validation set\n"
     ]
    },
    {
     "name": "stderr",
     "output_type": "stream",
     "text": [
      "/shared/centos7/anaconda3/2022.05/lib/python3.9/site-packages/sklearn/ensemble/_base.py:194: UserWarning: Loky-backed parallel loops cannot be called in a multiprocessing, setting n_jobs=1\n",
      "  n_jobs = min(effective_n_jobs(n_jobs), n_estimators)\n"
     ]
    },
    {
     "name": "stdout",
     "output_type": "stream",
     "text": [
      "> Recording performance metrics\n",
      "Finished a fold.\n",
      "Find results in ../data/results/ET025_0.001_0.001_10SFH_14day_75_None.csv\n",
      "-- Process for RF026_0.001_0.001_10SFH_14day_75_None.csv --\n",
      "Starting a fold...\n",
      "> Assembling the datasets\n",
      "> Fitting the model on the training set\n",
      "> Predicting on the validation set\n"
     ]
    },
    {
     "name": "stderr",
     "output_type": "stream",
     "text": [
      "/shared/centos7/anaconda3/2022.05/lib/python3.9/site-packages/sklearn/ensemble/_base.py:194: UserWarning: Loky-backed parallel loops cannot be called in a multiprocessing, setting n_jobs=1\n",
      "  n_jobs = min(effective_n_jobs(n_jobs), n_estimators)\n"
     ]
    },
    {
     "name": "stdout",
     "output_type": "stream",
     "text": [
      "> Recording performance metrics\n",
      "Finished a fold.\n",
      "Starting a fold...\n",
      "> Assembling the datasets\n",
      "> Fitting the model on the training set\n",
      "> Predicting on the validation set\n"
     ]
    },
    {
     "name": "stderr",
     "output_type": "stream",
     "text": [
      "/shared/centos7/anaconda3/2022.05/lib/python3.9/site-packages/sklearn/ensemble/_base.py:194: UserWarning: Loky-backed parallel loops cannot be called in a multiprocessing, setting n_jobs=1\n",
      "  n_jobs = min(effective_n_jobs(n_jobs), n_estimators)\n"
     ]
    },
    {
     "name": "stdout",
     "output_type": "stream",
     "text": [
      "> Recording performance metrics\n",
      "Finished a fold.\n",
      "Starting a fold...\n",
      "> Assembling the datasets\n",
      "> Fitting the model on the training set\n",
      "> Predicting on the validation set\n"
     ]
    },
    {
     "name": "stderr",
     "output_type": "stream",
     "text": [
      "/shared/centos7/anaconda3/2022.05/lib/python3.9/site-packages/sklearn/ensemble/_base.py:194: UserWarning: Loky-backed parallel loops cannot be called in a multiprocessing, setting n_jobs=1\n",
      "  n_jobs = min(effective_n_jobs(n_jobs), n_estimators)\n"
     ]
    },
    {
     "name": "stdout",
     "output_type": "stream",
     "text": [
      "> Recording performance metrics\n",
      "Finished a fold.\n",
      "Starting a fold...\n",
      "> Assembling the datasets\n",
      "> Fitting the model on the training set\n",
      "> Predicting on the validation set\n"
     ]
    },
    {
     "name": "stderr",
     "output_type": "stream",
     "text": [
      "/shared/centos7/anaconda3/2022.05/lib/python3.9/site-packages/sklearn/ensemble/_base.py:194: UserWarning: Loky-backed parallel loops cannot be called in a multiprocessing, setting n_jobs=1\n",
      "  n_jobs = min(effective_n_jobs(n_jobs), n_estimators)\n"
     ]
    },
    {
     "name": "stdout",
     "output_type": "stream",
     "text": [
      "> Recording performance metrics\n",
      "Finished a fold.\n",
      "Starting a fold...\n",
      "> Assembling the datasets\n",
      "> Fitting the model on the training set\n",
      "> Predicting on the validation set\n"
     ]
    },
    {
     "name": "stderr",
     "output_type": "stream",
     "text": [
      "/shared/centos7/anaconda3/2022.05/lib/python3.9/site-packages/sklearn/ensemble/_base.py:194: UserWarning: Loky-backed parallel loops cannot be called in a multiprocessing, setting n_jobs=1\n",
      "  n_jobs = min(effective_n_jobs(n_jobs), n_estimators)\n"
     ]
    },
    {
     "name": "stdout",
     "output_type": "stream",
     "text": [
      "> Recording performance metrics\n",
      "Finished a fold.\n",
      "Find results in ../data/results/RF026_0.001_0.001_10SFH_14day_75_None.csv\n",
      "-- Process for ET026_0.001_0.001_10SFH_14day_75_None.csv --\n",
      "Starting a fold...\n",
      "> Assembling the datasets\n",
      "> Fitting the model on the training set\n",
      "> Predicting on the validation set\n"
     ]
    },
    {
     "name": "stderr",
     "output_type": "stream",
     "text": [
      "/shared/centos7/anaconda3/2022.05/lib/python3.9/site-packages/sklearn/ensemble/_base.py:194: UserWarning: Loky-backed parallel loops cannot be called in a multiprocessing, setting n_jobs=1\n",
      "  n_jobs = min(effective_n_jobs(n_jobs), n_estimators)\n"
     ]
    },
    {
     "name": "stdout",
     "output_type": "stream",
     "text": [
      "> Recording performance metrics\n",
      "Finished a fold.\n",
      "Starting a fold...\n",
      "> Assembling the datasets\n",
      "> Fitting the model on the training set\n",
      "> Predicting on the validation set\n"
     ]
    },
    {
     "name": "stderr",
     "output_type": "stream",
     "text": [
      "/shared/centos7/anaconda3/2022.05/lib/python3.9/site-packages/sklearn/ensemble/_base.py:194: UserWarning: Loky-backed parallel loops cannot be called in a multiprocessing, setting n_jobs=1\n",
      "  n_jobs = min(effective_n_jobs(n_jobs), n_estimators)\n"
     ]
    },
    {
     "name": "stdout",
     "output_type": "stream",
     "text": [
      "> Recording performance metrics\n",
      "Finished a fold.\n",
      "Starting a fold...\n",
      "> Assembling the datasets\n",
      "> Fitting the model on the training set\n",
      "> Predicting on the validation set\n"
     ]
    },
    {
     "name": "stderr",
     "output_type": "stream",
     "text": [
      "/shared/centos7/anaconda3/2022.05/lib/python3.9/site-packages/sklearn/ensemble/_base.py:194: UserWarning: Loky-backed parallel loops cannot be called in a multiprocessing, setting n_jobs=1\n",
      "  n_jobs = min(effective_n_jobs(n_jobs), n_estimators)\n"
     ]
    },
    {
     "name": "stdout",
     "output_type": "stream",
     "text": [
      "> Recording performance metrics\n",
      "Finished a fold.\n",
      "Starting a fold...\n",
      "> Assembling the datasets\n",
      "> Fitting the model on the training set\n",
      "> Predicting on the validation set\n"
     ]
    },
    {
     "name": "stderr",
     "output_type": "stream",
     "text": [
      "/shared/centos7/anaconda3/2022.05/lib/python3.9/site-packages/sklearn/ensemble/_base.py:194: UserWarning: Loky-backed parallel loops cannot be called in a multiprocessing, setting n_jobs=1\n",
      "  n_jobs = min(effective_n_jobs(n_jobs), n_estimators)\n"
     ]
    },
    {
     "name": "stdout",
     "output_type": "stream",
     "text": [
      "> Recording performance metrics\n",
      "Finished a fold.\n",
      "Starting a fold...\n",
      "> Assembling the datasets\n",
      "> Fitting the model on the training set\n",
      "> Predicting on the validation set\n"
     ]
    },
    {
     "name": "stderr",
     "output_type": "stream",
     "text": [
      "/shared/centos7/anaconda3/2022.05/lib/python3.9/site-packages/sklearn/ensemble/_base.py:194: UserWarning: Loky-backed parallel loops cannot be called in a multiprocessing, setting n_jobs=1\n",
      "  n_jobs = min(effective_n_jobs(n_jobs), n_estimators)\n"
     ]
    },
    {
     "name": "stdout",
     "output_type": "stream",
     "text": [
      "> Recording performance metrics\n",
      "Finished a fold.\n",
      "Find results in ../data/results/ET026_0.001_0.001_10SFH_14day_75_None.csv\n",
      "-- Process for RF027_0.001_0.001_10SFH_14day_75_None.csv --\n",
      "Starting a fold...\n",
      "> Assembling the datasets\n",
      "> Fitting the model on the training set\n",
      "> Predicting on the validation set\n"
     ]
    },
    {
     "name": "stderr",
     "output_type": "stream",
     "text": [
      "/shared/centos7/anaconda3/2022.05/lib/python3.9/site-packages/sklearn/ensemble/_base.py:194: UserWarning: Loky-backed parallel loops cannot be called in a multiprocessing, setting n_jobs=1\n",
      "  n_jobs = min(effective_n_jobs(n_jobs), n_estimators)\n"
     ]
    },
    {
     "name": "stdout",
     "output_type": "stream",
     "text": [
      "> Recording performance metrics\n",
      "Finished a fold.\n",
      "Starting a fold...\n",
      "> Assembling the datasets\n",
      "> Fitting the model on the training set\n",
      "> Predicting on the validation set\n"
     ]
    },
    {
     "name": "stderr",
     "output_type": "stream",
     "text": [
      "/shared/centos7/anaconda3/2022.05/lib/python3.9/site-packages/sklearn/ensemble/_base.py:194: UserWarning: Loky-backed parallel loops cannot be called in a multiprocessing, setting n_jobs=1\n",
      "  n_jobs = min(effective_n_jobs(n_jobs), n_estimators)\n"
     ]
    },
    {
     "name": "stdout",
     "output_type": "stream",
     "text": [
      "> Recording performance metrics\n",
      "Finished a fold.\n",
      "Starting a fold...\n",
      "> Assembling the datasets\n",
      "> Fitting the model on the training set\n",
      "> Predicting on the validation set\n"
     ]
    },
    {
     "name": "stderr",
     "output_type": "stream",
     "text": [
      "/shared/centos7/anaconda3/2022.05/lib/python3.9/site-packages/sklearn/ensemble/_base.py:194: UserWarning: Loky-backed parallel loops cannot be called in a multiprocessing, setting n_jobs=1\n",
      "  n_jobs = min(effective_n_jobs(n_jobs), n_estimators)\n"
     ]
    },
    {
     "name": "stdout",
     "output_type": "stream",
     "text": [
      "> Recording performance metrics\n",
      "Finished a fold.\n",
      "Starting a fold...\n",
      "> Assembling the datasets\n",
      "> Fitting the model on the training set\n",
      "> Predicting on the validation set\n"
     ]
    },
    {
     "name": "stderr",
     "output_type": "stream",
     "text": [
      "/shared/centos7/anaconda3/2022.05/lib/python3.9/site-packages/sklearn/ensemble/_base.py:194: UserWarning: Loky-backed parallel loops cannot be called in a multiprocessing, setting n_jobs=1\n",
      "  n_jobs = min(effective_n_jobs(n_jobs), n_estimators)\n"
     ]
    },
    {
     "name": "stdout",
     "output_type": "stream",
     "text": [
      "> Recording performance metrics\n",
      "Finished a fold.\n",
      "Starting a fold...\n",
      "> Assembling the datasets\n",
      "> Fitting the model on the training set\n",
      "> Predicting on the validation set\n"
     ]
    },
    {
     "name": "stderr",
     "output_type": "stream",
     "text": [
      "/shared/centos7/anaconda3/2022.05/lib/python3.9/site-packages/sklearn/ensemble/_base.py:194: UserWarning: Loky-backed parallel loops cannot be called in a multiprocessing, setting n_jobs=1\n",
      "  n_jobs = min(effective_n_jobs(n_jobs), n_estimators)\n"
     ]
    },
    {
     "name": "stdout",
     "output_type": "stream",
     "text": [
      "> Recording performance metrics\n",
      "Finished a fold.\n",
      "Find results in ../data/results/RF027_0.001_0.001_10SFH_14day_75_None.csv\n",
      "-- Process for ET027_0.001_0.001_10SFH_14day_75_None.csv --\n",
      "Starting a fold...\n",
      "> Assembling the datasets\n",
      "> Fitting the model on the training set\n",
      "> Predicting on the validation set\n"
     ]
    },
    {
     "name": "stderr",
     "output_type": "stream",
     "text": [
      "/shared/centos7/anaconda3/2022.05/lib/python3.9/site-packages/sklearn/ensemble/_base.py:194: UserWarning: Loky-backed parallel loops cannot be called in a multiprocessing, setting n_jobs=1\n",
      "  n_jobs = min(effective_n_jobs(n_jobs), n_estimators)\n"
     ]
    },
    {
     "name": "stdout",
     "output_type": "stream",
     "text": [
      "> Recording performance metrics\n",
      "Finished a fold.\n",
      "Starting a fold...\n",
      "> Assembling the datasets\n",
      "> Fitting the model on the training set\n",
      "> Predicting on the validation set\n"
     ]
    },
    {
     "name": "stderr",
     "output_type": "stream",
     "text": [
      "/shared/centos7/anaconda3/2022.05/lib/python3.9/site-packages/sklearn/ensemble/_base.py:194: UserWarning: Loky-backed parallel loops cannot be called in a multiprocessing, setting n_jobs=1\n",
      "  n_jobs = min(effective_n_jobs(n_jobs), n_estimators)\n"
     ]
    },
    {
     "name": "stdout",
     "output_type": "stream",
     "text": [
      "> Recording performance metrics\n",
      "Finished a fold.\n",
      "Starting a fold...\n",
      "> Assembling the datasets\n",
      "> Fitting the model on the training set\n",
      "> Predicting on the validation set\n"
     ]
    },
    {
     "name": "stderr",
     "output_type": "stream",
     "text": [
      "/shared/centos7/anaconda3/2022.05/lib/python3.9/site-packages/sklearn/ensemble/_base.py:194: UserWarning: Loky-backed parallel loops cannot be called in a multiprocessing, setting n_jobs=1\n",
      "  n_jobs = min(effective_n_jobs(n_jobs), n_estimators)\n"
     ]
    },
    {
     "name": "stdout",
     "output_type": "stream",
     "text": [
      "> Recording performance metrics\n",
      "Finished a fold.\n",
      "Starting a fold...\n",
      "> Assembling the datasets\n",
      "> Fitting the model on the training set\n",
      "> Predicting on the validation set\n"
     ]
    },
    {
     "name": "stderr",
     "output_type": "stream",
     "text": [
      "/shared/centos7/anaconda3/2022.05/lib/python3.9/site-packages/sklearn/ensemble/_base.py:194: UserWarning: Loky-backed parallel loops cannot be called in a multiprocessing, setting n_jobs=1\n",
      "  n_jobs = min(effective_n_jobs(n_jobs), n_estimators)\n"
     ]
    },
    {
     "name": "stdout",
     "output_type": "stream",
     "text": [
      "> Recording performance metrics\n",
      "Finished a fold.\n",
      "Starting a fold...\n",
      "> Assembling the datasets\n",
      "> Fitting the model on the training set\n",
      "> Predicting on the validation set\n"
     ]
    },
    {
     "name": "stderr",
     "output_type": "stream",
     "text": [
      "/shared/centos7/anaconda3/2022.05/lib/python3.9/site-packages/sklearn/ensemble/_base.py:194: UserWarning: Loky-backed parallel loops cannot be called in a multiprocessing, setting n_jobs=1\n",
      "  n_jobs = min(effective_n_jobs(n_jobs), n_estimators)\n"
     ]
    },
    {
     "name": "stdout",
     "output_type": "stream",
     "text": [
      "> Recording performance metrics\n",
      "Finished a fold.\n",
      "Find results in ../data/results/ET027_0.001_0.001_10SFH_14day_75_None.csv\n",
      "-- Process for RF028_0.001_0.001_10SFH_14day_75_None.csv --\n",
      "Starting a fold...\n",
      "> Assembling the datasets\n",
      "> Fitting the model on the training set\n",
      "> Predicting on the validation set\n"
     ]
    },
    {
     "name": "stderr",
     "output_type": "stream",
     "text": [
      "/shared/centos7/anaconda3/2022.05/lib/python3.9/site-packages/sklearn/ensemble/_base.py:194: UserWarning: Loky-backed parallel loops cannot be called in a multiprocessing, setting n_jobs=1\n",
      "  n_jobs = min(effective_n_jobs(n_jobs), n_estimators)\n"
     ]
    },
    {
     "name": "stdout",
     "output_type": "stream",
     "text": [
      "> Recording performance metrics\n",
      "Finished a fold.\n",
      "Starting a fold...\n",
      "> Assembling the datasets\n",
      "> Fitting the model on the training set\n",
      "> Predicting on the validation set\n"
     ]
    },
    {
     "name": "stderr",
     "output_type": "stream",
     "text": [
      "/shared/centos7/anaconda3/2022.05/lib/python3.9/site-packages/sklearn/ensemble/_base.py:194: UserWarning: Loky-backed parallel loops cannot be called in a multiprocessing, setting n_jobs=1\n",
      "  n_jobs = min(effective_n_jobs(n_jobs), n_estimators)\n"
     ]
    },
    {
     "name": "stdout",
     "output_type": "stream",
     "text": [
      "> Recording performance metrics\n",
      "Finished a fold.\n",
      "Starting a fold...\n",
      "> Assembling the datasets\n"
     ]
    }
   ],
   "source": [
    "if __name__=='__main__':\n",
    "    with mp.Pool(56) as pool:\n",
    "        manager = mp.Manager()\n",
    "        \n",
    "        models_bank = create_models_bank()\n",
    "        training_sample_size = 0.001\n",
    "        validation_sample_size = 0.001\n",
    "        \n",
    "        for tile_coiid in [('10SFH',75),('15TVG',1)]:\n",
    "            for scheme_name in ['14day','5day']:\n",
    "                for in_season in [160, 230, None]:\n",
    "                    for three_digit in models_bank.keys():\n",
    "\n",
    "                        ## Parameters dictionary p RANDOM FOREST\n",
    "                        p = {\n",
    "\n",
    "                        ## SPECIFY MODEL ##\n",
    "                        'model_name': 'RF' + three_digit,\n",
    "                        'model': RandomForestClassifier(**models_bank[three_digit]),\n",
    "                        'training_sample_size': training_sample_size,\n",
    "                        'validation_sample_size': validation_sample_size,\n",
    "\n",
    "                        ## SPECIFY TILE AND SCHEME ##\n",
    "                        'tile': tile_coiid[0],\n",
    "                        'years': [2018, 2019, 2020, 2021, 2022],\n",
    "                        'scheme_name': scheme_name,\n",
    "                        'crop_of_interest_id': tile_coiid[1], \n",
    "                        'in_season': in_season\n",
    "                        }\n",
    "\n",
    "                        #fit_predict_report(**p) # run with the above parameters\n",
    "                        pool.apply_async(fit_predict_report, args=p.values()).get()\n",
    "\n",
    "                        ## Parameters dictionary p EXTRA TREES\n",
    "                        p = {\n",
    "\n",
    "                        ## SPECIFY MODEL ##\n",
    "                        'model_name': 'ET' + three_digit,\n",
    "                        'model': ExtraTreesClassifier(**models_bank[three_digit]),\n",
    "                        'training_sample_size': training_sample_size,\n",
    "                        'validation_sample_size': validation_sample_size,\n",
    "\n",
    "                        ## SPECIFY TILE AND SCHEME ##\n",
    "                        'tile': tile_coiid[0],\n",
    "                        'years': [2018, 2019, 2020, 2021, 2022],\n",
    "                        'scheme_name': scheme_name,\n",
    "                        'crop_of_interest_id': tile_coiid[1], \n",
    "                        'in_season': in_season\n",
    "                        }\n",
    "\n",
    "                        pool.apply_async(fit_predict_report, args=p.values()).get()"
   ]
  },
  {
   "cell_type": "code",
   "execution_count": null,
   "id": "613ee819-78d8-4714-ae18-591adbb070a5",
   "metadata": {},
   "outputs": [],
   "source": []
  }
 ],
 "metadata": {
  "kernelspec": {
   "display_name": "Python 3 (ipykernel)",
   "language": "python",
   "name": "python3"
  },
  "language_info": {
   "codemirror_mode": {
    "name": "ipython",
    "version": 3
   },
   "file_extension": ".py",
   "mimetype": "text/x-python",
   "name": "python",
   "nbconvert_exporter": "python",
   "pygments_lexer": "ipython3",
   "version": "3.9.12"
  }
 },
 "nbformat": 4,
 "nbformat_minor": 5
}
