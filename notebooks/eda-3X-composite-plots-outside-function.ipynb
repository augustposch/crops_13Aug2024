{
 "cells": [
  {
   "cell_type": "markdown",
   "id": "696fc474",
   "metadata": {},
   "source": [
    "# *eda-3-composite-plots.ipynb*\n",
    "\n",
    "# Processing Reflectance data\n",
    "\n",
    "Results are saved (in folder data/figures)."
   ]
  },
  {
   "cell_type": "code",
   "execution_count": 1,
   "id": "532096da",
   "metadata": {},
   "outputs": [],
   "source": [
    "import numpy as np\n",
    "import matplotlib.pyplot as plt\n",
    "import os\n",
    "import rasterio\n",
    "from scipy.interpolate import CubicSpline\n",
    "import sys\n",
    "sys.path.append('../src/')\n",
    "import aposch_composite_interpolate as aci\n",
    "scheme_5day, scheme_14day = aci.get_period_schemes()"
   ]
  },
  {
   "cell_type": "markdown",
   "id": "fcd78a78",
   "metadata": {},
   "source": [
    "## Set parameters here"
   ]
  },
  {
   "cell_type": "code",
   "execution_count": 2,
   "id": "7a7715a5",
   "metadata": {},
   "outputs": [],
   "source": [
    "## SET PARAMETERS\n",
    "tile='15TVG'\n",
    "year=2018\n",
    "period_scheme=scheme_14day\n",
    "scheme_name='14day'"
   ]
  },
  {
   "cell_type": "markdown",
   "id": "1b5aa2a4",
   "metadata": {},
   "source": [
    "## Composite to periods\n",
    "\n",
    "This takes about an hour on August's laptop."
   ]
  },
  {
   "cell_type": "code",
   "execution_count": null,
   "id": "1ff28d59",
   "metadata": {},
   "outputs": [
    {
     "name": "stdout",
     "output_type": "stream",
     "text": [
      "Finished period ending DOY 90.\n",
      "Finished period ending DOY 104.\n",
      "A band file could not be read: ../data/hls_23feb23/L30/2018/15/T/V/G/HLS.L30.T15TVG.2018106T165256.v2.0/HLS.L30.T15TVG.2018106T165256.v2.0.B06.tif\n",
      "Marking that as bad data and continuing as normal with the rest of the files.\n",
      "Finished period ending DOY 118.\n",
      "Finished period ending DOY 132.\n",
      "Finished period ending DOY 146.\n",
      "Finished period ending DOY 160.\n",
      "Finished period ending DOY 174.\n",
      "Finished period ending DOY 188.\n",
      "Finished period ending DOY 202.\n",
      "Finished period ending DOY 216.\n",
      "Finished period ending DOY 230.\n",
      "Finished period ending DOY 244.\n",
      "Finished period ending DOY 258.\n",
      "Finished period ending DOY 272.\n",
      "Finished period ending DOY 286.\n"
     ]
    }
   ],
   "source": [
    "composited_tile_year = aci.composite_tile_year(tile=tile,\n",
    "                   year=year,\n",
    "                   period_scheme=period_scheme)\n",
    "\n",
    "features, feature_names = composited_tile_year"
   ]
  },
  {
   "cell_type": "markdown",
   "id": "61469875",
   "metadata": {},
   "source": [
    "## Reorganize features into a numpy array"
   ]
  },
  {
   "cell_type": "code",
   "execution_count": null,
   "id": "24061e6e",
   "metadata": {},
   "outputs": [],
   "source": [
    "visualize_missing_data(features, tile, year, scheme_name,\n",
    "                       save_loc = '../figures/eda-missing'):\n",
    "    print(f'Creating missing data visuals for {tile}_{year}_{scheme_name}...')"
   ]
  },
  {
   "cell_type": "code",
   "execution_count": null,
   "id": "7c2d3579",
   "metadata": {},
   "outputs": [],
   "source": [
    "n_pixels = len(features[0])\n",
    "n_features = len(features)    "
   ]
  },
  {
   "cell_type": "code",
   "execution_count": null,
   "id": "5d6a67b2",
   "metadata": {},
   "outputs": [],
   "source": [
    "missing_mask = np.empty(shape=(n_pixels,n_features),\n",
    "                        dtype='bool_')\n",
    "\n",
    "for j in range(n_features):\n",
    "    missing_mask[:,j] = np.array(features[j])==-9999"
   ]
  },
  {
   "cell_type": "markdown",
   "id": "3403a6cd",
   "metadata": {},
   "source": [
    "## Make one visual (heatmap)"
   ]
  },
  {
   "cell_type": "code",
   "execution_count": 6,
   "id": "d386cfb4",
   "metadata": {},
   "outputs": [],
   "source": [
    "pixelwise = missing_mask.sum(axis=1)\n",
    "# this is the number of missing features by pixel\n",
    "\n",
    "for_heatmap = pixelwise.reshape((3660,3660))"
   ]
  },
  {
   "cell_type": "code",
   "execution_count": 7,
   "id": "3c8b3e1a",
   "metadata": {},
   "outputs": [],
   "source": [
    "file_name = f'Heatmap_Missing_Refl_{tile}_{year}_{scheme_name}.png'\n",
    "\n",
    "plt.figure(figsize=(20, 20))\n",
    "plt.title(f'Heatmap: Missing features for Refl_{tile}_{year}_{scheme_name}',\n",
    "          size=28)\n",
    "plt.imshow(for_heatmap, cmap='OrRd',vmax=n_features)\n",
    "plt.colorbar()\n",
    "\n",
    "plt.savefig(f'{save_loc}/{file_name}', bbox_inches='tight')\n",
    "plt.close()"
   ]
  },
  {
   "cell_type": "markdown",
   "id": "70aeb6c1",
   "metadata": {},
   "source": [
    "## Make 2nd visual (histogram)"
   ]
  },
  {
   "cell_type": "code",
   "execution_count": 8,
   "id": "3d401129",
   "metadata": {},
   "outputs": [],
   "source": [
    "file_name = f'Histogram_Missing_Refl_{tile}_{year}_{scheme_name}.png'\n",
    "\n",
    "plt.rcParams.update({'font.size': 24})\n",
    "plt.figure(figsize=(15,15))\n",
    "plt.hist(pixelwise, bins=range(0,n_features//2,6), color=(1,0.4,0.1))\n",
    "plt.title(f'Histogram of Missing Features for Pixels in Refl_{tile}_{year}_{scheme_name}',\n",
    "          size=28)\n",
    "plt.ylabel('Nbr of pixels')\n",
    "plt.xlabel('Nbr of missing features')\n",
    "\n",
    "plt.savefig(f'{save_loc}/{file_name}', bbox_inches='tight')\n",
    "plt.close()"
   ]
  },
  {
   "cell_type": "markdown",
   "id": "d089d04f",
   "metadata": {},
   "source": [
    "## Make 3rd visual (bar chart)"
   ]
  },
  {
   "cell_type": "code",
   "execution_count": 9,
   "id": "a25b4362",
   "metadata": {},
   "outputs": [],
   "source": [
    "period_names = []\n",
    "period_values = []\n",
    "\n",
    "for period_id, period_tuple in enumerate(period_scheme):\n",
    "    period_names.append(f'{period_tuple[0]}-{period_tuple[1]}')\n",
    "    \n",
    "    slice_start = period_id * 6\n",
    "    slice_end = period_id * 6 + 6\n",
    "    pixelbands = 6 * n_pixels\n",
    "    value = missing_mask[:,slice_start:slice_end].sum() / pixelbands\n",
    "    \n",
    "    period_values.append(value)"
   ]
  },
  {
   "cell_type": "code",
   "execution_count": 10,
   "id": "d2ae5ff8",
   "metadata": {},
   "outputs": [],
   "source": [
    "file_name = f'Bar_Chart_Missing_Refl_{tile}_{year}_{scheme_name}.png'\n",
    "\n",
    "plt.figure(figsize=(20,10))\n",
    "plt.rcParams.update({'font.size': 20})\n",
    "plt.bar(period_names, period_values, color=(1,0.2,0.6))\n",
    "plt.title(f'Missing Data by Period for Refl_{tile}_{year}_{scheme_name}',\n",
    "          size=24)\n",
    "plt.ylabel('Percent missing pixel-bands')\n",
    "plt.xlabel('Period (DOY)')\n",
    "plt.xticks(rotation=45)\n",
    "\n",
    "plt.savefig(f'{save_loc}/{file_name}', bbox_inches='tight')\n",
    "plt.close()\n",
    "\n",
    "print(f'Finished missing data visuals for {tile}_{year}_{scheme_name}.')"
   ]
  }
 ],
 "metadata": {
  "kernelspec": {
   "display_name": "Python 3 (pygdal-skl)",
   "language": "python",
   "name": "pygdal-skl"
  },
  "language_info": {
   "codemirror_mode": {
    "name": "ipython",
    "version": 3
   },
   "file_extension": ".py",
   "mimetype": "text/x-python",
   "name": "python",
   "nbconvert_exporter": "python",
   "pygments_lexer": "ipython3",
   "version": "3.11.0"
  }
 },
 "nbformat": 4,
 "nbformat_minor": 5
}
