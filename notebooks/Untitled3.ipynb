{
 "cells": [
  {
   "cell_type": "code",
   "execution_count": 1,
   "id": "15f738c2-de66-4021-a912-1fd6476599b6",
   "metadata": {},
   "outputs": [],
   "source": [
    "import matplotlib.pyplot as plt"
   ]
  },
  {
   "cell_type": "code",
   "execution_count": 25,
   "id": "430f19cd-cf51-41ef-a23a-cdfd8f609b73",
   "metadata": {},
   "outputs": [
    {
     "data": {
      "text/plain": [
       "<matplotlib.legend.Legend at 0x2b908360eee0>"
      ]
     },
     "execution_count": 25,
     "metadata": {},
     "output_type": "execute_result"
    },
    {
     "data": {
      "image/png": "[encoded data removed]",
      "text/plain": [
       "<Figure size 432x288 with 1 Axes>"
      ]
     },
     "metadata": {
      "needs_background": "light"
     },
     "output_type": "display_data"
    }
   ],
   "source": [
    "plt.scatter([2],[4], color='red')\n",
    "plt.scatter([4],[6], color='blue')\n",
    "plt.scatter([3],[4], color='green')\n",
    "plt.scatter([4],[7], color='yellow')\n",
    "plt.scatter([2],[3], color='black')\n",
    "plt.scatter([4],[5], color='brown')\n",
    "leg = plt.legend(['a','b','c','d','e','f'])   \n",
    "handles = leg.legendHandles # this is a list of the symbols\n",
    "chosen_handles = handles[4:6] # we only want the 4th and 5th ones in the list\n",
    "plt.legend(chosen_handles, ['Flooded','Safe'])"
   ]
  },
  {
   "cell_type": "code",
   "execution_count": null,
   "id": "61f309d2-736d-4ac5-b1b9-c4bf305aa5fb",
   "metadata": {},
   "outputs": [],
   "source": []
  },
  {
   "cell_type": "code",
   "execution_count": null,
   "id": "390dfe5b-dcdd-479b-ba87-86c9753085e3",
   "metadata": {},
   "outputs": [],
   "source": []
  }
 ],
 "metadata": {
  "kernelspec": {
   "display_name": "Python 3 (ipykernel)",
   "language": "python",
   "name": "python3"
  },
  "language_info": {
   "codemirror_mode": {
    "name": "ipython",
    "version": 3
   },
   "file_extension": ".py",
   "mimetype": "text/x-python",
   "name": "python",
   "nbconvert_exporter": "python",
   "pygments_lexer": "ipython3",
   "version": "3.9.12"
  }
 },
 "nbformat": 4,
 "nbformat_minor": 5
}
