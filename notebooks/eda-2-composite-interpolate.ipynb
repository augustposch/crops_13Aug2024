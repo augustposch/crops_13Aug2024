{
 "cells": [
  {
   "cell_type": "markdown",
   "id": "696fc474",
   "metadata": {},
   "source": [
    "# *eda-2-composite-interpolate.ipynb*\n",
    "\n",
    "# Processing Reflectance data\n",
    "\n",
    "Produce NumPy arrays of reflectance observations. For a particular tile, year, and period scheme, the end result is a machine learning-ready dataset where each row is a pixel and each column is a reflectance for a band for a compositing period.\n",
    "\n",
    "This is computationally intensive, especially the interpolation using cubic splines, which occurs for each pixel and each band. There are just over 13 million pixels to process, and printouts will update you on progress. On August's laptop this takes a few hours.\n",
    "\n",
    "Results are saved (in folder data/composited_interpolated) as .npy files."
   ]
  },
  {
   "cell_type": "code",
   "execution_count": 19,
   "id": "532096da",
   "metadata": {},
   "outputs": [],
   "source": [
    "import numpy as np\n",
    "import os\n",
    "import rasterio\n",
    "from scipy.interpolate import CubicSpline\n",
    "import sys\n",
    "sys.path.append('../src/')\n",
    "import aposch_composite_interpolate as aci\n",
    "scheme_5day, scheme_14day = aci.get_period_schemes()"
   ]
  },
  {
   "cell_type": "markdown",
   "id": "fcd78a78",
   "metadata": {},
   "source": [
    "## Set parameters here"
   ]
  },
  {
   "cell_type": "code",
   "execution_count": 20,
   "id": "7a7715a5",
   "metadata": {},
   "outputs": [],
   "source": [
    "## SET PARAMETERS\n",
    "tile='10SFH'\n",
    "year=2022\n",
    "period_scheme=scheme_5day\n",
    "scheme_name='5day'"
   ]
  },
  {
   "cell_type": "markdown",
   "id": "1b5aa2a4",
   "metadata": {},
   "source": [
    "## Composite to periods\n",
    "\n",
    "This takes about an hour on August's laptop."
   ]
  },
  {
   "cell_type": "code",
   "execution_count": 21,
   "id": "1ff28d59",
   "metadata": {},
   "outputs": [
    {
     "name": "stdout",
     "output_type": "stream",
     "text": [
      "Finished period ending DOY 90.\n",
      "Finished period ending DOY 95.\n",
      "Finished period ending DOY 100.\n",
      "Finished period ending DOY 105.\n",
      "Finished period ending DOY 110.\n",
      "Finished period ending DOY 115.\n",
      "Finished period ending DOY 120.\n",
      "Finished period ending DOY 125.\n",
      "Finished period ending DOY 130.\n",
      "Finished period ending DOY 135.\n",
      "Finished period ending DOY 140.\n",
      "Finished period ending DOY 145.\n",
      "Finished period ending DOY 150.\n",
      "Finished period ending DOY 155.\n",
      "Finished period ending DOY 160.\n",
      "Finished period ending DOY 165.\n",
      "Finished period ending DOY 170.\n",
      "Finished period ending DOY 175.\n",
      "Finished period ending DOY 180.\n",
      "Finished period ending DOY 185.\n",
      "Finished period ending DOY 190.\n",
      "Finished period ending DOY 195.\n",
      "Finished period ending DOY 200.\n",
      "Finished period ending DOY 205.\n",
      "Finished period ending DOY 210.\n",
      "Finished period ending DOY 215.\n",
      "Finished period ending DOY 220.\n",
      "Finished period ending DOY 225.\n",
      "Finished period ending DOY 230.\n",
      "Finished period ending DOY 235.\n",
      "Finished period ending DOY 240.\n",
      "Finished period ending DOY 245.\n",
      "Finished period ending DOY 250.\n",
      "Finished period ending DOY 255.\n",
      "Finished period ending DOY 260.\n",
      "Finished period ending DOY 265.\n",
      "Finished period ending DOY 270.\n",
      "Finished period ending DOY 275.\n",
      "Finished period ending DOY 280.\n",
      "Finished period ending DOY 285.\n",
      "Finished period ending DOY 290.\n",
      "Finished period ending DOY 295.\n",
      "Finished period ending DOY 300.\n",
      "A band file could not be read: ../data/hls_23feb23/L30/2022/10/S/F/H/HLS.L30.T10SFH.2022323T184612.v2.0/HLS.L30.T10SFH.2022323T184612.v2.0.B05.tif\n",
      "Marking that as bad data and continuing as normal with the rest of the files.\n",
      "A band file could not be read: ../data/hls_23feb23/L30/2022/10/S/F/H/HLS.L30.T10SFH.2022331T184606.v2.0/HLS.L30.T10SFH.2022331T184606.v2.0.B04.tif\n",
      "Marking that as bad data and continuing as normal with the rest of the files.\n",
      "A band file could not be read: ../data/hls_23feb23/L30/2022/10/S/F/H/HLS.L30.T10SFH.2022331T184606.v2.0/HLS.L30.T10SFH.2022331T184606.v2.0.B06.tif\n",
      "Marking that as bad data and continuing as normal with the rest of the files.\n",
      "A band file could not be read: ../data/hls_23feb23/L30/2022/10/S/F/H/HLS.L30.T10SFH.2022347T184607.v2.0/HLS.L30.T10SFH.2022347T184607.v2.0.B06.tif\n",
      "Marking that as bad data and continuing as normal with the rest of the files.\n",
      "A band file could not be read: ../data/hls_23feb23/L30/2022/10/S/F/H/HLS.L30.T10SFH.2022348T183959.v2.0/HLS.L30.T10SFH.2022348T183959.v2.0.B05.tif\n",
      "Marking that as bad data and continuing as normal with the rest of the files.\n",
      "A band file could not be read: ../data/hls_23feb23/S30/2022/10/S/F/H/HLS.S30.T10SFH.2022354T185811.v2.0/HLS.S30.T10SFH.2022354T185811.v2.0.B11.tif\n",
      "Marking that as bad data and continuing as normal with the rest of the files.\n",
      "Finished period ending DOY 366.\n"
     ]
    }
   ],
   "source": [
    "composited_tile_year = aci.composite_tile_year(tile=tile,\n",
    "                   year=year,\n",
    "                   period_scheme=period_scheme)\n",
    "\n",
    "features, feature_names = composited_tile_year"
   ]
  },
  {
   "cell_type": "markdown",
   "id": "ff781cf9",
   "metadata": {},
   "source": [
    "Save the feature names:"
   ]
  },
  {
   "cell_type": "code",
   "execution_count": 22,
   "id": "e91d60ca",
   "metadata": {},
   "outputs": [],
   "source": [
    "np.save(f'../data/composited_interpolated/Refl_{tile}_{year}_{scheme_name}_Names.npy',\n",
    "        np.array(feature_names),\n",
    "        allow_pickle=False)"
   ]
  },
  {
   "cell_type": "markdown",
   "id": "914826f7",
   "metadata": {},
   "source": [
    "## Interpolate with a cubic spline to fill missing values\n",
    "\n",
    "This takes 3-6 hours on August's laptop."
   ]
  },
  {
   "cell_type": "code",
   "execution_count": 23,
   "id": "fdc07332",
   "metadata": {},
   "outputs": [
    {
     "name": "stdout",
     "output_type": "stream",
     "text": [
      "Sit tight! Fitting cubic splines on the 0th pixel...\n",
      "Sit tight! Fitting cubic splines on the 1000000th pixel...\n",
      "Sit tight! Fitting cubic splines on the 2000000th pixel...\n",
      "Sit tight! Fitting cubic splines on the 3000000th pixel...\n",
      "Sit tight! Fitting cubic splines on the 4000000th pixel...\n",
      "Sit tight! Fitting cubic splines on the 5000000th pixel...\n",
      "Sit tight! Fitting cubic splines on the 6000000th pixel...\n",
      "Sit tight! Fitting cubic splines on the 7000000th pixel...\n",
      "Sit tight! Fitting cubic splines on the 8000000th pixel...\n",
      "Sit tight! Fitting cubic splines on the 9000000th pixel...\n",
      "Sit tight! Fitting cubic splines on the 10000000th pixel...\n",
      "Sit tight! Fitting cubic splines on the 11000000th pixel...\n",
      "Sit tight! Fitting cubic splines on the 12000000th pixel...\n",
      "Sit tight! Fitting cubic splines on the 13000000th pixel...\n"
     ]
    }
   ],
   "source": [
    "array_new = aci.interpolate_cubic_spline(features)"
   ]
  },
  {
   "cell_type": "markdown",
   "id": "1f72b6ad",
   "metadata": {},
   "source": [
    "Save the processed array:"
   ]
  },
  {
   "cell_type": "code",
   "execution_count": 24,
   "id": "f6047f35",
   "metadata": {},
   "outputs": [],
   "source": [
    "np.save(f'../data/composited_interpolated/Refl_{tile}_{year}_{scheme_name}.npy',\n",
    "        array_new,\n",
    "        allow_pickle=False)"
   ]
  },
  {
   "cell_type": "code",
   "execution_count": null,
   "id": "2e1c2198",
   "metadata": {},
   "outputs": [],
   "source": []
  }
 ],
 "metadata": {
  "kernelspec": {
   "display_name": "Python 3 (ipykernel)",
   "language": "python",
   "name": "python3"
  },
  "language_info": {
   "codemirror_mode": {
    "name": "ipython",
    "version": 3
   },
   "file_extension": ".py",
   "mimetype": "text/x-python",
   "name": "python",
   "nbconvert_exporter": "python",
   "pygments_lexer": "ipython3",
   "version": "3.9.12"
  }
 },
 "nbformat": 4,
 "nbformat_minor": 5
}
